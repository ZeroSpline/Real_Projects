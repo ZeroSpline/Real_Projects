{
 "cells": [
  {
   "cell_type": "markdown",
   "id": "6e980283",
   "metadata": {},
   "source": [
    "## Загрузка данных"
   ]
  },
  {
   "cell_type": "code",
   "execution_count": 1,
   "id": "d99a8c10",
   "metadata": {},
   "outputs": [],
   "source": [
    "### загрузка библиотек pysrt, fuzzywuzzy и lightgbm"
   ]
  },
  {
   "cell_type": "code",
   "execution_count": 2,
   "id": "1c72e5e1",
   "metadata": {},
   "outputs": [
    {
     "name": "stdout",
     "output_type": "stream",
     "text": [
      "Requirement already satisfied: pysrt in c:\\users\\spline\\anaconda3\\envs\\ds_practicum_env\\lib\\site-packages (1.1.2)\n",
      "Requirement already satisfied: chardet in c:\\users\\spline\\anaconda3\\envs\\ds_practicum_env\\lib\\site-packages (from pysrt) (5.1.0)\n",
      "Note: you may need to restart the kernel to use updated packages.\n"
     ]
    }
   ],
   "source": [
    "pip install pysrt"
   ]
  },
  {
   "cell_type": "code",
   "execution_count": 3,
   "id": "09a9002b",
   "metadata": {
    "scrolled": false
   },
   "outputs": [
    {
     "name": "stdout",
     "output_type": "stream",
     "text": [
      "Requirement already satisfied: fuzzywuzzy[speedup] in c:\\users\\spline\\anaconda3\\envs\\ds_practicum_env\\lib\\site-packages (0.18.0)\n",
      "Requirement already satisfied: python-levenshtein>=0.12 in c:\\users\\spline\\anaconda3\\envs\\ds_practicum_env\\lib\\site-packages (from fuzzywuzzy[speedup]) (0.20.9)\n",
      "Requirement already satisfied: Levenshtein==0.20.9 in c:\\users\\spline\\anaconda3\\envs\\ds_practicum_env\\lib\\site-packages (from python-levenshtein>=0.12->fuzzywuzzy[speedup]) (0.20.9)\n",
      "Requirement already satisfied: rapidfuzz<3.0.0,>=2.3.0 in c:\\users\\spline\\anaconda3\\envs\\ds_practicum_env\\lib\\site-packages (from Levenshtein==0.20.9->python-levenshtein>=0.12->fuzzywuzzy[speedup]) (2.13.7)\n",
      "Note: you may need to restart the kernel to use updated packages.\n"
     ]
    }
   ],
   "source": [
    "pip install fuzzywuzzy[speedup]"
   ]
  },
  {
   "cell_type": "code",
   "execution_count": 4,
   "id": "d4dba933",
   "metadata": {},
   "outputs": [
    {
     "name": "stdout",
     "output_type": "stream",
     "text": [
      "Requirement already satisfied: lightgbm in c:\\users\\spline\\anaconda3\\envs\\ds_practicum_env\\lib\\site-packages (3.3.5)\n",
      "Requirement already satisfied: numpy in c:\\users\\spline\\anaconda3\\envs\\ds_practicum_env\\lib\\site-packages (from lightgbm) (1.20.1)\n",
      "Requirement already satisfied: wheel in c:\\users\\spline\\anaconda3\\envs\\ds_practicum_env\\lib\\site-packages (from lightgbm) (0.41.2)\n",
      "Requirement already satisfied: scikit-learn!=0.22.0 in c:\\users\\spline\\anaconda3\\envs\\ds_practicum_env\\lib\\site-packages (from lightgbm) (0.24.1)\n",
      "Requirement already satisfied: scipy in c:\\users\\spline\\anaconda3\\envs\\ds_practicum_env\\lib\\site-packages (from lightgbm) (1.8.0)\n",
      "Requirement already satisfied: threadpoolctl>=2.0.0 in c:\\users\\spline\\anaconda3\\envs\\ds_practicum_env\\lib\\site-packages (from scikit-learn!=0.22.0->lightgbm) (3.1.0)\n",
      "Requirement already satisfied: joblib>=0.11 in c:\\users\\spline\\anaconda3\\envs\\ds_practicum_env\\lib\\site-packages (from scikit-learn!=0.22.0->lightgbm) (1.2.0)\n",
      "Note: you may need to restart the kernel to use updated packages.\n"
     ]
    }
   ],
   "source": [
    "pip install lightgbm"
   ]
  },
  {
   "cell_type": "markdown",
   "id": "efe05065",
   "metadata": {},
   "source": [
    "### Импорт библиотек"
   ]
  },
  {
   "cell_type": "code",
   "execution_count": 5,
   "id": "86b897b3",
   "metadata": {},
   "outputs": [],
   "source": [
    "### импортирование библиотек для исследования\n",
    "import warnings\n",
    "warnings.filterwarnings('ignore')\n",
    "import pandas as pd\n",
    "import pysrt\n",
    "import re\n",
    "import os\n",
    "import nltk\n",
    "from nltk.corpus import stopwords\n",
    "from nltk.tokenize import word_tokenize\n",
    "from nltk.stem import WordNetLemmatizer\n",
    "from os import listdir, scandir\n",
    "from fuzzywuzzy import process\n",
    "from sklearn.model_selection import train_test_split\n",
    "from sklearn.feature_extraction.text import TfidfVectorizer\n",
    "from sklearn.metrics import accuracy_score\n",
    "from sklearn.naive_bayes import MultinomialNB\n",
    "from sklearn.linear_model import LogisticRegression\n",
    "from sklearn.model_selection import GridSearchCV\n",
    "from lightgbm import LGBMClassifier\n",
    "from sklearn.svm import LinearSVC\n",
    "from sklearn.ensemble import RandomForestClassifier\n",
    "import pickle\n",
    "import numpy as np "
   ]
  },
  {
   "cell_type": "markdown",
   "id": "8ff3aeb9",
   "metadata": {},
   "source": [
    "### Открытие и создание таблиц"
   ]
  },
  {
   "cell_type": "code",
   "execution_count": 6,
   "id": "ce848b28",
   "metadata": {},
   "outputs": [],
   "source": [
    "### cброс ограничений на количество выводимых рядов\n",
    "pd.set_option('display.max_rows', None)\n",
    "### cброс ограничений на число столбцов\n",
    "pd.set_option('display.max_columns', None)"
   ]
  },
  {
   "cell_type": "code",
   "execution_count": 7,
   "id": "c08b5ca5",
   "metadata": {
    "scrolled": false
   },
   "outputs": [
    {
     "data": {
      "text/html": [
       "<div>\n",
       "<style scoped>\n",
       "    .dataframe tbody tr th:only-of-type {\n",
       "        vertical-align: middle;\n",
       "    }\n",
       "\n",
       "    .dataframe tbody tr th {\n",
       "        vertical-align: top;\n",
       "    }\n",
       "\n",
       "    .dataframe thead th {\n",
       "        text-align: right;\n",
       "    }\n",
       "</style>\n",
       "<table border=\"1\" class=\"dataframe\">\n",
       "  <thead>\n",
       "    <tr style=\"text-align: right;\">\n",
       "      <th></th>\n",
       "      <th>movie</th>\n",
       "      <th>level</th>\n",
       "    </tr>\n",
       "  </thead>\n",
       "  <tbody>\n",
       "    <tr>\n",
       "      <th>0</th>\n",
       "      <td>Aladdin(1992)</td>\n",
       "      <td>A2</td>\n",
       "    </tr>\n",
       "    <tr>\n",
       "      <th>1</th>\n",
       "      <td>All_dogs_go_to_heaven(1989)</td>\n",
       "      <td>A2</td>\n",
       "    </tr>\n",
       "    <tr>\n",
       "      <th>2</th>\n",
       "      <td>An_American_tail(1986)</td>\n",
       "      <td>A2</td>\n",
       "    </tr>\n",
       "    <tr>\n",
       "      <th>3</th>\n",
       "      <td>Babe(1995)</td>\n",
       "      <td>A2</td>\n",
       "    </tr>\n",
       "    <tr>\n",
       "      <th>4</th>\n",
       "      <td>Back_to_the_future(1985)</td>\n",
       "      <td>A2</td>\n",
       "    </tr>\n",
       "  </tbody>\n",
       "</table>\n",
       "</div>"
      ],
      "text/plain": [
       "                         movie level\n",
       "0                Aladdin(1992)    A2\n",
       "1  All_dogs_go_to_heaven(1989)    A2\n",
       "2       An_American_tail(1986)    A2\n",
       "3                   Babe(1995)    A2\n",
       "4     Back_to_the_future(1985)    A2"
      ]
     },
     "metadata": {},
     "output_type": "display_data"
    },
    {
     "name": "stdout",
     "output_type": "stream",
     "text": [
      "<class 'pandas.core.frame.DataFrame'>\n",
      "RangeIndex: 263 entries, 0 to 262\n",
      "Data columns (total 2 columns):\n",
      " #   Column  Non-Null Count  Dtype \n",
      "---  ------  --------------  ----- \n",
      " 0   movie   263 non-null    object\n",
      " 1   level   263 non-null    object\n",
      "dtypes: object(2)\n",
      "memory usage: 4.2+ KB\n"
     ]
    },
    {
     "data": {
      "text/plain": [
       "None"
      ]
     },
     "metadata": {},
     "output_type": "display_data"
    }
   ],
   "source": [
    "### загрузка данных\n",
    "### создание собственной функции для обработки файлов\n",
    "def func_df(path, level):\n",
    "    add_df = pd.DataFrame(columns=['movie', 'level'])\n",
    "    for file in listdir(os.path.join(path, level)):\n",
    "        add_df.loc[len(add_df.index )] = [file, level]\n",
    "    return add_df\n",
    "### применение функции и вывод результата\n",
    "a2 = func_df(r'C:\\Users\\Spline\\Desktop\\Yandex Practicum\\Real_Projects\\20_masterskaya_(2)\\Subtitles_total', 'A2')\n",
    "b2 = func_df(r'C:\\Users\\Spline\\Desktop\\Yandex Practicum\\Real_Projects\\20_masterskaya_(2)\\Subtitles_total', 'B2')\n",
    "b1 = func_df(r'C:\\Users\\Spline\\Desktop\\Yandex Practicum\\Real_Projects\\20_masterskaya_(2)\\Subtitles_total', 'B1')\n",
    "c1 = func_df(r'C:\\Users\\Spline\\Desktop\\Yandex Practicum\\Real_Projects\\20_masterskaya_(2)\\Subtitles_total', 'C1')\n",
    "### создание таблицы с фильмами и категориями\n",
    "df = pd.concat([a2, b2, b1, c1],axis=0).reset_index(drop=True)\n",
    "### создание таблицы с названиями файлов\n",
    "file_names = pd.concat([a2, b2, b1, c1],axis=0).reset_index(drop=True).drop(['level'], axis=1)\n",
    "file_names.columns = ['file_srt_name']\n",
    "### собственная функция для удаления концовки названия файла\n",
    "def drop_srt(value):\n",
    "    value = str(value)\n",
    "    value = value[0:-4]\n",
    "    return value\n",
    "df['movie'] = df['movie'].apply(drop_srt)\n",
    "display(df.head(5))\n",
    "display(df.info())"
   ]
  },
  {
   "cell_type": "markdown",
   "id": "e9c45057",
   "metadata": {
    "scrolled": true
   },
   "source": [
    "## Предобработка и подготовка данных"
   ]
  },
  {
   "cell_type": "markdown",
   "id": "f1202acf",
   "metadata": {},
   "source": [
    "### Объединение таблиц"
   ]
  },
  {
   "cell_type": "code",
   "execution_count": 8,
   "id": "31203b19",
   "metadata": {
    "scrolled": true
   },
   "outputs": [
    {
     "data": {
      "text/html": [
       "<div>\n",
       "<style scoped>\n",
       "    .dataframe tbody tr th:only-of-type {\n",
       "        vertical-align: middle;\n",
       "    }\n",
       "\n",
       "    .dataframe tbody tr th {\n",
       "        vertical-align: top;\n",
       "    }\n",
       "\n",
       "    .dataframe thead th {\n",
       "        text-align: right;\n",
       "    }\n",
       "</style>\n",
       "<table border=\"1\" class=\"dataframe\">\n",
       "  <thead>\n",
       "    <tr style=\"text-align: right;\">\n",
       "      <th></th>\n",
       "      <th>movie</th>\n",
       "      <th>level</th>\n",
       "      <th>temp_match</th>\n",
       "    </tr>\n",
       "  </thead>\n",
       "  <tbody>\n",
       "    <tr>\n",
       "      <th>0</th>\n",
       "      <td>Aladdin(1992)</td>\n",
       "      <td>A2</td>\n",
       "      <td>Aladdin(1992).srt</td>\n",
       "    </tr>\n",
       "    <tr>\n",
       "      <th>1</th>\n",
       "      <td>All_dogs_go_to_heaven(1989)</td>\n",
       "      <td>A2</td>\n",
       "      <td>All_dogs_go_to_heaven(1989).srt</td>\n",
       "    </tr>\n",
       "    <tr>\n",
       "      <th>2</th>\n",
       "      <td>An_American_tail(1986)</td>\n",
       "      <td>A2</td>\n",
       "      <td>An_American_tail(1986).srt</td>\n",
       "    </tr>\n",
       "    <tr>\n",
       "      <th>3</th>\n",
       "      <td>Babe(1995)</td>\n",
       "      <td>A2</td>\n",
       "      <td>Babe(1995).srt</td>\n",
       "    </tr>\n",
       "    <tr>\n",
       "      <th>4</th>\n",
       "      <td>Back_to_the_future(1985)</td>\n",
       "      <td>A2</td>\n",
       "      <td>Back_to_the_future(1985).srt</td>\n",
       "    </tr>\n",
       "  </tbody>\n",
       "</table>\n",
       "</div>"
      ],
      "text/plain": [
       "                         movie level                       temp_match\n",
       "0                Aladdin(1992)    A2                Aladdin(1992).srt\n",
       "1  All_dogs_go_to_heaven(1989)    A2  All_dogs_go_to_heaven(1989).srt\n",
       "2       An_American_tail(1986)    A2       An_American_tail(1986).srt\n",
       "3                   Babe(1995)    A2                   Babe(1995).srt\n",
       "4     Back_to_the_future(1985)    A2     Back_to_the_future(1985).srt"
      ]
     },
     "execution_count": 8,
     "metadata": {},
     "output_type": "execute_result"
    }
   ],
   "source": [
    "### собственная функция для временного столбца\n",
    "def fuzzy_merge(df_1, df_2, key1, key2, threshold=90, limit=1):\n",
    "    # df_1 таблица слева для присоединения\n",
    "    # df_2 присоединяемая таблица справа\n",
    "    # key1 название столбца из первой таблицы\n",
    "    # key2 название столбца из второй таблциы\n",
    "    # threshold уровень сопоставления для двух таблиц (расстояние Левенштейна)\n",
    "    # limit количество совпадений\n",
    "    s = df_2[key2].tolist()\n",
    "    m = df_1[key1].apply(lambda x: process.extract(x, s, limit=limit))    \n",
    "    df_1['temp_match'] = m\n",
    "    m2 = df_1['temp_match'].apply(lambda x: ', '.join([i[0] for i in x if i[1] >= threshold]))\n",
    "    df_1['temp_match'] = m2\n",
    "    return df_1\n",
    "### применение функции\n",
    "df_temp = fuzzy_merge(df, file_names, 'movie', 'file_srt_name', threshold=90)\n",
    "df_temp = df_temp.drop(index=[36, 169, 225]).reset_index(drop=True)\n",
    "df_temp.head(5)"
   ]
  },
  {
   "cell_type": "markdown",
   "id": "97da6b4a",
   "metadata": {},
   "source": [
    "### Просмотр графика по категориям сложности"
   ]
  },
  {
   "cell_type": "code",
   "execution_count": 9,
   "id": "5e566e6e",
   "metadata": {
    "scrolled": false
   },
   "outputs": [
    {
     "data": {
      "text/plain": [
       "array(['A2', 'B2', 'B1', 'C1'], dtype=object)"
      ]
     },
     "metadata": {},
     "output_type": "display_data"
    },
    {
     "data": {
      "text/html": [
       "<div>\n",
       "<style scoped>\n",
       "    .dataframe tbody tr th:only-of-type {\n",
       "        vertical-align: middle;\n",
       "    }\n",
       "\n",
       "    .dataframe tbody tr th {\n",
       "        vertical-align: top;\n",
       "    }\n",
       "\n",
       "    .dataframe thead th {\n",
       "        text-align: right;\n",
       "    }\n",
       "</style>\n",
       "<table border=\"1\" class=\"dataframe\">\n",
       "  <thead>\n",
       "    <tr style=\"text-align: right;\">\n",
       "      <th></th>\n",
       "      <th>movie</th>\n",
       "    </tr>\n",
       "    <tr>\n",
       "      <th>level</th>\n",
       "      <th></th>\n",
       "    </tr>\n",
       "  </thead>\n",
       "  <tbody>\n",
       "    <tr>\n",
       "      <th>A2</th>\n",
       "      <td>36</td>\n",
       "    </tr>\n",
       "    <tr>\n",
       "      <th>B1</th>\n",
       "      <td>54</td>\n",
       "    </tr>\n",
       "    <tr>\n",
       "      <th>B2</th>\n",
       "      <td>130</td>\n",
       "    </tr>\n",
       "    <tr>\n",
       "      <th>C1</th>\n",
       "      <td>40</td>\n",
       "    </tr>\n",
       "  </tbody>\n",
       "</table>\n",
       "</div>"
      ],
      "text/plain": [
       "       movie\n",
       "level       \n",
       "A2        36\n",
       "B1        54\n",
       "B2       130\n",
       "C1        40"
      ]
     },
     "metadata": {},
     "output_type": "display_data"
    },
    {
     "data": {
      "image/png": "[encoded data removed]",
      "text/plain": [
       "<Figure size 640x480 with 1 Axes>"
      ]
     },
     "metadata": {},
     "output_type": "display_data"
    }
   ],
   "source": [
    "### выведем уникальные значения сложности фильма\n",
    "display(df_temp.level.unique())\n",
    "### сгруппируем данные по количеству фильмов в категории и построим график для наглядности\n",
    "df_temp_group = df_temp[['movie', 'level']]\n",
    "df_temp_group = df_temp_group.groupby(by='level').count()\n",
    "display(df_temp_group)\n",
    "df_temp_group.plot(xlabel='level', kind='bar');"
   ]
  },
  {
   "cell_type": "markdown",
   "id": "d4e5a853",
   "metadata": {},
   "source": [
    "### Обработка субтитров"
   ]
  },
  {
   "cell_type": "code",
   "execution_count": 10,
   "id": "37673723",
   "metadata": {
    "scrolled": false
   },
   "outputs": [
    {
     "data": {
      "text/plain": [
       "(36, 3)"
      ]
     },
     "metadata": {},
     "output_type": "display_data"
    },
    {
     "data": {
      "text/plain": [
       "(130, 3)"
      ]
     },
     "metadata": {},
     "output_type": "display_data"
    },
    {
     "data": {
      "text/plain": [
       "(54, 3)"
      ]
     },
     "metadata": {},
     "output_type": "display_data"
    },
    {
     "data": {
      "text/plain": [
       "(40, 3)"
      ]
     },
     "metadata": {},
     "output_type": "display_data"
    }
   ],
   "source": [
    "### подготовка таблиц по признакам\n",
    "df_a2 = df_temp.query('level == \"A2\"')\n",
    "df_b2 = df_temp.query('level == \"B2\"')\n",
    "df_b1 = df_temp.query('level == \"B1\"')\n",
    "df_c1 = df_temp.query('level == \"C1\"')\n",
    "### выведем результат\n",
    "display(df_a2.shape)\n",
    "display(df_b2.shape)\n",
    "display(df_b1.shape)\n",
    "display(df_c1.shape)"
   ]
  },
  {
   "cell_type": "code",
   "execution_count": 11,
   "id": "fce59b1b",
   "metadata": {},
   "outputs": [],
   "source": [
    "# nltk.download()"
   ]
  },
  {
   "cell_type": "code",
   "execution_count": 12,
   "id": "244623de",
   "metadata": {
    "scrolled": false
   },
   "outputs": [
    {
     "data": {
      "text/html": [
       "<div>\n",
       "<style scoped>\n",
       "    .dataframe tbody tr th:only-of-type {\n",
       "        vertical-align: middle;\n",
       "    }\n",
       "\n",
       "    .dataframe tbody tr th {\n",
       "        vertical-align: top;\n",
       "    }\n",
       "\n",
       "    .dataframe thead th {\n",
       "        text-align: right;\n",
       "    }\n",
       "</style>\n",
       "<table border=\"1\" class=\"dataframe\">\n",
       "  <thead>\n",
       "    <tr style=\"text-align: right;\">\n",
       "      <th></th>\n",
       "      <th>movie</th>\n",
       "      <th>level</th>\n",
       "      <th>temp_match</th>\n",
       "      <th>subs_words</th>\n",
       "    </tr>\n",
       "  </thead>\n",
       "  <tbody>\n",
       "    <tr>\n",
       "      <th>0</th>\n",
       "      <td>Aladdin(1992)</td>\n",
       "      <td>A2</td>\n",
       "      <td>Aladdin(1992).srt</td>\n",
       "      <td>oh come land faraway place caravan camel roam ...</td>\n",
       "    </tr>\n",
       "    <tr>\n",
       "      <th>1</th>\n",
       "      <td>All_dogs_go_to_heaven(1989)</td>\n",
       "      <td>A2</td>\n",
       "      <td>All_dogs_go_to_heaven(1989).srt</td>\n",
       "      <td>captioning made possible mgm home entertainmen...</td>\n",
       "    </tr>\n",
       "    <tr>\n",
       "      <th>2</th>\n",
       "      <td>An_American_tail(1986)</td>\n",
       "      <td>A2</td>\n",
       "      <td>An_American_tail(1986).srt</td>\n",
       "      <td>indistinct conversation laughing mama tanya fi...</td>\n",
       "    </tr>\n",
       "  </tbody>\n",
       "</table>\n",
       "</div>"
      ],
      "text/plain": [
       "                         movie level                       temp_match  \\\n",
       "0                Aladdin(1992)    A2                Aladdin(1992).srt   \n",
       "1  All_dogs_go_to_heaven(1989)    A2  All_dogs_go_to_heaven(1989).srt   \n",
       "2       An_American_tail(1986)    A2       An_American_tail(1986).srt   \n",
       "\n",
       "                                          subs_words  \n",
       "0  oh come land faraway place caravan camel roam ...  \n",
       "1  captioning made possible mgm home entertainmen...  \n",
       "2  indistinct conversation laughing mama tanya fi...  "
      ]
     },
     "metadata": {},
     "output_type": "display_data"
    },
    {
     "data": {
      "text/html": [
       "<div>\n",
       "<style scoped>\n",
       "    .dataframe tbody tr th:only-of-type {\n",
       "        vertical-align: middle;\n",
       "    }\n",
       "\n",
       "    .dataframe tbody tr th {\n",
       "        vertical-align: top;\n",
       "    }\n",
       "\n",
       "    .dataframe thead th {\n",
       "        text-align: right;\n",
       "    }\n",
       "</style>\n",
       "<table border=\"1\" class=\"dataframe\">\n",
       "  <thead>\n",
       "    <tr style=\"text-align: right;\">\n",
       "      <th></th>\n",
       "      <th>movie</th>\n",
       "      <th>level</th>\n",
       "      <th>temp_match</th>\n",
       "      <th>subs_words</th>\n",
       "    </tr>\n",
       "  </thead>\n",
       "  <tbody>\n",
       "    <tr>\n",
       "      <th>36</th>\n",
       "      <td>A_knights_tale(2001)</td>\n",
       "      <td>B2</td>\n",
       "      <td>A_knights_tale(2001).srt</td>\n",
       "      <td>resync xenzai nef retail help due list two min...</td>\n",
       "    </tr>\n",
       "    <tr>\n",
       "      <th>37</th>\n",
       "      <td>A_star_is_born(2018)</td>\n",
       "      <td>B2</td>\n",
       "      <td>A_star_is_born(2018).srt</td>\n",
       "      <td>synced corrected mrcjnthn get x99 black eye op...</td>\n",
       "    </tr>\n",
       "    <tr>\n",
       "      <th>38</th>\n",
       "      <td>Beauty_and_the_beast(2017)</td>\n",
       "      <td>B2</td>\n",
       "      <td>Beauty_and_the_beast(2017).srt</td>\n",
       "      <td>upon time hidden heart france handsome young p...</td>\n",
       "    </tr>\n",
       "  </tbody>\n",
       "</table>\n",
       "</div>"
      ],
      "text/plain": [
       "                         movie level                      temp_match  \\\n",
       "36        A_knights_tale(2001)    B2        A_knights_tale(2001).srt   \n",
       "37        A_star_is_born(2018)    B2        A_star_is_born(2018).srt   \n",
       "38  Beauty_and_the_beast(2017)    B2  Beauty_and_the_beast(2017).srt   \n",
       "\n",
       "                                           subs_words  \n",
       "36  resync xenzai nef retail help due list two min...  \n",
       "37  synced corrected mrcjnthn get x99 black eye op...  \n",
       "38  upon time hidden heart france handsome young p...  "
      ]
     },
     "metadata": {},
     "output_type": "display_data"
    },
    {
     "data": {
      "text/html": [
       "<div>\n",
       "<style scoped>\n",
       "    .dataframe tbody tr th:only-of-type {\n",
       "        vertical-align: middle;\n",
       "    }\n",
       "\n",
       "    .dataframe tbody tr th {\n",
       "        vertical-align: top;\n",
       "    }\n",
       "\n",
       "    .dataframe thead th {\n",
       "        text-align: right;\n",
       "    }\n",
       "</style>\n",
       "<table border=\"1\" class=\"dataframe\">\n",
       "  <thead>\n",
       "    <tr style=\"text-align: right;\">\n",
       "      <th></th>\n",
       "      <th>movie</th>\n",
       "      <th>level</th>\n",
       "      <th>temp_match</th>\n",
       "      <th>subs_words</th>\n",
       "    </tr>\n",
       "  </thead>\n",
       "  <tbody>\n",
       "    <tr>\n",
       "      <th>166</th>\n",
       "      <td>10_Cloverfield_lane(2016)</td>\n",
       "      <td>B1</td>\n",
       "      <td>10_Cloverfield_lane(2016).srt</td>\n",
       "      <td>fixed synced bozxphd enjoy flick clanging draw...</td>\n",
       "    </tr>\n",
       "    <tr>\n",
       "      <th>167</th>\n",
       "      <td>10_things_I_hate_about_you(1999)</td>\n",
       "      <td>B1</td>\n",
       "      <td>10_things_I_hate_about_you(1999).srt</td>\n",
       "      <td>hey right cameron go nine school 1 0 year army...</td>\n",
       "    </tr>\n",
       "    <tr>\n",
       "      <th>168</th>\n",
       "      <td>Angelas.Christmas.Wish.2020</td>\n",
       "      <td>B1</td>\n",
       "      <td>Angelas.Christmas.Wish.2020.srt</td>\n",
       "      <td>going come angela mind sheep dada want hear so...</td>\n",
       "    </tr>\n",
       "  </tbody>\n",
       "</table>\n",
       "</div>"
      ],
      "text/plain": [
       "                                movie level  \\\n",
       "166         10_Cloverfield_lane(2016)    B1   \n",
       "167  10_things_I_hate_about_you(1999)    B1   \n",
       "168       Angelas.Christmas.Wish.2020    B1   \n",
       "\n",
       "                               temp_match  \\\n",
       "166         10_Cloverfield_lane(2016).srt   \n",
       "167  10_things_I_hate_about_you(1999).srt   \n",
       "168       Angelas.Christmas.Wish.2020.srt   \n",
       "\n",
       "                                            subs_words  \n",
       "166  fixed synced bozxphd enjoy flick clanging draw...  \n",
       "167  hey right cameron go nine school 1 0 year army...  \n",
       "168  going come angela mind sheep dada want hear so...  "
      ]
     },
     "metadata": {},
     "output_type": "display_data"
    },
    {
     "data": {
      "text/html": [
       "<div>\n",
       "<style scoped>\n",
       "    .dataframe tbody tr th:only-of-type {\n",
       "        vertical-align: middle;\n",
       "    }\n",
       "\n",
       "    .dataframe tbody tr th {\n",
       "        vertical-align: top;\n",
       "    }\n",
       "\n",
       "    .dataframe thead th {\n",
       "        text-align: right;\n",
       "    }\n",
       "</style>\n",
       "<table border=\"1\" class=\"dataframe\">\n",
       "  <thead>\n",
       "    <tr style=\"text-align: right;\">\n",
       "      <th></th>\n",
       "      <th>movie</th>\n",
       "      <th>level</th>\n",
       "      <th>temp_match</th>\n",
       "      <th>subs_words</th>\n",
       "    </tr>\n",
       "  </thead>\n",
       "  <tbody>\n",
       "    <tr>\n",
       "      <th>220</th>\n",
       "      <td>Banking_On_Bitcoin(2016)</td>\n",
       "      <td>C1</td>\n",
       "      <td>Banking_On_Bitcoin(2016).srt</td>\n",
       "      <td>downloaded yts mx official yify movie site yts...</td>\n",
       "    </tr>\n",
       "    <tr>\n",
       "      <th>221</th>\n",
       "      <td>Bridget_Joness_Baby</td>\n",
       "      <td>C1</td>\n",
       "      <td>Bridget_Joness_Baby.srt</td>\n",
       "      <td>happy birthday happy birthday hell end fuck bi...</td>\n",
       "    </tr>\n",
       "    <tr>\n",
       "      <th>222</th>\n",
       "      <td>Downton Abbey - S01E01 - Episode 1.eng.SDH</td>\n",
       "      <td>C1</td>\n",
       "      <td>Downton Abbey - S01E01 - Episode 1.eng.SDH.srt</td>\n",
       "      <td>telegraph machine beeping train whistle blowin...</td>\n",
       "    </tr>\n",
       "  </tbody>\n",
       "</table>\n",
       "</div>"
      ],
      "text/plain": [
       "                                          movie level  \\\n",
       "220                    Banking_On_Bitcoin(2016)    C1   \n",
       "221                         Bridget_Joness_Baby    C1   \n",
       "222  Downton Abbey - S01E01 - Episode 1.eng.SDH    C1   \n",
       "\n",
       "                                         temp_match  \\\n",
       "220                    Banking_On_Bitcoin(2016).srt   \n",
       "221                         Bridget_Joness_Baby.srt   \n",
       "222  Downton Abbey - S01E01 - Episode 1.eng.SDH.srt   \n",
       "\n",
       "                                            subs_words  \n",
       "220  downloaded yts mx official yify movie site yts...  \n",
       "221  happy birthday happy birthday hell end fuck bi...  \n",
       "222  telegraph machine beeping train whistle blowin...  "
      ]
     },
     "metadata": {},
     "output_type": "display_data"
    }
   ],
   "source": [
    "### подготовка стоп слов\n",
    "stop_words = stopwords.words('english')\n",
    "stop_words.remove('not')\n",
    "### подготовка лемматизатора\n",
    "lemmatizer = WordNetLemmatizer()\n",
    "### собственная функция для обработки субтитров\n",
    "def subs_func(row):\n",
    "    value = row['temp_match']\n",
    "    level = row['level']   \n",
    "    directory = r'C:\\Users\\Spline\\Desktop\\Yandex Practicum\\Real_Projects\\20_masterskaya_(2)\\Subtitles_total'\n",
    "    file = os.path.join(directory, level, value)\n",
    "    review = str((pysrt.open(file, encoding='iso-8859-1')).text.split('\\n')) # открытие файла с субтитрами\n",
    "    review = re.sub(re.compile('<.*?>'), '', review) # убираем html тэги\n",
    "    review = re.sub('[^A-Za-z0-9]+', ' ', review) # оставляем слова\n",
    "    review = review.lower() # изменяем регистр на строчной\n",
    "    tokens = nltk.word_tokenize(review) # токенизация (разбиение текста на отдельные слова)\n",
    "    review = [word for word in tokens if word not in stop_words] # убираем стоп слова\n",
    "    review = [lemmatizer.lemmatize(word) for word in review] # лемматизация (начальные формы слов)\n",
    "    review = ' '.join(review).split() # разделение слов\n",
    "    review = ' '.join(map(str, review))\n",
    "#     review = review[5:-1] # убираем лишние первые пять слов\n",
    "    return review\n",
    "\n",
    "### применение функции\n",
    "df_a2['subs_words'] = df_a2.apply(subs_func, axis=1)\n",
    "display(df_a2.head(3))\n",
    "df_b2['subs_words'] = df_b2.apply(subs_func, axis=1)\n",
    "display(df_b2.head(3))\n",
    "df_b1['subs_words'] = df_b1.apply(subs_func, axis=1)\n",
    "display(df_b1.head(3))\n",
    "df_c1['subs_words'] = df_c1.apply(subs_func, axis=1)\n",
    "display(df_c1.head(3))"
   ]
  },
  {
   "cell_type": "markdown",
   "id": "cb2d4281",
   "metadata": {},
   "source": [
    "### Расчет статистических метрик"
   ]
  },
  {
   "cell_type": "code",
   "execution_count": 13,
   "id": "22863120",
   "metadata": {
    "scrolled": false
   },
   "outputs": [
    {
     "data": {
      "text/html": [
       "<div>\n",
       "<style scoped>\n",
       "    .dataframe tbody tr th:only-of-type {\n",
       "        vertical-align: middle;\n",
       "    }\n",
       "\n",
       "    .dataframe tbody tr th {\n",
       "        vertical-align: top;\n",
       "    }\n",
       "\n",
       "    .dataframe thead th {\n",
       "        text-align: right;\n",
       "    }\n",
       "</style>\n",
       "<table border=\"1\" class=\"dataframe\">\n",
       "  <thead>\n",
       "    <tr style=\"text-align: right;\">\n",
       "      <th></th>\n",
       "      <th>movie</th>\n",
       "      <th>level</th>\n",
       "      <th>temp_match</th>\n",
       "      <th>subs_words</th>\n",
       "      <th>subs_stats</th>\n",
       "    </tr>\n",
       "  </thead>\n",
       "  <tbody>\n",
       "    <tr>\n",
       "      <th>0</th>\n",
       "      <td>Aladdin(1992)</td>\n",
       "      <td>A2</td>\n",
       "      <td>Aladdin(1992).srt</td>\n",
       "      <td>oh come land faraway place caravan camel roam ...</td>\n",
       "      <td>[26103, 35, 1, 2882, 1450, 38, 682]</td>\n",
       "    </tr>\n",
       "    <tr>\n",
       "      <th>1</th>\n",
       "      <td>All_dogs_go_to_heaven(1989)</td>\n",
       "      <td>A2</td>\n",
       "      <td>All_dogs_go_to_heaven(1989).srt</td>\n",
       "      <td>captioning made possible mgm home entertainmen...</td>\n",
       "      <td>[24290, 35, 1, 3261, 1099, 18, 555]</td>\n",
       "    </tr>\n",
       "    <tr>\n",
       "      <th>2</th>\n",
       "      <td>An_American_tail(1986)</td>\n",
       "      <td>A2</td>\n",
       "      <td>An_American_tail(1986).srt</td>\n",
       "      <td>indistinct conversation laughing mama tanya fi...</td>\n",
       "      <td>[18714, 36, 1, 2207, 986, 33, 365]</td>\n",
       "    </tr>\n",
       "  </tbody>\n",
       "</table>\n",
       "</div>"
      ],
      "text/plain": [
       "                         movie level                       temp_match  \\\n",
       "0                Aladdin(1992)    A2                Aladdin(1992).srt   \n",
       "1  All_dogs_go_to_heaven(1989)    A2  All_dogs_go_to_heaven(1989).srt   \n",
       "2       An_American_tail(1986)    A2       An_American_tail(1986).srt   \n",
       "\n",
       "                                          subs_words  \\\n",
       "0  oh come land faraway place caravan camel roam ...   \n",
       "1  captioning made possible mgm home entertainmen...   \n",
       "2  indistinct conversation laughing mama tanya fi...   \n",
       "\n",
       "                            subs_stats  \n",
       "0  [26103, 35, 1, 2882, 1450, 38, 682]  \n",
       "1  [24290, 35, 1, 3261, 1099, 18, 555]  \n",
       "2   [18714, 36, 1, 2207, 986, 33, 365]  "
      ]
     },
     "metadata": {},
     "output_type": "display_data"
    },
    {
     "data": {
      "text/html": [
       "<div>\n",
       "<style scoped>\n",
       "    .dataframe tbody tr th:only-of-type {\n",
       "        vertical-align: middle;\n",
       "    }\n",
       "\n",
       "    .dataframe tbody tr th {\n",
       "        vertical-align: top;\n",
       "    }\n",
       "\n",
       "    .dataframe thead th {\n",
       "        text-align: right;\n",
       "    }\n",
       "</style>\n",
       "<table border=\"1\" class=\"dataframe\">\n",
       "  <thead>\n",
       "    <tr style=\"text-align: right;\">\n",
       "      <th></th>\n",
       "      <th>movie</th>\n",
       "      <th>level</th>\n",
       "      <th>temp_match</th>\n",
       "      <th>subs_words</th>\n",
       "      <th>subs_stats</th>\n",
       "    </tr>\n",
       "  </thead>\n",
       "  <tbody>\n",
       "    <tr>\n",
       "      <th>36</th>\n",
       "      <td>A_knights_tale(2001)</td>\n",
       "      <td>B2</td>\n",
       "      <td>A_knights_tale(2001).srt</td>\n",
       "      <td>resync xenzai nef retail help due list two min...</td>\n",
       "      <td>[21911, 32, 1, 2277, 1259, 44, 442]</td>\n",
       "    </tr>\n",
       "    <tr>\n",
       "      <th>37</th>\n",
       "      <td>A_star_is_born(2018)</td>\n",
       "      <td>B2</td>\n",
       "      <td>A_star_is_born(2018).srt</td>\n",
       "      <td>synced corrected mrcjnthn get x99 black eye op...</td>\n",
       "      <td>[35223, 37, 1, 4904, 1451, 37, 772]</td>\n",
       "    </tr>\n",
       "    <tr>\n",
       "      <th>38</th>\n",
       "      <td>Beauty_and_the_beast(2017)</td>\n",
       "      <td>B2</td>\n",
       "      <td>Beauty_and_the_beast(2017).srt</td>\n",
       "      <td>upon time hidden heart france handsome young p...</td>\n",
       "      <td>[26149, 30, 1, 2954, 1375, 44, 635]</td>\n",
       "    </tr>\n",
       "  </tbody>\n",
       "</table>\n",
       "</div>"
      ],
      "text/plain": [
       "                         movie level                      temp_match  \\\n",
       "36        A_knights_tale(2001)    B2        A_knights_tale(2001).srt   \n",
       "37        A_star_is_born(2018)    B2        A_star_is_born(2018).srt   \n",
       "38  Beauty_and_the_beast(2017)    B2  Beauty_and_the_beast(2017).srt   \n",
       "\n",
       "                                           subs_words  \\\n",
       "36  resync xenzai nef retail help due list two min...   \n",
       "37  synced corrected mrcjnthn get x99 black eye op...   \n",
       "38  upon time hidden heart france handsome young p...   \n",
       "\n",
       "                             subs_stats  \n",
       "36  [21911, 32, 1, 2277, 1259, 44, 442]  \n",
       "37  [35223, 37, 1, 4904, 1451, 37, 772]  \n",
       "38  [26149, 30, 1, 2954, 1375, 44, 635]  "
      ]
     },
     "metadata": {},
     "output_type": "display_data"
    },
    {
     "data": {
      "text/html": [
       "<div>\n",
       "<style scoped>\n",
       "    .dataframe tbody tr th:only-of-type {\n",
       "        vertical-align: middle;\n",
       "    }\n",
       "\n",
       "    .dataframe tbody tr th {\n",
       "        vertical-align: top;\n",
       "    }\n",
       "\n",
       "    .dataframe thead th {\n",
       "        text-align: right;\n",
       "    }\n",
       "</style>\n",
       "<table border=\"1\" class=\"dataframe\">\n",
       "  <thead>\n",
       "    <tr style=\"text-align: right;\">\n",
       "      <th></th>\n",
       "      <th>movie</th>\n",
       "      <th>level</th>\n",
       "      <th>temp_match</th>\n",
       "      <th>subs_words</th>\n",
       "      <th>subs_stats</th>\n",
       "    </tr>\n",
       "  </thead>\n",
       "  <tbody>\n",
       "    <tr>\n",
       "      <th>166</th>\n",
       "      <td>10_Cloverfield_lane(2016)</td>\n",
       "      <td>B1</td>\n",
       "      <td>10_Cloverfield_lane(2016).srt</td>\n",
       "      <td>fixed synced bozxphd enjoy flick clanging draw...</td>\n",
       "      <td>[17202, 30, 1, 1564, 1072, 47, 397]</td>\n",
       "    </tr>\n",
       "    <tr>\n",
       "      <th>167</th>\n",
       "      <td>10_things_I_hate_about_you(1999)</td>\n",
       "      <td>B1</td>\n",
       "      <td>10_things_I_hate_about_you(1999).srt</td>\n",
       "      <td>hey right cameron go nine school 1 0 year army...</td>\n",
       "      <td>[23741, 36, 1, 2710, 1233, 50, 499]</td>\n",
       "    </tr>\n",
       "    <tr>\n",
       "      <th>168</th>\n",
       "      <td>Angelas.Christmas.Wish.2020</td>\n",
       "      <td>B1</td>\n",
       "      <td>Angelas.Christmas.Wish.2020.srt</td>\n",
       "      <td>going come angela mind sheep dada want hear so...</td>\n",
       "      <td>[8613, 29, 1, 1087, 428, 3, 173]</td>\n",
       "    </tr>\n",
       "  </tbody>\n",
       "</table>\n",
       "</div>"
      ],
      "text/plain": [
       "                                movie level  \\\n",
       "166         10_Cloverfield_lane(2016)    B1   \n",
       "167  10_things_I_hate_about_you(1999)    B1   \n",
       "168       Angelas.Christmas.Wish.2020    B1   \n",
       "\n",
       "                               temp_match  \\\n",
       "166         10_Cloverfield_lane(2016).srt   \n",
       "167  10_things_I_hate_about_you(1999).srt   \n",
       "168       Angelas.Christmas.Wish.2020.srt   \n",
       "\n",
       "                                            subs_words  \\\n",
       "166  fixed synced bozxphd enjoy flick clanging draw...   \n",
       "167  hey right cameron go nine school 1 0 year army...   \n",
       "168  going come angela mind sheep dada want hear so...   \n",
       "\n",
       "                              subs_stats  \n",
       "166  [17202, 30, 1, 1564, 1072, 47, 397]  \n",
       "167  [23741, 36, 1, 2710, 1233, 50, 499]  \n",
       "168     [8613, 29, 1, 1087, 428, 3, 173]  "
      ]
     },
     "metadata": {},
     "output_type": "display_data"
    },
    {
     "data": {
      "text/html": [
       "<div>\n",
       "<style scoped>\n",
       "    .dataframe tbody tr th:only-of-type {\n",
       "        vertical-align: middle;\n",
       "    }\n",
       "\n",
       "    .dataframe tbody tr th {\n",
       "        vertical-align: top;\n",
       "    }\n",
       "\n",
       "    .dataframe thead th {\n",
       "        text-align: right;\n",
       "    }\n",
       "</style>\n",
       "<table border=\"1\" class=\"dataframe\">\n",
       "  <thead>\n",
       "    <tr style=\"text-align: right;\">\n",
       "      <th></th>\n",
       "      <th>movie</th>\n",
       "      <th>level</th>\n",
       "      <th>temp_match</th>\n",
       "      <th>subs_words</th>\n",
       "      <th>subs_stats</th>\n",
       "    </tr>\n",
       "  </thead>\n",
       "  <tbody>\n",
       "    <tr>\n",
       "      <th>220</th>\n",
       "      <td>Banking_On_Bitcoin(2016)</td>\n",
       "      <td>C1</td>\n",
       "      <td>Banking_On_Bitcoin(2016).srt</td>\n",
       "      <td>downloaded yts mx official yify movie site yts...</td>\n",
       "      <td>[41929, 37, 1, 2950, 2900, 218, 980]</td>\n",
       "    </tr>\n",
       "    <tr>\n",
       "      <th>221</th>\n",
       "      <td>Bridget_Joness_Baby</td>\n",
       "      <td>C1</td>\n",
       "      <td>Bridget_Joness_Baby.srt</td>\n",
       "      <td>happy birthday happy birthday hell end fuck bi...</td>\n",
       "      <td>[34473, 37, 1, 3462, 1944, 124, 768]</td>\n",
       "    </tr>\n",
       "    <tr>\n",
       "      <th>222</th>\n",
       "      <td>Downton Abbey - S01E01 - Episode 1.eng.SDH</td>\n",
       "      <td>C1</td>\n",
       "      <td>Downton Abbey - S01E01 - Episode 1.eng.SDH.srt</td>\n",
       "      <td>telegraph machine beeping train whistle blowin...</td>\n",
       "      <td>[21569, 33, 1, 2240, 1227, 36, 421]</td>\n",
       "    </tr>\n",
       "  </tbody>\n",
       "</table>\n",
       "</div>"
      ],
      "text/plain": [
       "                                          movie level  \\\n",
       "220                    Banking_On_Bitcoin(2016)    C1   \n",
       "221                         Bridget_Joness_Baby    C1   \n",
       "222  Downton Abbey - S01E01 - Episode 1.eng.SDH    C1   \n",
       "\n",
       "                                         temp_match  \\\n",
       "220                    Banking_On_Bitcoin(2016).srt   \n",
       "221                         Bridget_Joness_Baby.srt   \n",
       "222  Downton Abbey - S01E01 - Episode 1.eng.SDH.srt   \n",
       "\n",
       "                                            subs_words  \\\n",
       "220  downloaded yts mx official yify movie site yts...   \n",
       "221  happy birthday happy birthday hell end fuck bi...   \n",
       "222  telegraph machine beeping train whistle blowin...   \n",
       "\n",
       "                               subs_stats  \n",
       "220  [41929, 37, 1, 2950, 2900, 218, 980]  \n",
       "221  [34473, 37, 1, 3462, 1944, 124, 768]  \n",
       "222   [21569, 33, 1, 2240, 1227, 36, 421]  "
      ]
     },
     "metadata": {},
     "output_type": "display_data"
    }
   ],
   "source": [
    "### дополнительная собственная функция для расчета статистик\n",
    "def subs_func_stats(row):\n",
    "    stats_list = []\n",
    "    words = str(row['subs_words'])\n",
    "    # расчет количества слов\n",
    "    count_words = len(words)\n",
    "    stats_list.append(count_words)\n",
    "    # расчет количества уникальных слов\n",
    "    unique_words = set(words)\n",
    "    stats_list.append(len(unique_words))\n",
    "    # количество символов самого длинного слова\n",
    "    top_word = max(words, key=len)\n",
    "    stats_list.append(len(top_word))\n",
    "    # количество слов с символами от 1 до 5\n",
    "    symbols_1_5 = len(re.findall(r'\\b(\\w{1,5})\\b', str(words)))\n",
    "    stats_list.append(symbols_1_5)  \n",
    "    # количество слов с символами от 6 до 10    \n",
    "    symbols_6_10 = len(re.findall(r'\\b(\\w{6,10})\\b', str(words)))\n",
    "    stats_list.append(symbols_6_10)\n",
    "    # количество слов с символами от 11 до 20    \n",
    "    symbols_11_20 = len(re.findall(r'\\b(\\w{11,20})\\b', str(words)))\n",
    "    stats_list.append(symbols_11_20)\n",
    "    # количество слов начинающихся на гласные [aeiou] \n",
    "    symbols = len(re.findall(r'(\\b[aeiou])', str(words)))\n",
    "    stats_list.append(symbols)\n",
    "    return str(stats_list)\n",
    "\n",
    "### применение функции\n",
    "df_a2['subs_stats'] = df_a2.apply(subs_func_stats, axis=1)\n",
    "display(df_a2.head(3))\n",
    "df_b2['subs_stats'] = df_b2.apply(subs_func_stats, axis=1)\n",
    "display(df_b2.head(3))\n",
    "df_b1['subs_stats'] = df_b1.apply(subs_func_stats, axis=1)\n",
    "display(df_b1.head(3))\n",
    "df_c1['subs_stats'] = df_c1.apply(subs_func_stats, axis=1)\n",
    "display(df_c1.head(3))"
   ]
  },
  {
   "cell_type": "code",
   "execution_count": 14,
   "id": "892ff2f0",
   "metadata": {},
   "outputs": [
    {
     "data": {
      "text/html": [
       "<div>\n",
       "<style scoped>\n",
       "    .dataframe tbody tr th:only-of-type {\n",
       "        vertical-align: middle;\n",
       "    }\n",
       "\n",
       "    .dataframe tbody tr th {\n",
       "        vertical-align: top;\n",
       "    }\n",
       "\n",
       "    .dataframe thead th {\n",
       "        text-align: right;\n",
       "    }\n",
       "</style>\n",
       "<table border=\"1\" class=\"dataframe\">\n",
       "  <thead>\n",
       "    <tr style=\"text-align: right;\">\n",
       "      <th></th>\n",
       "      <th>movie</th>\n",
       "      <th>level</th>\n",
       "      <th>temp_match</th>\n",
       "      <th>subs_words</th>\n",
       "      <th>subs_stats</th>\n",
       "    </tr>\n",
       "  </thead>\n",
       "  <tbody>\n",
       "    <tr>\n",
       "      <th>0</th>\n",
       "      <td>Aladdin(1992)</td>\n",
       "      <td>A2</td>\n",
       "      <td>Aladdin(1992).srt</td>\n",
       "      <td>oh come land faraway place caravan camel roam ...</td>\n",
       "      <td>[26103, 35, 1, 2882, 1450, 38, 682]</td>\n",
       "    </tr>\n",
       "    <tr>\n",
       "      <th>1</th>\n",
       "      <td>All_dogs_go_to_heaven(1989)</td>\n",
       "      <td>A2</td>\n",
       "      <td>All_dogs_go_to_heaven(1989).srt</td>\n",
       "      <td>captioning made possible mgm home entertainmen...</td>\n",
       "      <td>[24290, 35, 1, 3261, 1099, 18, 555]</td>\n",
       "    </tr>\n",
       "    <tr>\n",
       "      <th>2</th>\n",
       "      <td>An_American_tail(1986)</td>\n",
       "      <td>A2</td>\n",
       "      <td>An_American_tail(1986).srt</td>\n",
       "      <td>indistinct conversation laughing mama tanya fi...</td>\n",
       "      <td>[18714, 36, 1, 2207, 986, 33, 365]</td>\n",
       "    </tr>\n",
       "  </tbody>\n",
       "</table>\n",
       "</div>"
      ],
      "text/plain": [
       "                         movie level                       temp_match  \\\n",
       "0                Aladdin(1992)    A2                Aladdin(1992).srt   \n",
       "1  All_dogs_go_to_heaven(1989)    A2  All_dogs_go_to_heaven(1989).srt   \n",
       "2       An_American_tail(1986)    A2       An_American_tail(1986).srt   \n",
       "\n",
       "                                          subs_words  \\\n",
       "0  oh come land faraway place caravan camel roam ...   \n",
       "1  captioning made possible mgm home entertainmen...   \n",
       "2  indistinct conversation laughing mama tanya fi...   \n",
       "\n",
       "                            subs_stats  \n",
       "0  [26103, 35, 1, 2882, 1450, 38, 682]  \n",
       "1  [24290, 35, 1, 3261, 1099, 18, 555]  \n",
       "2   [18714, 36, 1, 2207, 986, 33, 365]  "
      ]
     },
     "execution_count": 14,
     "metadata": {},
     "output_type": "execute_result"
    }
   ],
   "source": [
    "### создание таблицы со всеми фильмами и категориями\n",
    "data = pd.concat([df_a2, df_b2, df_b1, df_c1],axis=0).reset_index(drop=True)\n",
    "data.head(3)"
   ]
  },
  {
   "cell_type": "code",
   "execution_count": 15,
   "id": "300e0b2c",
   "metadata": {},
   "outputs": [
    {
     "data": {
      "text/html": [
       "<div>\n",
       "<style scoped>\n",
       "    .dataframe tbody tr th:only-of-type {\n",
       "        vertical-align: middle;\n",
       "    }\n",
       "\n",
       "    .dataframe tbody tr th {\n",
       "        vertical-align: top;\n",
       "    }\n",
       "\n",
       "    .dataframe thead th {\n",
       "        text-align: right;\n",
       "    }\n",
       "</style>\n",
       "<table border=\"1\" class=\"dataframe\">\n",
       "  <thead>\n",
       "    <tr style=\"text-align: right;\">\n",
       "      <th></th>\n",
       "      <th>movie</th>\n",
       "      <th>level</th>\n",
       "      <th>temp_match</th>\n",
       "      <th>subs_words</th>\n",
       "      <th>subs_stats</th>\n",
       "      <th>subs_stats_0</th>\n",
       "      <th>subs_stats_1</th>\n",
       "      <th>subs_stats_2</th>\n",
       "      <th>subs_stats_3</th>\n",
       "      <th>subs_stats_4</th>\n",
       "      <th>subs_stats_5</th>\n",
       "      <th>subs_stats_6</th>\n",
       "    </tr>\n",
       "  </thead>\n",
       "  <tbody>\n",
       "    <tr>\n",
       "      <th>257</th>\n",
       "      <td>Suits.S04E16.HDTV.x264-ASAP</td>\n",
       "      <td>C1</td>\n",
       "      <td>Suits.S04E16.HDTV.x264-ASAP.srt</td>\n",
       "      <td>jeff jessica right either need not going work ...</td>\n",
       "      <td>[18422, 37, 1, 2116, 951, 36, 354]</td>\n",
       "      <td>18422</td>\n",
       "      <td>37</td>\n",
       "      <td>1</td>\n",
       "      <td>2116</td>\n",
       "      <td>951</td>\n",
       "      <td>36</td>\n",
       "      <td>354</td>\n",
       "    </tr>\n",
       "    <tr>\n",
       "      <th>258</th>\n",
       "      <td>The_Legend_of_Tarzan(2016)</td>\n",
       "      <td>C1</td>\n",
       "      <td>The_Legend_of_Tarzan(2016).srt</td>\n",
       "      <td>monsieur rom opar inhales deeply found captain...</td>\n",
       "      <td>[15753, 36, 1, 1405, 1032, 19, 274]</td>\n",
       "      <td>15753</td>\n",
       "      <td>36</td>\n",
       "      <td>1</td>\n",
       "      <td>1405</td>\n",
       "      <td>1032</td>\n",
       "      <td>19</td>\n",
       "      <td>274</td>\n",
       "    </tr>\n",
       "    <tr>\n",
       "      <th>259</th>\n",
       "      <td>Zootopia(2016)</td>\n",
       "      <td>C1</td>\n",
       "      <td>Zootopia(2016).srt</td>\n",
       "      <td>fear treachery bloodlust thousand year ago for...</td>\n",
       "      <td>[31090, 37, 1, 3484, 1641, 63, 641]</td>\n",
       "      <td>31090</td>\n",
       "      <td>37</td>\n",
       "      <td>1</td>\n",
       "      <td>3484</td>\n",
       "      <td>1641</td>\n",
       "      <td>63</td>\n",
       "      <td>641</td>\n",
       "    </tr>\n",
       "  </tbody>\n",
       "</table>\n",
       "</div>"
      ],
      "text/plain": [
       "                           movie level                       temp_match  \\\n",
       "257  Suits.S04E16.HDTV.x264-ASAP    C1  Suits.S04E16.HDTV.x264-ASAP.srt   \n",
       "258   The_Legend_of_Tarzan(2016)    C1   The_Legend_of_Tarzan(2016).srt   \n",
       "259               Zootopia(2016)    C1               Zootopia(2016).srt   \n",
       "\n",
       "                                            subs_words  \\\n",
       "257  jeff jessica right either need not going work ...   \n",
       "258  monsieur rom opar inhales deeply found captain...   \n",
       "259  fear treachery bloodlust thousand year ago for...   \n",
       "\n",
       "                              subs_stats  subs_stats_0  subs_stats_1  \\\n",
       "257   [18422, 37, 1, 2116, 951, 36, 354]         18422            37   \n",
       "258  [15753, 36, 1, 1405, 1032, 19, 274]         15753            36   \n",
       "259  [31090, 37, 1, 3484, 1641, 63, 641]         31090            37   \n",
       "\n",
       "     subs_stats_2  subs_stats_3  subs_stats_4  subs_stats_5  subs_stats_6  \n",
       "257             1          2116           951            36           354  \n",
       "258             1          1405          1032            19           274  \n",
       "259             1          3484          1641            63           641  "
      ]
     },
     "execution_count": 15,
     "metadata": {},
     "output_type": "execute_result"
    }
   ],
   "source": [
    "### разделим числа в колонке\n",
    "### сохраним список в новую таблицу\n",
    "new_df = data['subs_stats'].str.split(', ',expand=True)\n",
    "### уберем лишние символы скобок\n",
    "for column in new_df.columns:\n",
    "    new_df[column] = new_df[column].str.replace('[','', regex=True) \n",
    "    new_df[column] = new_df[column].str.replace(']','', regex=True)\n",
    "### переименуем колонки\n",
    "new_df.columns = ['subs_stats_0', 'subs_stats_1', 'subs_stats_2', 'subs_stats_3', 'subs_stats_4', 'subs_stats_5', 'subs_stats_6']\n",
    "new_df = new_df.astype(int)\n",
    "### соединим таблицы\n",
    "total_df = data.join(new_df)\n",
    "total_df.tail(3)"
   ]
  },
  {
   "cell_type": "code",
   "execution_count": 16,
   "id": "1604a37a",
   "metadata": {},
   "outputs": [
    {
     "data": {
      "text/html": [
       "<div>\n",
       "<style scoped>\n",
       "    .dataframe tbody tr th:only-of-type {\n",
       "        vertical-align: middle;\n",
       "    }\n",
       "\n",
       "    .dataframe tbody tr th {\n",
       "        vertical-align: top;\n",
       "    }\n",
       "\n",
       "    .dataframe thead th {\n",
       "        text-align: right;\n",
       "    }\n",
       "</style>\n",
       "<table border=\"1\" class=\"dataframe\">\n",
       "  <thead>\n",
       "    <tr style=\"text-align: right;\">\n",
       "      <th></th>\n",
       "      <th>level</th>\n",
       "      <th>subs_words</th>\n",
       "      <th>subs_stats_0</th>\n",
       "      <th>subs_stats_1</th>\n",
       "      <th>subs_stats_2</th>\n",
       "      <th>subs_stats_3</th>\n",
       "      <th>subs_stats_4</th>\n",
       "      <th>subs_stats_5</th>\n",
       "      <th>subs_stats_6</th>\n",
       "    </tr>\n",
       "  </thead>\n",
       "  <tbody>\n",
       "    <tr>\n",
       "      <th>0</th>\n",
       "      <td>A2</td>\n",
       "      <td>oh come land faraway place caravan camel roam ...</td>\n",
       "      <td>26103</td>\n",
       "      <td>35</td>\n",
       "      <td>1</td>\n",
       "      <td>2882</td>\n",
       "      <td>1450</td>\n",
       "      <td>38</td>\n",
       "      <td>682</td>\n",
       "    </tr>\n",
       "    <tr>\n",
       "      <th>1</th>\n",
       "      <td>A2</td>\n",
       "      <td>captioning made possible mgm home entertainmen...</td>\n",
       "      <td>24290</td>\n",
       "      <td>35</td>\n",
       "      <td>1</td>\n",
       "      <td>3261</td>\n",
       "      <td>1099</td>\n",
       "      <td>18</td>\n",
       "      <td>555</td>\n",
       "    </tr>\n",
       "    <tr>\n",
       "      <th>2</th>\n",
       "      <td>A2</td>\n",
       "      <td>indistinct conversation laughing mama tanya fi...</td>\n",
       "      <td>18714</td>\n",
       "      <td>36</td>\n",
       "      <td>1</td>\n",
       "      <td>2207</td>\n",
       "      <td>986</td>\n",
       "      <td>33</td>\n",
       "      <td>365</td>\n",
       "    </tr>\n",
       "    <tr>\n",
       "      <th>3</th>\n",
       "      <td>A2</td>\n",
       "      <td>tale aboutan unprejudiced heart changed valley...</td>\n",
       "      <td>18131</td>\n",
       "      <td>31</td>\n",
       "      <td>1</td>\n",
       "      <td>2076</td>\n",
       "      <td>866</td>\n",
       "      <td>74</td>\n",
       "      <td>444</td>\n",
       "    </tr>\n",
       "    <tr>\n",
       "      <th>4</th>\n",
       "      <td>A2</td>\n",
       "      <td>october inventory time right statler toyota ma...</td>\n",
       "      <td>28948</td>\n",
       "      <td>37</td>\n",
       "      <td>1</td>\n",
       "      <td>3078</td>\n",
       "      <td>1452</td>\n",
       "      <td>140</td>\n",
       "      <td>560</td>\n",
       "    </tr>\n",
       "  </tbody>\n",
       "</table>\n",
       "</div>"
      ],
      "text/plain": [
       "  level                                         subs_words  subs_stats_0  \\\n",
       "0    A2  oh come land faraway place caravan camel roam ...         26103   \n",
       "1    A2  captioning made possible mgm home entertainmen...         24290   \n",
       "2    A2  indistinct conversation laughing mama tanya fi...         18714   \n",
       "3    A2  tale aboutan unprejudiced heart changed valley...         18131   \n",
       "4    A2  october inventory time right statler toyota ma...         28948   \n",
       "\n",
       "   subs_stats_1  subs_stats_2  subs_stats_3  subs_stats_4  subs_stats_5  \\\n",
       "0            35             1          2882          1450            38   \n",
       "1            35             1          3261          1099            18   \n",
       "2            36             1          2207           986            33   \n",
       "3            31             1          2076           866            74   \n",
       "4            37             1          3078          1452           140   \n",
       "\n",
       "   subs_stats_6  \n",
       "0           682  \n",
       "1           555  \n",
       "2           365  \n",
       "3           444  \n",
       "4           560  "
      ]
     },
     "execution_count": 16,
     "metadata": {},
     "output_type": "execute_result"
    }
   ],
   "source": [
    "# удаление лишнего столбца\n",
    "total_df = total_df.drop(['movie', 'temp_match', 'subs_stats'], axis=1)\n",
    "total_df.head(5)"
   ]
  },
  {
   "cell_type": "markdown",
   "id": "ef109541",
   "metadata": {},
   "source": [
    "## Обучение моделей"
   ]
  },
  {
   "cell_type": "markdown",
   "id": "9adc48c2",
   "metadata": {},
   "source": [
    "### Подготовка признаков"
   ]
  },
  {
   "cell_type": "code",
   "execution_count": 17,
   "id": "e7f352ee",
   "metadata": {},
   "outputs": [
    {
     "data": {
      "text/plain": [
       "'features shape:'"
      ]
     },
     "metadata": {},
     "output_type": "display_data"
    },
    {
     "data": {
      "text/plain": [
       "(260, 8)"
      ]
     },
     "metadata": {},
     "output_type": "display_data"
    },
    {
     "data": {
      "text/plain": [
       "'target shape:'"
      ]
     },
     "metadata": {},
     "output_type": "display_data"
    },
    {
     "data": {
      "text/plain": [
       "(260,)"
      ]
     },
     "metadata": {},
     "output_type": "display_data"
    }
   ],
   "source": [
    "### разделим на признаки и цели\n",
    "target = total_df['level']\n",
    "features = total_df.drop(['level'], axis=1)\n",
    "features_to_concat = total_df[['subs_stats_0', 'subs_stats_1', 'subs_stats_2', 'subs_stats_3', 'subs_stats_4', 'subs_stats_5', 'subs_stats_6']]\n",
    "display('features shape:', features.shape)\n",
    "display('target shape:', target.shape)"
   ]
  },
  {
   "cell_type": "code",
   "execution_count": 18,
   "id": "24ebbdf1",
   "metadata": {},
   "outputs": [
    {
     "name": "stdout",
     "output_type": "stream",
     "text": [
      "Train: (182, 8) (182,)\n",
      "Test: (78, 8) (78,)\n"
     ]
    }
   ],
   "source": [
    "### деление на обучающую и тестовую выборки\n",
    "features_train, features_test, target_train, target_test = train_test_split(features, target, test_size=0.3, stratify=target, random_state=42)\n",
    "print('Train:', features_train.shape, target_train.shape)\n",
    "print('Test:', features_test.shape, target_test.shape)"
   ]
  },
  {
   "cell_type": "code",
   "execution_count": 32,
   "id": "72816fd6",
   "metadata": {},
   "outputs": [
    {
     "name": "stdout",
     "output_type": "stream",
     "text": [
      "features tfidf: (260, 33438)\n",
      "total features tfidf: (260, 33445)\n"
     ]
    }
   ],
   "source": [
    "### векторизируем слова субтитров\n",
    "vectorizer = TfidfVectorizer() #min_df=10\n",
    "vectorizer_fited = vectorizer.fit(features['subs_words'])\n",
    "### сохраним модель   \n",
    "pickle.dump(vectorizer_fited, open('vect_model.pkl', 'wb'))\n",
    "### откроем модель\n",
    "# pickled_vectorizer_fited = pickle.load(open('vect_model.pkl', 'rb'))\n",
    "features_tfidf = vectorizer_fited.transform(features['subs_words'])\n",
    "features_tfidf_df = pd.DataFrame.sparse.from_spmatrix(features_tfidf)\n",
    "### объединим преобразованные признаки со статистической частью\n",
    "total_features_tfidf = pd.concat([features_tfidf_df,features_to_concat],axis=1)\n",
    "print('features tfidf:', features_tfidf.shape)\n",
    "print('total features tfidf:', total_features_tfidf.shape)"
   ]
  },
  {
   "cell_type": "code",
   "execution_count": 20,
   "id": "84b17383",
   "metadata": {},
   "outputs": [
    {
     "name": "stdout",
     "output_type": "stream",
     "text": [
      "Train: (182, 33445) (182,)\n",
      "Test: (78, 33445) (78,)\n"
     ]
    }
   ],
   "source": [
    "### деление на обучающую и тестовую выборки\n",
    "features_train_tfidf, features_test_tfidf, target_train_tfidf, target_test_tfidf = train_test_split(total_features_tfidf, target, test_size=0.3, stratify=target, random_state=42)\n",
    "print('Train:', features_train_tfidf.shape, target_train_tfidf.shape)\n",
    "print('Test:', features_test_tfidf.shape, target_test_tfidf.shape)"
   ]
  },
  {
   "cell_type": "code",
   "execution_count": 21,
   "id": "c8f22607",
   "metadata": {},
   "outputs": [],
   "source": [
    "from sklearn.preprocessing import StandardScaler\n",
    "# создадим список названий столбцов\n",
    "column_list = list(features_train_tfidf.columns)\n",
    "column_list_stats = list(features_to_concat.columns)\n",
    "\n",
    "# стандартизируем данные и настроим на признаках\n",
    "scaler = StandardScaler()\n",
    "scaler.fit(features_train_tfidf) \n",
    "\n",
    "scaler_stat = StandardScaler()\n",
    "scaler_stat.fit(features_to_concat) \n",
    "\n",
    "# преобразуем выборки\n",
    "features_train_scal = scaler.transform(features_train_tfidf) \n",
    "features_test_scal = scaler.transform(features_test_tfidf)\n",
    "features_to_concat_scal = scaler_stat.transform(features_to_concat)\n",
    "\n",
    "# уберем предупреждение `SettingWithCopy`\n",
    "pd.options.mode.chained_assignment = None\n",
    "\n",
    "# получим заголовки для признаков и скорректируем преобразованные выборки\n",
    "features_train_scal = pd.DataFrame(features_train_scal, columns = column_list, index=target_train_tfidf.index)\n",
    "features_test_scal = pd.DataFrame(features_test_scal, columns = column_list, index=target_test_tfidf.index)\n",
    "features_to_concat_scal = pd.DataFrame(features_to_concat_scal, columns = column_list_stats, index=features_to_concat.index)\n",
    "\n",
    "### объединим преобразованные признаки со статистической частью\n",
    "total_features_scal = pd.concat([features_train_scal, features_test_scal],axis=0)"
   ]
  },
  {
   "cell_type": "code",
   "execution_count": 22,
   "id": "9c977212",
   "metadata": {},
   "outputs": [
    {
     "data": {
      "text/html": [
       "<div>\n",
       "<style scoped>\n",
       "    .dataframe tbody tr th:only-of-type {\n",
       "        vertical-align: middle;\n",
       "    }\n",
       "\n",
       "    .dataframe tbody tr th {\n",
       "        vertical-align: top;\n",
       "    }\n",
       "\n",
       "    .dataframe thead th {\n",
       "        text-align: right;\n",
       "    }\n",
       "</style>\n",
       "<table border=\"1\" class=\"dataframe\">\n",
       "  <thead>\n",
       "    <tr style=\"text-align: right;\">\n",
       "      <th></th>\n",
       "      <th>lvl</th>\n",
       "    </tr>\n",
       "  </thead>\n",
       "  <tbody>\n",
       "    <tr>\n",
       "      <th>0</th>\n",
       "      <td>1</td>\n",
       "    </tr>\n",
       "    <tr>\n",
       "      <th>1</th>\n",
       "      <td>1</td>\n",
       "    </tr>\n",
       "    <tr>\n",
       "      <th>2</th>\n",
       "      <td>1</td>\n",
       "    </tr>\n",
       "    <tr>\n",
       "      <th>3</th>\n",
       "      <td>1</td>\n",
       "    </tr>\n",
       "    <tr>\n",
       "      <th>4</th>\n",
       "      <td>1</td>\n",
       "    </tr>\n",
       "  </tbody>\n",
       "</table>\n",
       "</div>"
      ],
      "text/plain": [
       "   lvl\n",
       "0    1\n",
       "1    1\n",
       "2    1\n",
       "3    1\n",
       "4    1"
      ]
     },
     "execution_count": 22,
     "metadata": {},
     "output_type": "execute_result"
    }
   ],
   "source": [
    "target_2 = target.copy()\n",
    "target_2 = pd.DataFrame(target_2)\n",
    "def num_target(row):\n",
    "    lvl = row['level']\n",
    "    if lvl == 'A2':\n",
    "        return 1\n",
    "    elif lvl == 'B1':\n",
    "           return 2\n",
    "    elif lvl == 'B2':\n",
    "        return 3\n",
    "    elif lvl == 'C1':\n",
    "        return 4\n",
    "target_2['lvl'] = target_2.apply(num_target, axis=1)\n",
    "target_2 = target_2.drop(['level'], axis=1)\n",
    "target_2.head(5)"
   ]
  },
  {
   "cell_type": "code",
   "execution_count": 23,
   "id": "791db62d",
   "metadata": {},
   "outputs": [
    {
     "name": "stdout",
     "output_type": "stream",
     "text": [
      "Train scaled: (182, 7) (182, 1)\n",
      "Test scaled: (78, 7) (78, 1)\n"
     ]
    }
   ],
   "source": [
    "### деление на обучающую и тестовую выборки \n",
    "features_train_scal, features_test_scal, target_train_scal, target_test_scal = train_test_split(features_to_concat_scal, target_2, test_size=0.3, stratify=target, random_state=42)\n",
    "print('Train scaled:', features_train_scal.shape, target_train_scal.shape)\n",
    "print('Test scaled:', features_test_scal.shape, target_test_scal.shape)"
   ]
  },
  {
   "cell_type": "markdown",
   "id": "65ff7e7e",
   "metadata": {},
   "source": [
    "### Модель MultinomialNB"
   ]
  },
  {
   "cell_type": "code",
   "execution_count": 24,
   "id": "b00a0554",
   "metadata": {
    "scrolled": false
   },
   "outputs": [
    {
     "name": "stdout",
     "output_type": "stream",
     "text": [
      "Fitting 3 folds for each of 2 candidates, totalling 6 fits\n",
      "[CV] END ..........................................alpha=0.1; total time=  13.1s\n",
      "[CV] END ..........................................alpha=0.1; total time=  12.5s\n",
      "[CV] END ..........................................alpha=0.1; total time=  13.6s\n",
      "[CV] END ............................................alpha=1; total time=  12.7s\n",
      "[CV] END ............................................alpha=1; total time=  13.0s\n",
      "[CV] END ............................................alpha=1; total time=  13.0s\n"
     ]
    },
    {
     "data": {
      "text/plain": [
       "0.50556"
      ]
     },
     "metadata": {},
     "output_type": "display_data"
    },
    {
     "data": {
      "text/plain": [
       "{'alpha': 0.1}"
      ]
     },
     "metadata": {},
     "output_type": "display_data"
    },
    {
     "name": "stdout",
     "output_type": "stream",
     "text": [
      "CPU times: total: 1min 19s\n",
      "Wall time: 1min 20s\n"
     ]
    }
   ],
   "source": [
    "%%time\n",
    "### обучим модель MultinomialNB с помощью GridSearchCV для расчета accuracy\n",
    "### параметры по сетке\n",
    "parameters_multi = {\n",
    "    'alpha' : [0.1, 1]\n",
    "}\n",
    "multi_model = MultinomialNB()\n",
    "clf_multi = GridSearchCV(multi_model, parameters_multi, scoring='accuracy', cv=3, n_jobs=1, verbose=2)\n",
    "clf_multi.fit(features_train_tfidf, target_train_tfidf)\n",
    "score_multi = round(clf_multi.best_score_, 5)\n",
    "display(score_multi)\n",
    "display(clf_multi.best_params_)"
   ]
  },
  {
   "cell_type": "markdown",
   "id": "dfa85399",
   "metadata": {},
   "source": [
    "### Модель LogisticRegression"
   ]
  },
  {
   "cell_type": "code",
   "execution_count": 25,
   "id": "0b252f84",
   "metadata": {
    "scrolled": false
   },
   "outputs": [
    {
     "name": "stdout",
     "output_type": "stream",
     "text": [
      "Fitting 3 folds for each of 2 candidates, totalling 6 fits\n",
      "[CV] END .........................................C=100000.0; total time= 1.1min\n",
      "[CV] END .........................................C=100000.0; total time= 1.4min\n",
      "[CV] END .........................................C=100000.0; total time= 1.2min\n",
      "[CV] END .......................................C=10000000.0; total time= 1.1min\n",
      "[CV] END .......................................C=10000000.0; total time=  58.7s\n",
      "[CV] END .......................................C=10000000.0; total time= 1.2min\n"
     ]
    },
    {
     "data": {
      "text/plain": [
       "0.67049"
      ]
     },
     "metadata": {},
     "output_type": "display_data"
    },
    {
     "data": {
      "text/plain": [
       "{'C': 100000.0}"
      ]
     },
     "metadata": {},
     "output_type": "display_data"
    },
    {
     "name": "stdout",
     "output_type": "stream",
     "text": [
      "CPU times: total: 31min 53s\n",
      "Wall time: 8min 29s\n"
     ]
    }
   ],
   "source": [
    "%%time\n",
    "### обучим модель LogisticRegression с помощью GridSearchCV для расчета accuracy\n",
    "### параметры по сетке\n",
    "parameters_log = {'C':[1e5, 1e7]}\n",
    "log_model = LogisticRegression(random_state=42, class_weight='balanced', multi_class='multinomial', max_iter=10000, solver='newton-cg')\n",
    "clf_log = GridSearchCV(log_model, parameters_log, scoring='accuracy', cv=3, n_jobs=1, verbose=2)\n",
    "clf_log.fit(features_train_tfidf, target_train_tfidf)\n",
    "### сохраним модель   \n",
    "pickle.dump(clf_log, open('log_reg.pkl', 'wb'))\n",
    "### откроем модель\n",
    "# pickled_clf_log = pickle.load(open('log_reg.pkl', 'rb'))\n",
    "score_log = round(clf_log.best_score_, 5)\n",
    "display(score_log)\n",
    "display(clf_log.best_params_)"
   ]
  },
  {
   "cell_type": "markdown",
   "id": "b88e63b5",
   "metadata": {},
   "source": [
    "### Модель RandomForestClassifier"
   ]
  },
  {
   "cell_type": "code",
   "execution_count": 26,
   "id": "88d95687",
   "metadata": {
    "scrolled": false
   },
   "outputs": [
    {
     "name": "stdout",
     "output_type": "stream",
     "text": [
      "Fitting 3 folds for each of 2 candidates, totalling 6 fits\n",
      "[CV] END ...................................n_estimators=100; total time=  13.2s\n",
      "[CV] END ...................................n_estimators=100; total time=  12.7s\n",
      "[CV] END ...................................n_estimators=100; total time=  13.0s\n",
      "[CV] END ...................................n_estimators=300; total time=  14.3s\n",
      "[CV] END ...................................n_estimators=300; total time=  13.1s\n",
      "[CV] END ...................................n_estimators=300; total time=  13.7s\n"
     ]
    },
    {
     "data": {
      "text/plain": [
       "0.54964"
      ]
     },
     "metadata": {},
     "output_type": "display_data"
    },
    {
     "data": {
      "text/plain": [
       "{'n_estimators': 300}"
      ]
     },
     "metadata": {},
     "output_type": "display_data"
    },
    {
     "name": "stdout",
     "output_type": "stream",
     "text": [
      "CPU times: total: 1min 23s\n",
      "Wall time: 1min 24s\n"
     ]
    }
   ],
   "source": [
    "%%time\n",
    "### обучим модель RandomForestClassifier с помощью GridSearchCV для расчета accuracy\n",
    "### параметры по сетке\n",
    "parameters_rf = {'n_estimators' : [100, 300],}\n",
    "rf_model = RandomForestClassifier(random_state=42, class_weight='balanced')\n",
    "clf_rf = GridSearchCV(rf_model, parameters_rf, scoring='accuracy', cv=3, n_jobs=1, verbose=2)\n",
    "clf_rf.fit(features_train_tfidf, target_train_tfidf)\n",
    "### сохраним модель   \n",
    "pickle.dump(clf_rf, open('ran_for.pkl', 'wb'))\n",
    "### откроем модель\n",
    "# pickled_clf_rf = pickle.load(open('ran_for.pkl', 'rb'))\n",
    "score_rf = round(clf_rf.best_score_, 5)\n",
    "display(score_rf)\n",
    "display(clf_rf.best_params_)"
   ]
  },
  {
   "cell_type": "markdown",
   "id": "429a45a7",
   "metadata": {},
   "source": [
    "### Модель LinearSVC"
   ]
  },
  {
   "cell_type": "code",
   "execution_count": 27,
   "id": "26bc8cd2",
   "metadata": {},
   "outputs": [
    {
     "name": "stdout",
     "output_type": "stream",
     "text": [
      "Fitting 3 folds for each of 2 candidates, totalling 6 fits\n",
      "[CV] END ......................................max_iter=1000; total time=  14.8s\n",
      "[CV] END ......................................max_iter=1000; total time=  14.7s\n",
      "[CV] END ......................................max_iter=1000; total time=  14.6s\n",
      "[CV] END ......................................max_iter=2000; total time=  16.4s\n",
      "[CV] END ......................................max_iter=2000; total time=  16.4s\n",
      "[CV] END ......................................max_iter=2000; total time=  17.2s\n"
     ]
    },
    {
     "data": {
      "text/plain": [
       "0.36339"
      ]
     },
     "metadata": {},
     "output_type": "display_data"
    },
    {
     "data": {
      "text/plain": [
       "{'max_iter': 2000}"
      ]
     },
     "metadata": {},
     "output_type": "display_data"
    },
    {
     "name": "stdout",
     "output_type": "stream",
     "text": [
      "CPU times: total: 1min 41s\n",
      "Wall time: 1min 42s\n"
     ]
    }
   ],
   "source": [
    "%%time\n",
    "### обучим модель LinearSVC с помощью GridSearchCV для расчета accuracy\n",
    "### параметры по сетке\n",
    "parameters_svc = {'max_iter' : [1000, 2000],}\n",
    "svc_model = LinearSVC(random_state=42, class_weight='balanced')\n",
    "clf_svc = GridSearchCV(svc_model, parameters_svc, scoring='accuracy', cv=3, n_jobs=1, verbose=2)\n",
    "clf_svc.fit(features_train_tfidf, target_train_tfidf)\n",
    "### сохраним модель   \n",
    "pickle.dump(clf_svc, open('svc.pkl', 'wb'))\n",
    "### откроем модель\n",
    "# pickled_clf_svc = pickle.load(open('svc.pkl', 'rb'))\n",
    "score_svc = round(clf_svc.best_score_, 5)\n",
    "display(score_svc)\n",
    "display(clf_svc.best_params_)"
   ]
  },
  {
   "cell_type": "markdown",
   "id": "d45bbc49",
   "metadata": {},
   "source": [
    "### Модель LGBMClassifier"
   ]
  },
  {
   "cell_type": "code",
   "execution_count": 28,
   "id": "4cba4385",
   "metadata": {
    "scrolled": false
   },
   "outputs": [
    {
     "name": "stdout",
     "output_type": "stream",
     "text": [
      "Fitting 3 folds for each of 2 candidates, totalling 6 fits\n",
      "[CV] END ...................................n_estimators=100; total time=  15.0s\n",
      "[CV] END ...................................n_estimators=100; total time=  15.1s\n",
      "[CV] END ...................................n_estimators=100; total time=  15.1s\n",
      "[CV] END ...................................n_estimators=300; total time=  15.4s\n",
      "[CV] END ...................................n_estimators=300; total time=  15.4s\n",
      "[CV] END ...................................n_estimators=300; total time=  15.2s\n"
     ]
    },
    {
     "data": {
      "text/plain": [
       "0.60464"
      ]
     },
     "metadata": {},
     "output_type": "display_data"
    },
    {
     "data": {
      "text/plain": [
       "{'n_estimators': 100}"
      ]
     },
     "metadata": {},
     "output_type": "display_data"
    },
    {
     "name": "stdout",
     "output_type": "stream",
     "text": [
      "CPU times: total: 2min 27s\n",
      "Wall time: 1min 37s\n"
     ]
    }
   ],
   "source": [
    "%%time\n",
    "### обучим модель LGBMClassifier с помощью GridSearchCV для расчета accuracy\n",
    "### параметры по сетке\n",
    "parameters_lgb = {'n_estimators':[100, 300]}\n",
    "### обучим модель LightGBM\n",
    "lgb_model = LGBMClassifier(random_state=42, class_weight='balanced', objective='multiclass')  \n",
    "clf_lgbm = GridSearchCV(lgb_model, parameters_lgb, scoring='accuracy', cv=3, n_jobs=1, verbose=2)\n",
    "clf_lgbm.fit(features_train_tfidf, target_train_tfidf)\n",
    "### сохраним модель   \n",
    "pickle.dump(clf_lgbm, open('lgbm.pkl', 'wb'))\n",
    "### откроем модель\n",
    "# pickled_clf_lgbm = pickle.load(open('lgbm.pkl', 'rb'))\n",
    "score_lgbm = round(clf_lgbm.best_score_, 5)\n",
    "display(score_lgbm)\n",
    "display(clf_lgbm.best_params_)"
   ]
  },
  {
   "cell_type": "markdown",
   "id": "b38d6ac8",
   "metadata": {},
   "source": [
    "## Итоги"
   ]
  },
  {
   "cell_type": "code",
   "execution_count": 29,
   "id": "dddfb33b",
   "metadata": {},
   "outputs": [
    {
     "data": {
      "text/html": [
       "<div>\n",
       "<style scoped>\n",
       "    .dataframe tbody tr th:only-of-type {\n",
       "        vertical-align: middle;\n",
       "    }\n",
       "\n",
       "    .dataframe tbody tr th {\n",
       "        vertical-align: top;\n",
       "    }\n",
       "\n",
       "    .dataframe thead th {\n",
       "        text-align: right;\n",
       "    }\n",
       "</style>\n",
       "<table border=\"1\" class=\"dataframe\">\n",
       "  <thead>\n",
       "    <tr style=\"text-align: right;\">\n",
       "      <th></th>\n",
       "      <th>MultinomialNB</th>\n",
       "      <th>LogisticRegression</th>\n",
       "      <th>LinearSVC</th>\n",
       "      <th>RandomForestClassifier</th>\n",
       "      <th>LightGBM</th>\n",
       "    </tr>\n",
       "    <tr>\n",
       "      <th>Metrics</th>\n",
       "      <th></th>\n",
       "      <th></th>\n",
       "      <th></th>\n",
       "      <th></th>\n",
       "      <th></th>\n",
       "    </tr>\n",
       "  </thead>\n",
       "  <tbody>\n",
       "    <tr>\n",
       "      <th>accuracy</th>\n",
       "      <td>0.50556</td>\n",
       "      <td>0.67049</td>\n",
       "      <td>0.36339</td>\n",
       "      <td>0.54964</td>\n",
       "      <td>0.60464</td>\n",
       "    </tr>\n",
       "  </tbody>\n",
       "</table>\n",
       "</div>"
      ],
      "text/plain": [
       "          MultinomialNB  LogisticRegression  LinearSVC  \\\n",
       "Metrics                                                  \n",
       "accuracy        0.50556             0.67049    0.36339   \n",
       "\n",
       "          RandomForestClassifier  LightGBM  \n",
       "Metrics                                     \n",
       "accuracy                 0.54964   0.60464  "
      ]
     },
     "metadata": {},
     "output_type": "display_data"
    }
   ],
   "source": [
    "### выведем результаты как таблицу с данными\n",
    "total_row_1 = ['accuracy', score_multi, score_log, score_svc, score_rf, score_lgbm]\n",
    "data_temp_scores = pd.DataFrame([total_row_1])\n",
    "data_temp_scores.columns = ['Metrics', 'MultinomialNB', 'LogisticRegression', 'LinearSVC', 'RandomForestClassifier', 'LightGBM']\n",
    "display(data_temp_scores.set_index('Metrics'))"
   ]
  },
  {
   "cell_type": "code",
   "execution_count": null,
   "id": "e8e1ae4b",
   "metadata": {},
   "outputs": [],
   "source": []
  }
 ],
 "metadata": {
  "ExecuteTimeLog": [
   {
    "duration": 395,
    "start_time": "2023-01-31T07:46:47.397Z"
   },
   {
    "duration": 64,
    "start_time": "2023-01-31T07:47:38.465Z"
   },
   {
    "duration": 72,
    "start_time": "2023-01-31T07:47:46.650Z"
   },
   {
    "duration": 32,
    "start_time": "2023-01-31T07:47:53.589Z"
   },
   {
    "duration": 40,
    "start_time": "2023-01-31T07:48:13.905Z"
   },
   {
    "duration": 7,
    "start_time": "2023-01-31T07:58:34.226Z"
   },
   {
    "duration": 2,
    "start_time": "2023-01-31T07:59:09.197Z"
   },
   {
    "duration": 71,
    "start_time": "2023-01-31T07:59:09.904Z"
   },
   {
    "duration": 73,
    "start_time": "2023-01-31T07:59:13.737Z"
   },
   {
    "duration": 3127,
    "start_time": "2023-01-31T07:59:19.762Z"
   },
   {
    "duration": 12,
    "start_time": "2023-01-31T07:59:40.601Z"
   },
   {
    "duration": 61,
    "start_time": "2023-01-31T08:00:34.934Z"
   },
   {
    "duration": 11,
    "start_time": "2023-01-31T08:00:57.134Z"
   },
   {
    "duration": 99,
    "start_time": "2023-01-31T08:01:05.256Z"
   },
   {
    "duration": 91,
    "start_time": "2023-01-31T08:02:35.589Z"
   },
   {
    "duration": 49,
    "start_time": "2023-01-31T08:02:49.766Z"
   },
   {
    "duration": 64,
    "start_time": "2023-01-31T08:04:17.910Z"
   },
   {
    "duration": 57,
    "start_time": "2023-01-31T08:04:18.540Z"
   },
   {
    "duration": 77,
    "start_time": "2023-01-31T08:04:26.425Z"
   },
   {
    "duration": 62,
    "start_time": "2023-01-31T10:27:17.930Z"
   },
   {
    "duration": 105,
    "start_time": "2023-01-31T10:27:45.251Z"
   },
   {
    "duration": 45,
    "start_time": "2023-01-31T10:28:17.507Z"
   },
   {
    "duration": 49,
    "start_time": "2023-01-31T10:28:26.844Z"
   },
   {
    "duration": 27,
    "start_time": "2023-01-31T10:28:36.607Z"
   },
   {
    "duration": 28,
    "start_time": "2023-01-31T10:28:54.685Z"
   },
   {
    "duration": 16,
    "start_time": "2023-01-31T10:29:36.613Z"
   },
   {
    "duration": 5,
    "start_time": "2023-01-31T10:29:41.258Z"
   },
   {
    "duration": 25,
    "start_time": "2023-01-31T10:29:51.309Z"
   },
   {
    "duration": 71,
    "start_time": "2023-01-31T10:33:13.164Z"
   },
   {
    "duration": 95,
    "start_time": "2023-01-31T10:33:20.794Z"
   },
   {
    "duration": 16,
    "start_time": "2023-01-31T10:33:37.042Z"
   },
   {
    "duration": 56,
    "start_time": "2023-01-31T10:33:49.572Z"
   },
   {
    "duration": 93,
    "start_time": "2023-01-31T10:34:35.291Z"
   },
   {
    "duration": 40,
    "start_time": "2023-01-31T10:34:44.602Z"
   },
   {
    "duration": 132,
    "start_time": "2023-01-31T10:35:02.146Z"
   },
   {
    "duration": 27,
    "start_time": "2023-01-31T10:35:43.020Z"
   },
   {
    "duration": 42,
    "start_time": "2023-01-31T10:35:57.811Z"
   },
   {
    "duration": 24,
    "start_time": "2023-01-31T10:36:06.973Z"
   },
   {
    "duration": 4,
    "start_time": "2023-01-31T10:40:26.008Z"
   },
   {
    "duration": 8,
    "start_time": "2023-01-31T10:40:42.002Z"
   },
   {
    "duration": 2,
    "start_time": "2023-01-31T10:41:00.377Z"
   },
   {
    "duration": 87,
    "start_time": "2023-01-31T10:41:01.873Z"
   },
   {
    "duration": 3,
    "start_time": "2023-01-31T10:41:16.850Z"
   },
   {
    "duration": 26,
    "start_time": "2023-01-31T10:41:19.443Z"
   },
   {
    "duration": 3,
    "start_time": "2023-01-31T10:41:21.016Z"
   },
   {
    "duration": 12791,
    "start_time": "2023-01-31T10:41:21.811Z"
   },
   {
    "duration": 7704,
    "start_time": "2023-01-31T10:43:00.561Z"
   },
   {
    "duration": 24,
    "start_time": "2023-01-31T10:45:03.704Z"
   },
   {
    "duration": 115,
    "start_time": "2023-01-31T10:45:16.697Z"
   },
   {
    "duration": 1896,
    "start_time": "2023-01-31T10:47:48.191Z"
   },
   {
    "duration": 441,
    "start_time": "2023-01-31T10:47:50.090Z"
   },
   {
    "duration": 37,
    "start_time": "2023-01-31T10:47:50.533Z"
   },
   {
    "duration": 26,
    "start_time": "2023-01-31T10:47:50.572Z"
   },
   {
    "duration": 3,
    "start_time": "2023-01-31T10:47:50.600Z"
   },
   {
    "duration": 6419,
    "start_time": "2023-01-31T10:47:50.605Z"
   },
   {
    "duration": 69,
    "start_time": "2023-01-31T10:50:43.891Z"
   },
   {
    "duration": 34,
    "start_time": "2023-01-31T10:52:14.680Z"
   },
   {
    "duration": 278,
    "start_time": "2023-01-31T11:53:10.731Z"
   },
   {
    "duration": 2,
    "start_time": "2023-01-31T11:55:15.869Z"
   },
   {
    "duration": 44,
    "start_time": "2023-01-31T11:56:00.613Z"
   },
   {
    "duration": 1144,
    "start_time": "2023-01-31T12:12:02.882Z"
   },
   {
    "duration": 89,
    "start_time": "2023-01-31T12:13:30.088Z"
   },
   {
    "duration": 85,
    "start_time": "2023-01-31T12:15:04.577Z"
   },
   {
    "duration": 80,
    "start_time": "2023-01-31T12:17:59.310Z"
   },
   {
    "duration": 127,
    "start_time": "2023-01-31T12:18:52.474Z"
   },
   {
    "duration": 4,
    "start_time": "2023-01-31T13:27:20.402Z"
   },
   {
    "duration": 388,
    "start_time": "2023-01-31T13:27:33.433Z"
   },
   {
    "duration": 142,
    "start_time": "2023-01-31T13:28:07.634Z"
   },
   {
    "duration": 89,
    "start_time": "2023-01-31T13:30:28.966Z"
   },
   {
    "duration": 68,
    "start_time": "2023-01-31T13:30:53.320Z"
   },
   {
    "duration": 97,
    "start_time": "2023-01-31T13:30:59.470Z"
   },
   {
    "duration": 188,
    "start_time": "2023-01-31T13:31:03.920Z"
   },
   {
    "duration": 256,
    "start_time": "2023-01-31T13:31:11.673Z"
   },
   {
    "duration": 97,
    "start_time": "2023-01-31T13:32:22.936Z"
   },
   {
    "duration": 145,
    "start_time": "2023-01-31T13:32:30.880Z"
   },
   {
    "duration": 124,
    "start_time": "2023-01-31T13:33:53.241Z"
   },
   {
    "duration": 86,
    "start_time": "2023-01-31T13:34:05.303Z"
   },
   {
    "duration": 79,
    "start_time": "2023-01-31T13:34:14.192Z"
   },
   {
    "duration": 100,
    "start_time": "2023-01-31T13:34:54.367Z"
   },
   {
    "duration": 206,
    "start_time": "2023-01-31T13:35:13.384Z"
   },
   {
    "duration": 6992,
    "start_time": "2023-01-31T13:35:46.535Z"
   },
   {
    "duration": 4557,
    "start_time": "2023-01-31T13:36:58.752Z"
   },
   {
    "duration": 353,
    "start_time": "2023-01-31T13:37:09.511Z"
   },
   {
    "duration": 83,
    "start_time": "2023-01-31T13:37:20.889Z"
   },
   {
    "duration": 141,
    "start_time": "2023-01-31T13:39:03.393Z"
   },
   {
    "duration": 291,
    "start_time": "2023-01-31T13:39:21.857Z"
   },
   {
    "duration": 85,
    "start_time": "2023-01-31T13:39:24.966Z"
   },
   {
    "duration": 560,
    "start_time": "2023-01-31T13:40:10.454Z"
   },
   {
    "duration": 105,
    "start_time": "2023-01-31T13:40:18.351Z"
   },
   {
    "duration": 361,
    "start_time": "2023-01-31T13:40:25.471Z"
   },
   {
    "duration": 73,
    "start_time": "2023-01-31T13:41:40.382Z"
   },
   {
    "duration": 325,
    "start_time": "2023-01-31T13:42:08.033Z"
   },
   {
    "duration": 331,
    "start_time": "2023-01-31T13:42:46.798Z"
   },
   {
    "duration": 338,
    "start_time": "2023-01-31T13:43:08.967Z"
   },
   {
    "duration": 314,
    "start_time": "2023-01-31T13:43:16.821Z"
   },
   {
    "duration": 72,
    "start_time": "2023-01-31T13:51:24.630Z"
   },
   {
    "duration": 95,
    "start_time": "2023-01-31T13:51:28.340Z"
   },
   {
    "duration": 124,
    "start_time": "2023-01-31T13:53:16.644Z"
   },
   {
    "duration": 99,
    "start_time": "2023-01-31T14:18:58.508Z"
   },
   {
    "duration": 3614,
    "start_time": "2023-01-31T14:25:18.646Z"
   },
   {
    "duration": 165,
    "start_time": "2023-01-31T14:35:22.288Z"
   },
   {
    "duration": 98,
    "start_time": "2023-01-31T14:36:26.167Z"
   },
   {
    "duration": 98,
    "start_time": "2023-01-31T14:36:36.556Z"
   },
   {
    "duration": 115,
    "start_time": "2023-01-31T14:37:48.683Z"
   },
   {
    "duration": 104,
    "start_time": "2023-01-31T14:38:31.500Z"
   },
   {
    "duration": 99,
    "start_time": "2023-01-31T14:40:36.694Z"
   },
   {
    "duration": 158,
    "start_time": "2023-01-31T14:41:40.068Z"
   },
   {
    "duration": 93,
    "start_time": "2023-01-31T14:41:49.148Z"
   },
   {
    "duration": 70,
    "start_time": "2023-01-31T14:44:38.218Z"
   },
   {
    "duration": 82,
    "start_time": "2023-01-31T14:45:55.959Z"
   },
   {
    "duration": 6647,
    "start_time": "2023-01-31T14:51:23.462Z"
   },
   {
    "duration": 3248,
    "start_time": "2023-02-01T07:31:48.773Z"
   },
   {
    "duration": 413,
    "start_time": "2023-02-01T07:31:52.023Z"
   },
   {
    "duration": 61,
    "start_time": "2023-02-01T07:31:52.438Z"
   },
   {
    "duration": 90,
    "start_time": "2023-02-01T07:31:52.501Z"
   },
   {
    "duration": 4,
    "start_time": "2023-02-01T07:31:52.593Z"
   },
   {
    "duration": 12264,
    "start_time": "2023-02-01T07:31:52.599Z"
   },
   {
    "duration": 943,
    "start_time": "2023-02-01T07:32:04.865Z"
   },
   {
    "duration": 3,
    "start_time": "2023-02-01T07:32:05.811Z"
   },
   {
    "duration": 48,
    "start_time": "2023-02-01T07:41:18.642Z"
   },
   {
    "duration": 103,
    "start_time": "2023-02-01T07:53:05.511Z"
   },
   {
    "duration": 103,
    "start_time": "2023-02-01T07:57:54.568Z"
   },
   {
    "duration": 947,
    "start_time": "2023-02-01T08:54:08.305Z"
   },
   {
    "duration": 435,
    "start_time": "2023-02-01T08:54:33.000Z"
   },
   {
    "duration": 15,
    "start_time": "2023-02-01T08:54:52.235Z"
   },
   {
    "duration": 125,
    "start_time": "2023-02-01T08:56:14.108Z"
   },
   {
    "duration": 1156,
    "start_time": "2023-02-01T08:56:15.108Z"
   },
   {
    "duration": 37,
    "start_time": "2023-02-01T08:57:13.361Z"
   },
   {
    "duration": 67,
    "start_time": "2023-02-01T08:57:33.200Z"
   },
   {
    "duration": 74,
    "start_time": "2023-02-01T08:59:11.054Z"
   },
   {
    "duration": 37,
    "start_time": "2023-02-01T08:59:12.862Z"
   },
   {
    "duration": 36,
    "start_time": "2023-02-01T08:59:46.465Z"
   },
   {
    "duration": 44,
    "start_time": "2023-02-01T08:59:52.049Z"
   },
   {
    "duration": 45,
    "start_time": "2023-02-01T09:00:05.911Z"
   },
   {
    "duration": 37,
    "start_time": "2023-02-01T09:00:17.442Z"
   },
   {
    "duration": 3,
    "start_time": "2023-02-01T09:00:53.606Z"
   },
   {
    "duration": 39,
    "start_time": "2023-02-01T09:01:51.787Z"
   },
   {
    "duration": 40,
    "start_time": "2023-02-01T09:02:09.406Z"
   },
   {
    "duration": 38,
    "start_time": "2023-02-01T09:25:36.524Z"
   },
   {
    "duration": 41,
    "start_time": "2023-02-01T09:25:53.047Z"
   },
   {
    "duration": 37,
    "start_time": "2023-02-01T09:25:59.504Z"
   },
   {
    "duration": 38,
    "start_time": "2023-02-01T09:26:03.325Z"
   },
   {
    "duration": 37,
    "start_time": "2023-02-01T09:26:18.035Z"
   },
   {
    "duration": 36,
    "start_time": "2023-02-01T09:28:08.422Z"
   },
   {
    "duration": 40,
    "start_time": "2023-02-01T09:28:19.202Z"
   },
   {
    "duration": 52,
    "start_time": "2023-02-01T09:30:09.867Z"
   },
   {
    "duration": 46,
    "start_time": "2023-02-01T09:30:13.455Z"
   },
   {
    "duration": 43,
    "start_time": "2023-02-01T09:31:00.514Z"
   },
   {
    "duration": 38,
    "start_time": "2023-02-01T09:31:19.733Z"
   },
   {
    "duration": 45,
    "start_time": "2023-02-01T09:31:21.907Z"
   },
   {
    "duration": 37,
    "start_time": "2023-02-01T09:31:47.504Z"
   },
   {
    "duration": 35,
    "start_time": "2023-02-01T09:31:57.521Z"
   },
   {
    "duration": 40,
    "start_time": "2023-02-01T09:50:37.041Z"
   },
   {
    "duration": 47,
    "start_time": "2023-02-01T09:50:40.687Z"
   },
   {
    "duration": 136,
    "start_time": "2023-02-01T09:50:56.520Z"
   },
   {
    "duration": 77,
    "start_time": "2023-02-01T09:51:13.583Z"
   },
   {
    "duration": 42,
    "start_time": "2023-02-01T09:51:26.759Z"
   },
   {
    "duration": 47,
    "start_time": "2023-02-01T09:51:36.174Z"
   },
   {
    "duration": 69,
    "start_time": "2023-02-01T09:52:49.575Z"
   },
   {
    "duration": 40,
    "start_time": "2023-02-01T09:52:54.164Z"
   },
   {
    "duration": 40,
    "start_time": "2023-02-01T09:54:08.236Z"
   },
   {
    "duration": 94,
    "start_time": "2023-02-01T09:54:16.775Z"
   },
   {
    "duration": 37,
    "start_time": "2023-02-01T09:54:24.295Z"
   },
   {
    "duration": 60,
    "start_time": "2023-02-01T09:55:09.719Z"
   },
   {
    "duration": 48,
    "start_time": "2023-02-01T09:55:17.700Z"
   },
   {
    "duration": 78,
    "start_time": "2023-02-01T09:55:27.482Z"
   },
   {
    "duration": 46,
    "start_time": "2023-02-01T09:55:36.278Z"
   },
   {
    "duration": 48,
    "start_time": "2023-02-01T09:56:20.518Z"
   },
   {
    "duration": 47,
    "start_time": "2023-02-01T09:56:42.486Z"
   },
   {
    "duration": 59,
    "start_time": "2023-02-01T09:57:04.942Z"
   },
   {
    "duration": 45,
    "start_time": "2023-02-01T09:59:29.518Z"
   },
   {
    "duration": 49,
    "start_time": "2023-02-01T09:59:51.903Z"
   },
   {
    "duration": 45,
    "start_time": "2023-02-01T12:01:21.014Z"
   },
   {
    "duration": 3357,
    "start_time": "2023-02-01T13:55:21.597Z"
   },
   {
    "duration": 1214,
    "start_time": "2023-02-01T13:55:24.956Z"
   },
   {
    "duration": 61,
    "start_time": "2023-02-01T13:55:26.172Z"
   },
   {
    "duration": 58,
    "start_time": "2023-02-01T13:55:26.235Z"
   },
   {
    "duration": 3,
    "start_time": "2023-02-01T13:55:26.294Z"
   },
   {
    "duration": 12587,
    "start_time": "2023-02-01T13:55:26.298Z"
   },
   {
    "duration": 47,
    "start_time": "2023-02-01T13:55:38.887Z"
   },
   {
    "duration": 115,
    "start_time": "2023-02-01T13:55:38.936Z"
   },
   {
    "duration": 0,
    "start_time": "2023-02-01T13:55:39.053Z"
   },
   {
    "duration": 3,
    "start_time": "2023-02-01T13:55:59.105Z"
   },
   {
    "duration": 1170,
    "start_time": "2023-02-01T13:56:02.690Z"
   },
   {
    "duration": 3748,
    "start_time": "2023-02-02T08:45:46.589Z"
   },
   {
    "duration": 1337,
    "start_time": "2023-02-02T08:45:50.339Z"
   },
   {
    "duration": 65,
    "start_time": "2023-02-02T08:45:51.678Z"
   },
   {
    "duration": 93,
    "start_time": "2023-02-02T08:45:51.745Z"
   },
   {
    "duration": 3,
    "start_time": "2023-02-02T08:45:51.841Z"
   },
   {
    "duration": 13409,
    "start_time": "2023-02-02T08:45:51.846Z"
   },
   {
    "duration": 66,
    "start_time": "2023-02-02T08:46:05.257Z"
   },
   {
    "duration": 1151,
    "start_time": "2023-02-02T08:46:05.324Z"
   },
   {
    "duration": 2,
    "start_time": "2023-02-02T08:46:06.477Z"
   },
   {
    "duration": 26,
    "start_time": "2023-02-02T08:54:11.495Z"
   },
   {
    "duration": 3,
    "start_time": "2023-02-02T08:56:57.674Z"
   },
   {
    "duration": 6939,
    "start_time": "2023-02-02T08:56:58.259Z"
   },
   {
    "duration": 6517,
    "start_time": "2023-02-02T08:57:22.195Z"
   },
   {
    "duration": 37,
    "start_time": "2023-02-02T09:21:59.631Z"
   },
   {
    "duration": 82,
    "start_time": "2023-02-02T09:24:40.124Z"
   },
   {
    "duration": 73,
    "start_time": "2023-02-02T09:25:07.229Z"
   },
   {
    "duration": 5561,
    "start_time": "2023-02-02T09:25:23.769Z"
   },
   {
    "duration": 49,
    "start_time": "2023-02-02T09:25:31.870Z"
   },
   {
    "duration": 9,
    "start_time": "2023-02-02T09:25:50.301Z"
   },
   {
    "duration": 11,
    "start_time": "2023-02-02T09:25:56.205Z"
   },
   {
    "duration": 131,
    "start_time": "2023-02-02T09:26:35.605Z"
   },
   {
    "duration": 11,
    "start_time": "2023-02-02T09:27:11.691Z"
   },
   {
    "duration": 15,
    "start_time": "2023-02-02T09:27:16.776Z"
   },
   {
    "duration": 14,
    "start_time": "2023-02-02T09:27:51.746Z"
   },
   {
    "duration": 12,
    "start_time": "2023-02-02T09:28:06.315Z"
   },
   {
    "duration": 19,
    "start_time": "2023-02-02T09:28:16.664Z"
   },
   {
    "duration": 13,
    "start_time": "2023-02-02T09:28:44.223Z"
   },
   {
    "duration": 12,
    "start_time": "2023-02-02T09:28:57.078Z"
   },
   {
    "duration": 14,
    "start_time": "2023-02-02T09:29:03.186Z"
   },
   {
    "duration": 13,
    "start_time": "2023-02-02T09:29:23.062Z"
   },
   {
    "duration": 4,
    "start_time": "2023-02-02T09:29:39.787Z"
   },
   {
    "duration": 4,
    "start_time": "2023-02-02T09:30:06.307Z"
   },
   {
    "duration": 5,
    "start_time": "2023-02-02T09:30:16.657Z"
   },
   {
    "duration": 16,
    "start_time": "2023-02-02T09:30:45.470Z"
   },
   {
    "duration": 9,
    "start_time": "2023-02-02T09:31:02.672Z"
   },
   {
    "duration": 2205,
    "start_time": "2023-02-02T09:31:49.143Z"
   },
   {
    "duration": 2258,
    "start_time": "2023-02-02T09:31:51.351Z"
   },
   {
    "duration": 1309,
    "start_time": "2023-02-02T09:31:53.611Z"
   },
   {
    "duration": 32,
    "start_time": "2023-02-02T09:31:54.922Z"
   },
   {
    "duration": 78,
    "start_time": "2023-02-02T09:31:54.956Z"
   },
   {
    "duration": 3,
    "start_time": "2023-02-02T09:31:55.036Z"
   },
   {
    "duration": 6841,
    "start_time": "2023-02-02T09:31:55.042Z"
   },
   {
    "duration": 92,
    "start_time": "2023-02-02T09:32:01.884Z"
   },
   {
    "duration": 1151,
    "start_time": "2023-02-02T09:32:01.977Z"
   },
   {
    "duration": 2,
    "start_time": "2023-02-02T09:32:03.130Z"
   },
   {
    "duration": 27,
    "start_time": "2023-02-02T09:32:03.134Z"
   },
   {
    "duration": 43,
    "start_time": "2023-02-02T09:32:03.163Z"
   },
   {
    "duration": 131,
    "start_time": "2023-02-02T09:46:41.938Z"
   },
   {
    "duration": 23,
    "start_time": "2023-02-02T10:00:13.350Z"
   },
   {
    "duration": 6,
    "start_time": "2023-02-02T10:01:35.276Z"
   },
   {
    "duration": 5,
    "start_time": "2023-02-02T10:02:41.309Z"
   },
   {
    "duration": 22,
    "start_time": "2023-02-02T10:02:50.516Z"
   },
   {
    "duration": 6,
    "start_time": "2023-02-02T10:04:07.093Z"
   },
   {
    "duration": 6,
    "start_time": "2023-02-02T10:04:14.607Z"
   },
   {
    "duration": 17,
    "start_time": "2023-02-02T10:05:26.688Z"
   },
   {
    "duration": 5,
    "start_time": "2023-02-02T10:05:42.732Z"
   },
   {
    "duration": 18,
    "start_time": "2023-02-02T10:05:44.032Z"
   },
   {
    "duration": 8,
    "start_time": "2023-02-02T10:07:25.405Z"
   },
   {
    "duration": 7,
    "start_time": "2023-02-02T10:07:36.029Z"
   },
   {
    "duration": 16,
    "start_time": "2023-02-02T10:07:39.493Z"
   },
   {
    "duration": 632,
    "start_time": "2023-02-02T10:08:28.635Z"
   },
   {
    "duration": 634,
    "start_time": "2023-02-02T10:09:04.910Z"
   },
   {
    "duration": 627,
    "start_time": "2023-02-02T10:09:21.997Z"
   },
   {
    "duration": 693,
    "start_time": "2023-02-02T10:09:26.932Z"
   },
   {
    "duration": 613,
    "start_time": "2023-02-02T10:09:35.014Z"
   },
   {
    "duration": 680,
    "start_time": "2023-02-02T10:09:47.414Z"
   },
   {
    "duration": 4,
    "start_time": "2023-02-02T10:22:15.605Z"
   },
   {
    "duration": 73,
    "start_time": "2023-02-02T10:22:26.417Z"
   },
   {
    "duration": 13,
    "start_time": "2023-02-02T10:22:32.798Z"
   },
   {
    "duration": 9,
    "start_time": "2023-02-02T10:22:50.424Z"
   },
   {
    "duration": 561,
    "start_time": "2023-02-02T10:22:56.389Z"
   },
   {
    "duration": 622,
    "start_time": "2023-02-02T10:23:05.476Z"
   },
   {
    "duration": 614,
    "start_time": "2023-02-02T10:23:12.232Z"
   },
   {
    "duration": 636,
    "start_time": "2023-02-02T10:23:24.513Z"
   },
   {
    "duration": 680,
    "start_time": "2023-02-02T10:23:35.029Z"
   },
   {
    "duration": 608,
    "start_time": "2023-02-02T10:24:29.244Z"
   },
   {
    "duration": 8,
    "start_time": "2023-02-02T10:25:06.467Z"
   },
   {
    "duration": 554,
    "start_time": "2023-02-02T10:25:11.728Z"
   },
   {
    "duration": 9,
    "start_time": "2023-02-02T10:25:55.107Z"
   },
   {
    "duration": 623,
    "start_time": "2023-02-02T10:25:59.290Z"
   },
   {
    "duration": 75,
    "start_time": "2023-02-02T10:27:13.779Z"
   },
   {
    "duration": 569,
    "start_time": "2023-02-02T10:27:15.531Z"
   },
   {
    "duration": 9,
    "start_time": "2023-02-02T10:27:26.891Z"
   },
   {
    "duration": 569,
    "start_time": "2023-02-02T10:27:30.027Z"
   },
   {
    "duration": 84,
    "start_time": "2023-02-02T10:28:10.199Z"
   },
   {
    "duration": 68,
    "start_time": "2023-02-02T10:28:14.361Z"
   },
   {
    "duration": 70,
    "start_time": "2023-02-02T10:28:27.855Z"
   },
   {
    "duration": 8,
    "start_time": "2023-02-02T10:28:53.404Z"
   },
   {
    "duration": 9,
    "start_time": "2023-02-02T10:29:04.412Z"
   },
   {
    "duration": 8,
    "start_time": "2023-02-02T10:29:11.163Z"
   },
   {
    "duration": 8,
    "start_time": "2023-02-02T10:29:24.754Z"
   },
   {
    "duration": 540,
    "start_time": "2023-02-02T10:29:25.963Z"
   },
   {
    "duration": 545,
    "start_time": "2023-02-02T10:29:49.787Z"
   },
   {
    "duration": 549,
    "start_time": "2023-02-02T10:30:12.438Z"
   },
   {
    "duration": 587,
    "start_time": "2023-02-02T10:32:37.332Z"
   },
   {
    "duration": 523,
    "start_time": "2023-02-02T10:32:43.549Z"
   },
   {
    "duration": 604,
    "start_time": "2023-02-02T10:32:49.818Z"
   },
   {
    "duration": 535,
    "start_time": "2023-02-02T10:33:06.293Z"
   },
   {
    "duration": 519,
    "start_time": "2023-02-02T10:33:13.971Z"
   },
   {
    "duration": 10,
    "start_time": "2023-02-02T10:33:35.074Z"
   },
   {
    "duration": 575,
    "start_time": "2023-02-02T10:33:43.471Z"
   },
   {
    "duration": 605,
    "start_time": "2023-02-02T10:38:47.875Z"
   },
   {
    "duration": 10,
    "start_time": "2023-02-02T10:39:10.671Z"
   },
   {
    "duration": 87,
    "start_time": "2023-02-02T10:42:02.900Z"
   },
   {
    "duration": 88,
    "start_time": "2023-02-02T10:43:11.378Z"
   },
   {
    "duration": 7,
    "start_time": "2023-02-02T10:43:19.233Z"
   },
   {
    "duration": 552,
    "start_time": "2023-02-02T10:43:27.234Z"
   },
   {
    "duration": 622,
    "start_time": "2023-02-02T10:43:37.134Z"
   },
   {
    "duration": 618,
    "start_time": "2023-02-02T10:43:49.224Z"
   },
   {
    "duration": 554,
    "start_time": "2023-02-02T10:43:56.067Z"
   },
   {
    "duration": 604,
    "start_time": "2023-02-02T10:44:37.568Z"
   },
   {
    "duration": 560,
    "start_time": "2023-02-02T10:44:58.386Z"
   },
   {
    "duration": 548,
    "start_time": "2023-02-02T10:45:06.586Z"
   },
   {
    "duration": 509,
    "start_time": "2023-02-02T10:46:32.123Z"
   },
   {
    "duration": 20,
    "start_time": "2023-02-02T10:48:43.549Z"
   },
   {
    "duration": 11,
    "start_time": "2023-02-02T11:00:13.100Z"
   },
   {
    "duration": 12,
    "start_time": "2023-02-02T11:00:43.077Z"
   },
   {
    "duration": 13,
    "start_time": "2023-02-02T11:01:04.968Z"
   },
   {
    "duration": 16,
    "start_time": "2023-02-02T11:01:38.057Z"
   },
   {
    "duration": 11,
    "start_time": "2023-02-02T11:02:25.787Z"
   },
   {
    "duration": 11,
    "start_time": "2023-02-02T11:02:35.847Z"
   },
   {
    "duration": 8,
    "start_time": "2023-02-02T11:02:38.391Z"
   },
   {
    "duration": 585,
    "start_time": "2023-02-02T11:02:39.657Z"
   },
   {
    "duration": 12,
    "start_time": "2023-02-02T11:03:02.868Z"
   },
   {
    "duration": 12,
    "start_time": "2023-02-02T11:03:33.879Z"
   },
   {
    "duration": 9,
    "start_time": "2023-02-02T11:03:37.454Z"
   },
   {
    "duration": 635,
    "start_time": "2023-02-02T11:03:38.807Z"
   },
   {
    "duration": 536,
    "start_time": "2023-02-02T11:04:05.143Z"
   },
   {
    "duration": 517,
    "start_time": "2023-02-02T11:04:40.507Z"
   },
   {
    "duration": 10,
    "start_time": "2023-02-02T11:04:59.695Z"
   },
   {
    "duration": 592,
    "start_time": "2023-02-02T11:05:39.849Z"
   },
   {
    "duration": 551,
    "start_time": "2023-02-02T11:05:45.055Z"
   },
   {
    "duration": 578,
    "start_time": "2023-02-02T11:06:56.996Z"
   },
   {
    "duration": 610,
    "start_time": "2023-02-02T11:07:25.656Z"
   },
   {
    "duration": 10,
    "start_time": "2023-02-02T11:08:23.916Z"
   },
   {
    "duration": 9,
    "start_time": "2023-02-02T11:08:29.392Z"
   },
   {
    "duration": 541,
    "start_time": "2023-02-02T11:08:34.856Z"
   },
   {
    "duration": 526,
    "start_time": "2023-02-02T11:08:46.810Z"
   },
   {
    "duration": 542,
    "start_time": "2023-02-02T11:09:09.735Z"
   },
   {
    "duration": 5,
    "start_time": "2023-02-02T11:11:14.286Z"
   },
   {
    "duration": 5,
    "start_time": "2023-02-02T11:11:57.301Z"
   },
   {
    "duration": 10,
    "start_time": "2023-02-02T11:12:57.232Z"
   },
   {
    "duration": 10,
    "start_time": "2023-02-02T11:13:10.628Z"
   },
   {
    "duration": 5,
    "start_time": "2023-02-02T11:13:23.024Z"
   },
   {
    "duration": 4,
    "start_time": "2023-02-02T11:13:47.050Z"
   },
   {
    "duration": 10,
    "start_time": "2023-02-02T11:15:02.704Z"
   },
   {
    "duration": 10,
    "start_time": "2023-02-02T11:15:31.097Z"
   },
   {
    "duration": 13,
    "start_time": "2023-02-02T11:18:05.741Z"
   },
   {
    "duration": 1408,
    "start_time": "2023-02-02T11:18:38.976Z"
   },
   {
    "duration": 8,
    "start_time": "2023-02-02T11:18:47.782Z"
   },
   {
    "duration": 11,
    "start_time": "2023-02-02T11:19:30.209Z"
   },
   {
    "duration": 11,
    "start_time": "2023-02-02T11:20:41.618Z"
   },
   {
    "duration": 9,
    "start_time": "2023-02-02T11:20:56.828Z"
   },
   {
    "duration": 10,
    "start_time": "2023-02-02T11:22:08.663Z"
   },
   {
    "duration": 12,
    "start_time": "2023-02-02T11:26:29.582Z"
   },
   {
    "duration": 7,
    "start_time": "2023-02-02T11:29:42.314Z"
   },
   {
    "duration": 9,
    "start_time": "2023-02-02T11:31:10.653Z"
   },
   {
    "duration": 11,
    "start_time": "2023-02-02T11:31:18.156Z"
   },
   {
    "duration": 12,
    "start_time": "2023-02-02T11:31:56.368Z"
   },
   {
    "duration": 7,
    "start_time": "2023-02-02T11:32:54.175Z"
   },
   {
    "duration": 15,
    "start_time": "2023-02-02T11:33:34.460Z"
   },
   {
    "duration": 14,
    "start_time": "2023-02-02T11:33:45.433Z"
   },
   {
    "duration": 14,
    "start_time": "2023-02-02T11:35:32.013Z"
   },
   {
    "duration": 20,
    "start_time": "2023-02-02T11:36:27.268Z"
   },
   {
    "duration": 16,
    "start_time": "2023-02-02T11:37:30.738Z"
   },
   {
    "duration": 17,
    "start_time": "2023-02-02T11:37:46.745Z"
   },
   {
    "duration": 14,
    "start_time": "2023-02-02T11:38:35.573Z"
   },
   {
    "duration": 2420,
    "start_time": "2023-02-02T11:38:49.918Z"
   },
   {
    "duration": 2359,
    "start_time": "2023-02-02T11:38:52.341Z"
   },
   {
    "duration": 1480,
    "start_time": "2023-02-02T11:38:54.702Z"
   },
   {
    "duration": 102,
    "start_time": "2023-02-02T11:38:56.183Z"
   },
   {
    "duration": 80,
    "start_time": "2023-02-02T11:38:56.289Z"
   },
   {
    "duration": 5,
    "start_time": "2023-02-02T11:38:56.371Z"
   },
   {
    "duration": 13718,
    "start_time": "2023-02-02T11:38:56.378Z"
   },
   {
    "duration": 75,
    "start_time": "2023-02-02T11:39:10.097Z"
   },
   {
    "duration": 1279,
    "start_time": "2023-02-02T11:39:10.174Z"
   },
   {
    "duration": 3,
    "start_time": "2023-02-02T11:39:11.455Z"
   },
   {
    "duration": 49,
    "start_time": "2023-02-02T11:39:11.459Z"
   },
   {
    "duration": 30,
    "start_time": "2023-02-02T11:39:11.510Z"
   },
   {
    "duration": 45,
    "start_time": "2023-02-02T11:39:11.543Z"
   },
   {
    "duration": 606,
    "start_time": "2023-02-02T11:39:11.591Z"
   },
   {
    "duration": 15,
    "start_time": "2023-02-02T11:39:12.199Z"
   },
   {
    "duration": 16,
    "start_time": "2023-02-02T11:39:12.216Z"
   },
   {
    "duration": 559,
    "start_time": "2023-02-02T11:41:29.541Z"
   },
   {
    "duration": 2321,
    "start_time": "2023-02-02T11:41:40.244Z"
   },
   {
    "duration": 2227,
    "start_time": "2023-02-02T11:41:42.568Z"
   },
   {
    "duration": 4,
    "start_time": "2023-02-02T11:41:44.797Z"
   },
   {
    "duration": 39,
    "start_time": "2023-02-02T11:41:44.803Z"
   },
   {
    "duration": 26,
    "start_time": "2023-02-02T11:41:44.843Z"
   },
   {
    "duration": 4,
    "start_time": "2023-02-02T11:41:44.871Z"
   },
   {
    "duration": 6920,
    "start_time": "2023-02-02T11:41:44.877Z"
   },
   {
    "duration": 77,
    "start_time": "2023-02-02T11:41:51.799Z"
   },
   {
    "duration": 41,
    "start_time": "2023-02-02T11:41:51.878Z"
   },
   {
    "duration": 7,
    "start_time": "2023-02-02T11:41:51.921Z"
   },
   {
    "duration": 27,
    "start_time": "2023-02-02T11:41:51.930Z"
   },
   {
    "duration": 23,
    "start_time": "2023-02-02T11:41:51.959Z"
   },
   {
    "duration": 8,
    "start_time": "2023-02-02T11:42:13.140Z"
   },
   {
    "duration": 26,
    "start_time": "2023-02-02T11:42:13.150Z"
   },
   {
    "duration": 12,
    "start_time": "2023-02-02T11:42:13.178Z"
   },
   {
    "duration": 547,
    "start_time": "2023-02-02T11:42:13.192Z"
   },
   {
    "duration": 14,
    "start_time": "2023-02-02T11:42:13.741Z"
   },
   {
    "duration": 13,
    "start_time": "2023-02-02T11:42:13.757Z"
   },
   {
    "duration": 10,
    "start_time": "2023-02-02T11:43:33.210Z"
   },
   {
    "duration": 10,
    "start_time": "2023-02-02T11:43:42.363Z"
   },
   {
    "duration": 10,
    "start_time": "2023-02-02T11:43:50.387Z"
   },
   {
    "duration": 540,
    "start_time": "2023-02-02T11:43:50.399Z"
   },
   {
    "duration": 16,
    "start_time": "2023-02-02T11:43:50.941Z"
   },
   {
    "duration": 17,
    "start_time": "2023-02-02T11:43:50.959Z"
   },
   {
    "duration": 9,
    "start_time": "2023-02-02T11:44:04.163Z"
   },
   {
    "duration": 13,
    "start_time": "2023-02-02T11:44:04.173Z"
   },
   {
    "duration": 12,
    "start_time": "2023-02-02T11:44:04.187Z"
   },
   {
    "duration": 523,
    "start_time": "2023-02-02T11:44:04.201Z"
   },
   {
    "duration": 8,
    "start_time": "2023-02-02T11:44:04.726Z"
   },
   {
    "duration": 29,
    "start_time": "2023-02-02T11:44:04.736Z"
   },
   {
    "duration": 552,
    "start_time": "2023-02-02T11:45:55.789Z"
   },
   {
    "duration": 291,
    "start_time": "2023-02-02T11:46:08.614Z"
   },
   {
    "duration": 39,
    "start_time": "2023-02-02T11:46:08.907Z"
   },
   {
    "duration": 2,
    "start_time": "2023-02-02T11:46:08.948Z"
   },
   {
    "duration": 13,
    "start_time": "2023-02-02T11:46:08.952Z"
   },
   {
    "duration": 21,
    "start_time": "2023-02-02T11:46:08.967Z"
   },
   {
    "duration": 22,
    "start_time": "2023-02-02T11:46:08.990Z"
   },
   {
    "duration": 605,
    "start_time": "2023-02-02T11:46:09.013Z"
   },
   {
    "duration": 10,
    "start_time": "2023-02-02T11:46:09.620Z"
   },
   {
    "duration": 27,
    "start_time": "2023-02-02T11:46:09.632Z"
   },
   {
    "duration": 494,
    "start_time": "2023-02-02T11:47:40.037Z"
   },
   {
    "duration": 496,
    "start_time": "2023-02-02T11:49:52.686Z"
   },
   {
    "duration": 7257,
    "start_time": "2023-02-02T11:50:20.055Z"
   },
   {
    "duration": 127,
    "start_time": "2023-02-02T11:50:27.314Z"
   },
   {
    "duration": 48,
    "start_time": "2023-02-02T11:50:27.443Z"
   },
   {
    "duration": 17,
    "start_time": "2023-02-02T11:50:27.495Z"
   },
   {
    "duration": 71,
    "start_time": "2023-02-02T11:50:27.515Z"
   },
   {
    "duration": 38,
    "start_time": "2023-02-02T11:50:27.588Z"
   },
   {
    "duration": 39,
    "start_time": "2023-02-02T11:50:27.628Z"
   },
   {
    "duration": 548,
    "start_time": "2023-02-02T11:50:27.669Z"
   },
   {
    "duration": 10,
    "start_time": "2023-02-02T11:50:28.218Z"
   },
   {
    "duration": 64,
    "start_time": "2023-02-02T11:50:28.231Z"
   },
   {
    "duration": 11,
    "start_time": "2023-02-02T11:50:55.835Z"
   },
   {
    "duration": 553,
    "start_time": "2023-02-02T11:53:53.330Z"
   },
   {
    "duration": 131,
    "start_time": "2023-02-02T11:55:15.532Z"
   },
   {
    "duration": 42,
    "start_time": "2023-02-02T11:55:15.666Z"
   },
   {
    "duration": 14,
    "start_time": "2023-02-02T11:55:15.710Z"
   },
   {
    "duration": 45,
    "start_time": "2023-02-02T11:55:15.726Z"
   },
   {
    "duration": 35,
    "start_time": "2023-02-02T11:55:15.773Z"
   },
   {
    "duration": 20,
    "start_time": "2023-02-02T11:55:15.809Z"
   },
   {
    "duration": 597,
    "start_time": "2023-02-02T11:55:15.831Z"
   },
   {
    "duration": 11,
    "start_time": "2023-02-02T11:55:16.429Z"
   },
   {
    "duration": 17,
    "start_time": "2023-02-02T11:55:16.441Z"
   },
   {
    "duration": 610,
    "start_time": "2023-02-02T11:55:35.366Z"
   },
   {
    "duration": 580,
    "start_time": "2023-02-02T11:56:36.066Z"
   },
   {
    "duration": 683,
    "start_time": "2023-02-02T11:58:45.771Z"
   },
   {
    "duration": 526,
    "start_time": "2023-02-02T11:59:18.243Z"
   },
   {
    "duration": 586,
    "start_time": "2023-02-02T11:59:26.141Z"
   },
   {
    "duration": 532,
    "start_time": "2023-02-02T12:00:42.341Z"
   },
   {
    "duration": 49,
    "start_time": "2023-02-02T14:38:27.910Z"
   },
   {
    "duration": 4240,
    "start_time": "2023-02-02T14:38:34.347Z"
   },
   {
    "duration": 6017,
    "start_time": "2023-02-02T14:38:38.590Z"
   },
   {
    "duration": 1458,
    "start_time": "2023-02-02T14:38:44.609Z"
   },
   {
    "duration": 69,
    "start_time": "2023-02-02T14:38:46.068Z"
   },
   {
    "duration": 104,
    "start_time": "2023-02-02T14:38:46.139Z"
   },
   {
    "duration": 4,
    "start_time": "2023-02-02T14:38:46.245Z"
   },
   {
    "duration": 13078,
    "start_time": "2023-02-02T14:38:46.250Z"
   },
   {
    "duration": 61,
    "start_time": "2023-02-02T14:38:59.329Z"
   },
   {
    "duration": 1156,
    "start_time": "2023-02-02T14:38:59.392Z"
   },
   {
    "duration": 2,
    "start_time": "2023-02-02T14:39:00.550Z"
   },
   {
    "duration": 76,
    "start_time": "2023-02-02T14:39:00.554Z"
   },
   {
    "duration": 31,
    "start_time": "2023-02-02T14:39:00.631Z"
   },
   {
    "duration": 72,
    "start_time": "2023-02-02T14:39:00.664Z"
   },
   {
    "duration": 598,
    "start_time": "2023-02-02T14:39:00.739Z"
   },
   {
    "duration": 10,
    "start_time": "2023-02-02T14:39:01.338Z"
   },
   {
    "duration": 182,
    "start_time": "2023-02-02T14:39:01.350Z"
   },
   {
    "duration": 3424,
    "start_time": "2023-02-03T08:16:41.217Z"
   },
   {
    "duration": 5413,
    "start_time": "2023-02-03T08:16:44.644Z"
   },
   {
    "duration": 1376,
    "start_time": "2023-02-03T08:16:50.059Z"
   },
   {
    "duration": 55,
    "start_time": "2023-02-03T08:16:51.437Z"
   },
   {
    "duration": 57,
    "start_time": "2023-02-03T08:16:51.493Z"
   },
   {
    "duration": 4,
    "start_time": "2023-02-03T08:16:51.551Z"
   },
   {
    "duration": 13198,
    "start_time": "2023-02-03T08:16:51.557Z"
   },
   {
    "duration": 56,
    "start_time": "2023-02-03T08:17:04.757Z"
   },
   {
    "duration": 1397,
    "start_time": "2023-02-03T08:17:04.815Z"
   },
   {
    "duration": 4,
    "start_time": "2023-02-03T08:17:06.216Z"
   },
   {
    "duration": 37,
    "start_time": "2023-02-03T08:17:06.222Z"
   },
   {
    "duration": 22,
    "start_time": "2023-02-03T08:17:06.262Z"
   },
   {
    "duration": 27,
    "start_time": "2023-02-03T08:17:06.286Z"
   },
   {
    "duration": 600,
    "start_time": "2023-02-03T08:17:06.314Z"
   },
   {
    "duration": 10,
    "start_time": "2023-02-03T08:17:06.915Z"
   },
   {
    "duration": 13,
    "start_time": "2023-02-03T08:17:06.936Z"
   },
   {
    "duration": 8,
    "start_time": "2023-02-03T08:19:05.556Z"
   },
   {
    "duration": 513,
    "start_time": "2023-02-03T08:26:12.163Z"
   },
   {
    "duration": 18,
    "start_time": "2023-02-03T08:26:24.916Z"
   },
   {
    "duration": 24,
    "start_time": "2023-02-03T08:27:01.171Z"
   },
   {
    "duration": 18,
    "start_time": "2023-02-03T08:28:00.163Z"
   },
   {
    "duration": 7,
    "start_time": "2023-02-03T08:28:18.882Z"
   },
   {
    "duration": 12,
    "start_time": "2023-02-03T08:28:24.393Z"
   },
   {
    "duration": 190,
    "start_time": "2023-02-03T08:28:34.003Z"
   },
   {
    "duration": 174,
    "start_time": "2023-02-03T08:33:31.405Z"
   },
   {
    "duration": 19,
    "start_time": "2023-02-03T08:34:21.341Z"
   },
   {
    "duration": 16,
    "start_time": "2023-02-03T08:35:09.252Z"
   },
   {
    "duration": 176,
    "start_time": "2023-02-03T08:35:39.805Z"
   },
   {
    "duration": 172,
    "start_time": "2023-02-03T08:35:43.664Z"
   },
   {
    "duration": 187,
    "start_time": "2023-02-03T08:35:59.167Z"
   },
   {
    "duration": 24,
    "start_time": "2023-02-03T08:36:43.610Z"
   },
   {
    "duration": 20,
    "start_time": "2023-02-03T08:36:54.809Z"
   },
   {
    "duration": 19,
    "start_time": "2023-02-03T08:37:50.707Z"
   },
   {
    "duration": 826,
    "start_time": "2023-02-03T08:38:04.218Z"
   },
   {
    "duration": 825,
    "start_time": "2023-02-03T08:38:14.810Z"
   },
   {
    "duration": 895,
    "start_time": "2023-02-03T08:38:34.803Z"
   },
   {
    "duration": 0,
    "start_time": "2023-02-03T08:38:35.700Z"
   },
   {
    "duration": 0,
    "start_time": "2023-02-03T08:38:35.701Z"
   },
   {
    "duration": 0,
    "start_time": "2023-02-03T08:38:35.702Z"
   },
   {
    "duration": 1953,
    "start_time": "2023-02-03T08:38:49.459Z"
   },
   {
    "duration": 2032,
    "start_time": "2023-02-03T08:38:51.415Z"
   },
   {
    "duration": 1334,
    "start_time": "2023-02-03T08:38:53.449Z"
   },
   {
    "duration": 27,
    "start_time": "2023-02-03T08:38:54.786Z"
   },
   {
    "duration": 65,
    "start_time": "2023-02-03T08:38:54.815Z"
   },
   {
    "duration": 3,
    "start_time": "2023-02-03T08:38:54.882Z"
   },
   {
    "duration": 6477,
    "start_time": "2023-02-03T08:38:54.887Z"
   },
   {
    "duration": 124,
    "start_time": "2023-02-03T08:39:01.366Z"
   },
   {
    "duration": 1256,
    "start_time": "2023-02-03T08:39:01.492Z"
   },
   {
    "duration": 2,
    "start_time": "2023-02-03T08:39:02.751Z"
   },
   {
    "duration": 26,
    "start_time": "2023-02-03T08:39:02.755Z"
   },
   {
    "duration": 27,
    "start_time": "2023-02-03T08:39:02.783Z"
   },
   {
    "duration": 23,
    "start_time": "2023-02-03T08:39:02.812Z"
   },
   {
    "duration": 612,
    "start_time": "2023-02-03T08:39:02.837Z"
   },
   {
    "duration": 13,
    "start_time": "2023-02-03T08:39:03.451Z"
   },
   {
    "duration": 28,
    "start_time": "2023-02-03T08:39:03.466Z"
   },
   {
    "duration": 357,
    "start_time": "2023-02-03T08:39:03.496Z"
   },
   {
    "duration": 1056,
    "start_time": "2023-02-03T08:39:50.379Z"
   },
   {
    "duration": 1978,
    "start_time": "2023-02-03T08:40:22.105Z"
   },
   {
    "duration": 2000,
    "start_time": "2023-02-03T08:40:24.085Z"
   },
   {
    "duration": 1297,
    "start_time": "2023-02-03T08:40:26.087Z"
   },
   {
    "duration": 30,
    "start_time": "2023-02-03T08:40:27.386Z"
   },
   {
    "duration": 34,
    "start_time": "2023-02-03T08:40:27.418Z"
   },
   {
    "duration": 4,
    "start_time": "2023-02-03T08:40:27.454Z"
   },
   {
    "duration": 8544,
    "start_time": "2023-02-03T08:40:27.460Z"
   },
   {
    "duration": 73,
    "start_time": "2023-02-03T08:40:36.006Z"
   },
   {
    "duration": 1371,
    "start_time": "2023-02-03T08:40:36.081Z"
   },
   {
    "duration": 2,
    "start_time": "2023-02-03T08:40:37.454Z"
   },
   {
    "duration": 20,
    "start_time": "2023-02-03T08:40:37.458Z"
   },
   {
    "duration": 13,
    "start_time": "2023-02-03T08:40:37.480Z"
   },
   {
    "duration": 12,
    "start_time": "2023-02-03T08:40:37.495Z"
   },
   {
    "duration": 581,
    "start_time": "2023-02-03T08:40:37.538Z"
   },
   {
    "duration": 17,
    "start_time": "2023-02-03T08:40:38.121Z"
   },
   {
    "duration": 17,
    "start_time": "2023-02-03T08:40:38.140Z"
   },
   {
    "duration": 14,
    "start_time": "2023-02-03T08:40:38.159Z"
   },
   {
    "duration": 149,
    "start_time": "2023-02-03T08:40:38.588Z"
   },
   {
    "duration": 288,
    "start_time": "2023-02-03T08:41:51.786Z"
   },
   {
    "duration": 129,
    "start_time": "2023-02-03T08:42:03.427Z"
   },
   {
    "duration": 132,
    "start_time": "2023-02-03T08:42:27.146Z"
   },
   {
    "duration": 7,
    "start_time": "2023-02-03T08:42:34.660Z"
   },
   {
    "duration": 13,
    "start_time": "2023-02-03T08:42:45.698Z"
   },
   {
    "duration": 142,
    "start_time": "2023-02-03T08:59:00.472Z"
   },
   {
    "duration": 14,
    "start_time": "2023-02-03T08:59:09.289Z"
   },
   {
    "duration": 12,
    "start_time": "2023-02-03T08:59:34.350Z"
   },
   {
    "duration": 6,
    "start_time": "2023-02-03T09:00:30.783Z"
   },
   {
    "duration": 6,
    "start_time": "2023-02-03T09:02:05.419Z"
   },
   {
    "duration": 8,
    "start_time": "2023-02-03T09:10:16.551Z"
   },
   {
    "duration": 10,
    "start_time": "2023-02-03T09:17:06.953Z"
   },
   {
    "duration": 9,
    "start_time": "2023-02-03T09:17:40.461Z"
   },
   {
    "duration": 677,
    "start_time": "2023-02-03T09:19:08.775Z"
   },
   {
    "duration": 633,
    "start_time": "2023-02-03T09:19:36.950Z"
   },
   {
    "duration": 1006,
    "start_time": "2023-02-03T09:19:49.421Z"
   },
   {
    "duration": 0,
    "start_time": "2023-02-03T09:19:50.429Z"
   },
   {
    "duration": 0,
    "start_time": "2023-02-03T09:19:50.431Z"
   },
   {
    "duration": 0,
    "start_time": "2023-02-03T09:19:50.433Z"
   },
   {
    "duration": 0,
    "start_time": "2023-02-03T09:19:50.434Z"
   },
   {
    "duration": 2119,
    "start_time": "2023-02-03T09:20:11.832Z"
   },
   {
    "duration": 2031,
    "start_time": "2023-02-03T09:20:13.954Z"
   },
   {
    "duration": 1327,
    "start_time": "2023-02-03T09:20:15.988Z"
   },
   {
    "duration": 83,
    "start_time": "2023-02-03T09:20:17.318Z"
   },
   {
    "duration": 66,
    "start_time": "2023-02-03T09:20:17.403Z"
   },
   {
    "duration": 4,
    "start_time": "2023-02-03T09:20:17.471Z"
   },
   {
    "duration": 12530,
    "start_time": "2023-02-03T09:20:17.476Z"
   },
   {
    "duration": 97,
    "start_time": "2023-02-03T09:20:30.008Z"
   },
   {
    "duration": 1308,
    "start_time": "2023-02-03T09:20:30.107Z"
   },
   {
    "duration": 2,
    "start_time": "2023-02-03T09:20:31.418Z"
   },
   {
    "duration": 28,
    "start_time": "2023-02-03T09:20:31.422Z"
   },
   {
    "duration": 16,
    "start_time": "2023-02-03T09:20:31.452Z"
   },
   {
    "duration": 22,
    "start_time": "2023-02-03T09:20:31.470Z"
   },
   {
    "duration": 581,
    "start_time": "2023-02-03T09:20:31.494Z"
   },
   {
    "duration": 10,
    "start_time": "2023-02-03T09:20:32.077Z"
   },
   {
    "duration": 15,
    "start_time": "2023-02-03T09:20:32.088Z"
   },
   {
    "duration": 11,
    "start_time": "2023-02-03T09:20:32.104Z"
   },
   {
    "duration": 30,
    "start_time": "2023-02-03T09:20:32.116Z"
   },
   {
    "duration": 20,
    "start_time": "2023-02-03T09:20:32.147Z"
   },
   {
    "duration": 679,
    "start_time": "2023-02-03T09:20:32.169Z"
   },
   {
    "duration": 3,
    "start_time": "2023-02-03T09:20:32.851Z"
   },
   {
    "duration": 6,
    "start_time": "2023-02-03T09:21:06.425Z"
   },
   {
    "duration": 249,
    "start_time": "2023-02-03T09:32:59.619Z"
   },
   {
    "duration": 171,
    "start_time": "2023-02-03T09:33:30.218Z"
   },
   {
    "duration": 14414,
    "start_time": "2023-02-03T09:34:55.504Z"
   },
   {
    "duration": 13055,
    "start_time": "2023-02-03T09:38:25.424Z"
   },
   {
    "duration": 12659,
    "start_time": "2023-02-03T09:45:39.545Z"
   },
   {
    "duration": 12330,
    "start_time": "2023-02-03T09:47:34.686Z"
   },
   {
    "duration": 12752,
    "start_time": "2023-02-03T09:48:02.864Z"
   },
   {
    "duration": 12986,
    "start_time": "2023-02-03T09:49:47.430Z"
   },
   {
    "duration": 13572,
    "start_time": "2023-02-03T09:51:00.502Z"
   },
   {
    "duration": 13767,
    "start_time": "2023-02-03T09:53:02.903Z"
   },
   {
    "duration": 21,
    "start_time": "2023-02-03T09:56:57.814Z"
   },
   {
    "duration": 12681,
    "start_time": "2023-02-03T09:57:16.524Z"
   },
   {
    "duration": 81,
    "start_time": "2023-02-03T09:57:59.855Z"
   },
   {
    "duration": 86,
    "start_time": "2023-02-03T09:58:07.161Z"
   },
   {
    "duration": 40,
    "start_time": "2023-02-03T09:58:11.663Z"
   },
   {
    "duration": 13178,
    "start_time": "2023-02-03T09:58:31.631Z"
   },
   {
    "duration": 13198,
    "start_time": "2023-02-03T09:59:00.670Z"
   },
   {
    "duration": 6,
    "start_time": "2023-02-03T10:48:28.178Z"
   },
   {
    "duration": 14,
    "start_time": "2023-02-03T10:48:36.969Z"
   },
   {
    "duration": 2049,
    "start_time": "2023-02-03T10:48:54.083Z"
   },
   {
    "duration": 2058,
    "start_time": "2023-02-03T10:48:56.134Z"
   },
   {
    "duration": 1415,
    "start_time": "2023-02-03T10:48:58.194Z"
   },
   {
    "duration": 88,
    "start_time": "2023-02-03T10:48:59.611Z"
   },
   {
    "duration": 68,
    "start_time": "2023-02-03T10:48:59.702Z"
   },
   {
    "duration": 4,
    "start_time": "2023-02-03T10:48:59.771Z"
   },
   {
    "duration": 12951,
    "start_time": "2023-02-03T10:48:59.777Z"
   },
   {
    "duration": 85,
    "start_time": "2023-02-03T10:49:12.730Z"
   },
   {
    "duration": 1355,
    "start_time": "2023-02-03T10:49:12.817Z"
   },
   {
    "duration": 3,
    "start_time": "2023-02-03T10:49:14.174Z"
   },
   {
    "duration": 25,
    "start_time": "2023-02-03T10:49:14.179Z"
   },
   {
    "duration": 11,
    "start_time": "2023-02-03T10:49:14.206Z"
   },
   {
    "duration": 10,
    "start_time": "2023-02-03T10:49:14.236Z"
   },
   {
    "duration": 618,
    "start_time": "2023-02-03T10:49:14.249Z"
   },
   {
    "duration": 12,
    "start_time": "2023-02-03T10:49:14.869Z"
   },
   {
    "duration": 14,
    "start_time": "2023-02-03T10:49:14.882Z"
   },
   {
    "duration": 25,
    "start_time": "2023-02-03T10:49:14.898Z"
   },
   {
    "duration": 16,
    "start_time": "2023-02-03T10:49:14.925Z"
   },
   {
    "duration": 13,
    "start_time": "2023-02-03T10:49:14.943Z"
   },
   {
    "duration": 684,
    "start_time": "2023-02-03T10:49:14.957Z"
   },
   {
    "duration": 13146,
    "start_time": "2023-02-03T10:49:15.642Z"
   },
   {
    "duration": 20,
    "start_time": "2023-02-03T10:49:28.790Z"
   },
   {
    "duration": 6,
    "start_time": "2023-02-03T11:55:46.302Z"
   },
   {
    "duration": 9,
    "start_time": "2023-02-03T12:01:45.118Z"
   },
   {
    "duration": 126,
    "start_time": "2023-02-03T12:05:20.942Z"
   },
   {
    "duration": 2082,
    "start_time": "2023-02-03T12:07:51.651Z"
   },
   {
    "duration": 2194,
    "start_time": "2023-02-03T12:07:53.736Z"
   },
   {
    "duration": 1412,
    "start_time": "2023-02-03T12:07:55.932Z"
   },
   {
    "duration": 76,
    "start_time": "2023-02-03T12:07:57.346Z"
   },
   {
    "duration": 59,
    "start_time": "2023-02-03T12:07:57.423Z"
   },
   {
    "duration": 4,
    "start_time": "2023-02-03T12:07:57.483Z"
   },
   {
    "duration": 15259,
    "start_time": "2023-02-03T12:07:57.489Z"
   },
   {
    "duration": 73,
    "start_time": "2023-02-03T12:08:12.750Z"
   },
   {
    "duration": 1257,
    "start_time": "2023-02-03T12:08:12.824Z"
   },
   {
    "duration": 2,
    "start_time": "2023-02-03T12:08:14.084Z"
   },
   {
    "duration": 21,
    "start_time": "2023-02-03T12:08:14.088Z"
   },
   {
    "duration": 11,
    "start_time": "2023-02-03T12:08:14.111Z"
   },
   {
    "duration": 9,
    "start_time": "2023-02-03T12:08:14.138Z"
   },
   {
    "duration": 596,
    "start_time": "2023-02-03T12:08:14.149Z"
   },
   {
    "duration": 11,
    "start_time": "2023-02-03T12:08:14.747Z"
   },
   {
    "duration": 14,
    "start_time": "2023-02-03T12:08:14.759Z"
   },
   {
    "duration": 9,
    "start_time": "2023-02-03T12:08:14.774Z"
   },
   {
    "duration": 40,
    "start_time": "2023-02-03T12:08:14.784Z"
   },
   {
    "duration": 9,
    "start_time": "2023-02-03T12:08:14.826Z"
   },
   {
    "duration": 637,
    "start_time": "2023-02-03T12:08:14.836Z"
   },
   {
    "duration": 13630,
    "start_time": "2023-02-03T12:08:15.475Z"
   },
   {
    "duration": 33,
    "start_time": "2023-02-03T12:08:29.107Z"
   },
   {
    "duration": 21,
    "start_time": "2023-02-03T12:08:29.142Z"
   },
   {
    "duration": 141,
    "start_time": "2023-02-03T12:08:29.164Z"
   },
   {
    "duration": 0,
    "start_time": "2023-02-03T12:08:29.307Z"
   },
   {
    "duration": 66,
    "start_time": "2023-02-03T12:23:37.727Z"
   },
   {
    "duration": 39,
    "start_time": "2023-02-03T12:23:43.798Z"
   },
   {
    "duration": 41,
    "start_time": "2023-02-03T12:23:57.585Z"
   },
   {
    "duration": 41,
    "start_time": "2023-02-03T12:24:05.733Z"
   },
   {
    "duration": 40,
    "start_time": "2023-02-03T12:24:26.166Z"
   },
   {
    "duration": 4507,
    "start_time": "2023-02-03T13:20:46.910Z"
   },
   {
    "duration": 6346,
    "start_time": "2023-02-03T13:20:51.420Z"
   },
   {
    "duration": 1523,
    "start_time": "2023-02-03T13:20:57.768Z"
   },
   {
    "duration": 66,
    "start_time": "2023-02-03T13:20:59.293Z"
   },
   {
    "duration": 106,
    "start_time": "2023-02-03T13:20:59.361Z"
   },
   {
    "duration": 4,
    "start_time": "2023-02-03T13:20:59.469Z"
   },
   {
    "duration": 15105,
    "start_time": "2023-02-03T13:20:59.475Z"
   },
   {
    "duration": 71,
    "start_time": "2023-02-03T13:21:14.582Z"
   },
   {
    "duration": 1263,
    "start_time": "2023-02-03T13:21:14.655Z"
   },
   {
    "duration": 3,
    "start_time": "2023-02-03T13:21:15.921Z"
   },
   {
    "duration": 36,
    "start_time": "2023-02-03T13:21:15.925Z"
   },
   {
    "duration": 11,
    "start_time": "2023-02-03T13:21:15.963Z"
   },
   {
    "duration": 10,
    "start_time": "2023-02-03T13:21:15.976Z"
   },
   {
    "duration": 620,
    "start_time": "2023-02-03T13:21:15.988Z"
   },
   {
    "duration": 13,
    "start_time": "2023-02-03T13:21:16.611Z"
   },
   {
    "duration": 25,
    "start_time": "2023-02-03T13:21:16.626Z"
   },
   {
    "duration": 17,
    "start_time": "2023-02-03T13:21:16.653Z"
   },
   {
    "duration": 14,
    "start_time": "2023-02-03T13:21:16.672Z"
   },
   {
    "duration": 16,
    "start_time": "2023-02-03T13:21:16.688Z"
   },
   {
    "duration": 679,
    "start_time": "2023-02-03T13:21:16.706Z"
   },
   {
    "duration": 13691,
    "start_time": "2023-02-03T13:21:17.387Z"
   },
   {
    "duration": 19,
    "start_time": "2023-02-03T13:21:31.079Z"
   },
   {
    "duration": 25,
    "start_time": "2023-02-03T13:21:31.099Z"
   },
   {
    "duration": 143,
    "start_time": "2023-02-03T13:21:31.125Z"
   },
   {
    "duration": 0,
    "start_time": "2023-02-03T13:21:31.270Z"
   },
   {
    "duration": 13,
    "start_time": "2023-02-03T13:24:19.039Z"
   },
   {
    "duration": 727,
    "start_time": "2023-02-03T13:24:19.054Z"
   },
   {
    "duration": 14801,
    "start_time": "2023-02-03T13:24:19.783Z"
   },
   {
    "duration": 12,
    "start_time": "2023-02-03T13:24:34.586Z"
   },
   {
    "duration": 11,
    "start_time": "2023-02-03T13:24:34.599Z"
   },
   {
    "duration": 351,
    "start_time": "2023-02-03T13:24:34.611Z"
   },
   {
    "duration": 3,
    "start_time": "2023-02-03T13:24:34.964Z"
   },
   {
    "duration": 4,
    "start_time": "2023-02-03T13:26:48.677Z"
   },
   {
    "duration": 4,
    "start_time": "2023-02-03T13:26:56.880Z"
   },
   {
    "duration": 364,
    "start_time": "2023-02-03T13:26:57.438Z"
   },
   {
    "duration": 7,
    "start_time": "2023-02-03T13:26:58.028Z"
   },
   {
    "duration": 17,
    "start_time": "2023-02-03T13:28:06.551Z"
   },
   {
    "duration": 11,
    "start_time": "2023-02-03T13:28:16.665Z"
   },
   {
    "duration": 6,
    "start_time": "2023-02-03T13:28:27.709Z"
   },
   {
    "duration": 16,
    "start_time": "2023-02-03T13:28:31.653Z"
   },
   {
    "duration": 416,
    "start_time": "2023-02-03T13:28:38.853Z"
   },
   {
    "duration": 9,
    "start_time": "2023-02-03T13:28:47.383Z"
   },
   {
    "duration": 10,
    "start_time": "2023-02-03T13:30:40.190Z"
   },
   {
    "duration": 9,
    "start_time": "2023-02-03T13:30:48.620Z"
   },
   {
    "duration": 11,
    "start_time": "2023-02-03T13:33:19.317Z"
   },
   {
    "duration": 17,
    "start_time": "2023-02-03T13:33:26.797Z"
   },
   {
    "duration": 12,
    "start_time": "2023-02-03T13:36:35.219Z"
   },
   {
    "duration": 7,
    "start_time": "2023-02-03T13:37:12.187Z"
   },
   {
    "duration": 14,
    "start_time": "2023-02-03T13:37:19.965Z"
   },
   {
    "duration": 66,
    "start_time": "2023-02-03T13:43:17.932Z"
   },
   {
    "duration": 19,
    "start_time": "2023-02-03T13:43:31.650Z"
   },
   {
    "duration": 323,
    "start_time": "2023-02-03T13:45:25.378Z"
   },
   {
    "duration": 361,
    "start_time": "2023-02-03T13:45:36.515Z"
   },
   {
    "duration": 418,
    "start_time": "2023-02-03T13:46:08.867Z"
   },
   {
    "duration": 8,
    "start_time": "2023-02-03T13:46:50.970Z"
   },
   {
    "duration": 335,
    "start_time": "2023-02-03T13:47:31.242Z"
   },
   {
    "duration": 10,
    "start_time": "2023-02-03T13:47:32.239Z"
   },
   {
    "duration": 347,
    "start_time": "2023-02-03T13:47:34.324Z"
   },
   {
    "duration": 19,
    "start_time": "2023-02-03T13:47:53.420Z"
   },
   {
    "duration": 8,
    "start_time": "2023-02-03T13:48:07.721Z"
   },
   {
    "duration": 12,
    "start_time": "2023-02-03T13:51:12.196Z"
   },
   {
    "duration": 12,
    "start_time": "2023-02-03T13:51:19.963Z"
   },
   {
    "duration": 8,
    "start_time": "2023-02-03T13:51:30.488Z"
   },
   {
    "duration": 9,
    "start_time": "2023-02-03T13:53:51.360Z"
   },
   {
    "duration": 13,
    "start_time": "2023-02-03T13:55:38.729Z"
   },
   {
    "duration": 17,
    "start_time": "2023-02-03T13:56:02.564Z"
   },
   {
    "duration": 62,
    "start_time": "2023-02-03T13:56:14.484Z"
   },
   {
    "duration": 92,
    "start_time": "2023-02-03T13:58:23.832Z"
   },
   {
    "duration": 90,
    "start_time": "2023-02-03T14:00:21.464Z"
   },
   {
    "duration": 4354,
    "start_time": "2023-02-03T14:00:46.568Z"
   },
   {
    "duration": 20665,
    "start_time": "2023-02-03T14:04:03.113Z"
   },
   {
    "duration": 15488,
    "start_time": "2023-02-03T14:05:09.309Z"
   },
   {
    "duration": 119246,
    "start_time": "2023-02-03T14:05:53.293Z"
   },
   {
    "duration": 815,
    "start_time": "2023-02-03T14:07:52.541Z"
   },
   {
    "duration": 27,
    "start_time": "2023-02-03T14:08:18.902Z"
   },
   {
    "duration": 13,
    "start_time": "2023-02-03T14:08:25.398Z"
   },
   {
    "duration": 10,
    "start_time": "2023-02-03T14:08:29.717Z"
   },
   {
    "duration": 12,
    "start_time": "2023-02-03T14:08:32.229Z"
   },
   {
    "duration": 16,
    "start_time": "2023-02-03T14:08:36.912Z"
   },
   {
    "duration": 7,
    "start_time": "2023-02-03T14:08:42.116Z"
   },
   {
    "duration": 67,
    "start_time": "2023-02-03T14:08:46.732Z"
   },
   {
    "duration": 4064,
    "start_time": "2023-02-03T14:08:51.998Z"
   },
   {
    "duration": 2510,
    "start_time": "2023-02-03T14:10:59.890Z"
   },
   {
    "duration": 2414,
    "start_time": "2023-02-03T14:11:02.402Z"
   },
   {
    "duration": 1448,
    "start_time": "2023-02-03T14:11:04.818Z"
   },
   {
    "duration": 37,
    "start_time": "2023-02-03T14:11:06.269Z"
   },
   {
    "duration": 84,
    "start_time": "2023-02-03T14:11:06.308Z"
   },
   {
    "duration": 4,
    "start_time": "2023-02-03T14:11:06.394Z"
   },
   {
    "duration": 7289,
    "start_time": "2023-02-03T14:11:06.400Z"
   },
   {
    "duration": 118,
    "start_time": "2023-02-03T14:11:13.691Z"
   },
   {
    "duration": 1341,
    "start_time": "2023-02-03T14:11:13.811Z"
   },
   {
    "duration": 4,
    "start_time": "2023-02-03T14:11:15.160Z"
   },
   {
    "duration": 36,
    "start_time": "2023-02-03T14:11:15.166Z"
   },
   {
    "duration": 35,
    "start_time": "2023-02-03T14:11:15.203Z"
   },
   {
    "duration": 46,
    "start_time": "2023-02-03T14:11:15.241Z"
   },
   {
    "duration": 598,
    "start_time": "2023-02-03T14:11:15.289Z"
   },
   {
    "duration": 11,
    "start_time": "2023-02-03T14:11:15.889Z"
   },
   {
    "duration": 13,
    "start_time": "2023-02-03T14:11:15.901Z"
   },
   {
    "duration": 32,
    "start_time": "2023-02-03T14:11:15.916Z"
   },
   {
    "duration": 388,
    "start_time": "2023-02-03T14:11:15.951Z"
   },
   {
    "duration": 17,
    "start_time": "2023-02-03T14:11:16.341Z"
   },
   {
    "duration": 684,
    "start_time": "2023-02-03T14:11:16.359Z"
   },
   {
    "duration": 14852,
    "start_time": "2023-02-03T14:11:17.045Z"
   },
   {
    "duration": 12,
    "start_time": "2023-02-03T14:11:31.899Z"
   },
   {
    "duration": 20,
    "start_time": "2023-02-03T14:11:31.913Z"
   },
   {
    "duration": 372,
    "start_time": "2023-02-03T14:11:31.935Z"
   },
   {
    "duration": 9,
    "start_time": "2023-02-03T14:11:32.309Z"
   },
   {
    "duration": 372,
    "start_time": "2023-02-03T14:11:32.319Z"
   },
   {
    "duration": 7,
    "start_time": "2023-02-03T14:11:32.693Z"
   },
   {
    "duration": 9,
    "start_time": "2023-02-03T14:11:32.703Z"
   },
   {
    "duration": 27,
    "start_time": "2023-02-03T14:11:32.713Z"
   },
   {
    "duration": 45,
    "start_time": "2023-02-03T14:11:32.743Z"
   },
   {
    "duration": 2811,
    "start_time": "2023-02-03T14:11:32.790Z"
   },
   {
    "duration": 113514,
    "start_time": "2023-02-03T14:11:35.603Z"
   },
   {
    "duration": 176595,
    "start_time": "2023-02-03T14:14:22.908Z"
   },
   {
    "duration": 3557,
    "start_time": "2023-02-04T20:31:09.613Z"
   },
   {
    "duration": 80945,
    "start_time": "2023-02-04T20:31:13.172Z"
   },
   {
    "duration": 2007,
    "start_time": "2023-02-04T20:32:34.119Z"
   },
   {
    "duration": 96,
    "start_time": "2023-02-04T20:32:36.128Z"
   },
   {
    "duration": 93,
    "start_time": "2023-02-04T20:32:36.226Z"
   },
   {
    "duration": 3,
    "start_time": "2023-02-04T20:32:36.321Z"
   },
   {
    "duration": 13548,
    "start_time": "2023-02-04T20:32:36.326Z"
   },
   {
    "duration": 80,
    "start_time": "2023-02-04T20:32:49.875Z"
   },
   {
    "duration": 1254,
    "start_time": "2023-02-04T20:32:49.957Z"
   },
   {
    "duration": 2,
    "start_time": "2023-02-04T20:32:51.215Z"
   },
   {
    "duration": 34,
    "start_time": "2023-02-04T20:32:51.219Z"
   },
   {
    "duration": 13,
    "start_time": "2023-02-04T20:32:51.255Z"
   },
   {
    "duration": 14,
    "start_time": "2023-02-04T20:32:51.269Z"
   },
   {
    "duration": 541,
    "start_time": "2023-02-04T20:32:51.286Z"
   },
   {
    "duration": 10,
    "start_time": "2023-02-04T20:32:51.828Z"
   },
   {
    "duration": 14,
    "start_time": "2023-02-04T20:32:51.839Z"
   },
   {
    "duration": 11,
    "start_time": "2023-02-04T20:32:51.855Z"
   },
   {
    "duration": 572,
    "start_time": "2023-02-04T20:32:51.868Z"
   },
   {
    "duration": 9,
    "start_time": "2023-02-04T20:32:52.442Z"
   },
   {
    "duration": 601,
    "start_time": "2023-02-04T20:32:52.453Z"
   },
   {
    "duration": 12979,
    "start_time": "2023-02-04T20:32:53.055Z"
   },
   {
    "duration": 11,
    "start_time": "2023-02-04T20:33:06.035Z"
   },
   {
    "duration": 18,
    "start_time": "2023-02-04T20:33:06.048Z"
   },
   {
    "duration": 322,
    "start_time": "2023-02-04T20:33:06.068Z"
   },
   {
    "duration": 9,
    "start_time": "2023-02-04T20:33:06.392Z"
   },
   {
    "duration": 336,
    "start_time": "2023-02-04T20:33:06.402Z"
   },
   {
    "duration": 9,
    "start_time": "2023-02-04T20:33:06.739Z"
   },
   {
    "duration": 13,
    "start_time": "2023-02-04T20:33:06.750Z"
   },
   {
    "duration": 7,
    "start_time": "2023-02-04T20:33:06.766Z"
   },
   {
    "duration": 61,
    "start_time": "2023-02-04T20:33:06.775Z"
   },
   {
    "duration": 2523,
    "start_time": "2023-02-04T20:33:06.838Z"
   },
   {
    "duration": 173635,
    "start_time": "2023-02-04T20:33:09.362Z"
   },
   {
    "duration": 65229,
    "start_time": "2023-02-04T20:36:08.078Z"
   },
   {
    "duration": 69748,
    "start_time": "2023-02-04T20:39:37.864Z"
   },
   {
    "duration": 25685,
    "start_time": "2023-02-04T20:43:55.349Z"
   },
   {
    "duration": 120540,
    "start_time": "2023-02-04T20:44:27.516Z"
   },
   {
    "duration": 14581,
    "start_time": "2023-02-04T20:46:30.797Z"
   },
   {
    "duration": 8560,
    "start_time": "2023-02-04T20:46:53.094Z"
   },
   {
    "duration": 1532073,
    "start_time": "2023-02-04T20:48:18.442Z"
   },
   {
    "duration": 983272,
    "start_time": "2023-02-04T21:14:00.059Z"
   },
   {
    "duration": 82,
    "start_time": "2023-02-06T13:02:42.626Z"
   },
   {
    "duration": 99,
    "start_time": "2023-02-06T13:02:49.208Z"
   },
   {
    "duration": 472,
    "start_time": "2023-02-06T13:02:53.821Z"
   },
   {
    "duration": 82,
    "start_time": "2023-02-06T13:03:21.696Z"
   },
   {
    "duration": 79,
    "start_time": "2023-02-06T13:03:24.665Z"
   },
   {
    "duration": 4053,
    "start_time": "2023-02-06T13:03:41.525Z"
   },
   {
    "duration": 6358,
    "start_time": "2023-02-06T13:04:20.701Z"
   },
   {
    "duration": 1088,
    "start_time": "2023-02-06T13:04:47.042Z"
   },
   {
    "duration": 106,
    "start_time": "2023-02-06T13:05:36.020Z"
   },
   {
    "duration": 56,
    "start_time": "2023-02-06T13:05:47.281Z"
   },
   {
    "duration": 43,
    "start_time": "2023-02-06T13:05:52.105Z"
   },
   {
    "duration": 67,
    "start_time": "2023-02-06T13:06:00.138Z"
   },
   {
    "duration": 87,
    "start_time": "2023-02-06T13:06:05.928Z"
   },
   {
    "duration": 62,
    "start_time": "2023-02-06T13:06:12.056Z"
   },
   {
    "duration": 89,
    "start_time": "2023-02-06T13:07:22.363Z"
   },
   {
    "duration": 73,
    "start_time": "2023-02-06T13:07:58.624Z"
   },
   {
    "duration": 3,
    "start_time": "2023-02-06T13:18:07.400Z"
   },
   {
    "duration": 133,
    "start_time": "2023-02-06T13:18:08.061Z"
   },
   {
    "duration": 3,
    "start_time": "2023-02-06T13:20:14.237Z"
   },
   {
    "duration": 3,
    "start_time": "2023-02-06T13:20:14.860Z"
   },
   {
    "duration": 11,
    "start_time": "2023-02-06T13:23:17.300Z"
   },
   {
    "duration": 68,
    "start_time": "2023-02-06T13:28:44.052Z"
   },
   {
    "duration": 4,
    "start_time": "2023-02-06T13:32:32.181Z"
   },
   {
    "duration": 3,
    "start_time": "2023-02-06T13:32:50.276Z"
   },
   {
    "duration": 3,
    "start_time": "2023-02-06T13:32:56.653Z"
   },
   {
    "duration": 10,
    "start_time": "2023-02-06T13:33:08.031Z"
   },
   {
    "duration": 6,
    "start_time": "2023-02-06T13:39:31.410Z"
   },
   {
    "duration": 598,
    "start_time": "2023-02-06T13:40:43.047Z"
   },
   {
    "duration": 604,
    "start_time": "2023-02-06T13:41:20.403Z"
   },
   {
    "duration": 12,
    "start_time": "2023-02-06T13:43:14.682Z"
   },
   {
    "duration": 10,
    "start_time": "2023-02-06T13:49:26.728Z"
   },
   {
    "duration": 16,
    "start_time": "2023-02-06T13:54:55.742Z"
   },
   {
    "duration": 10,
    "start_time": "2023-02-06T13:55:07.103Z"
   },
   {
    "duration": 209,
    "start_time": "2023-02-06T13:55:07.115Z"
   },
   {
    "duration": 604,
    "start_time": "2023-02-06T13:55:07.326Z"
   },
   {
    "duration": 12,
    "start_time": "2023-02-06T13:55:07.932Z"
   },
   {
    "duration": 38,
    "start_time": "2023-02-06T13:55:07.947Z"
   },
   {
    "duration": 16,
    "start_time": "2023-02-06T13:55:07.987Z"
   },
   {
    "duration": 0,
    "start_time": "2023-02-06T13:55:08.005Z"
   },
   {
    "duration": 0,
    "start_time": "2023-02-06T13:55:08.007Z"
   },
   {
    "duration": 0,
    "start_time": "2023-02-06T13:55:08.008Z"
   },
   {
    "duration": 0,
    "start_time": "2023-02-06T13:55:08.009Z"
   },
   {
    "duration": 0,
    "start_time": "2023-02-06T13:55:08.012Z"
   },
   {
    "duration": 0,
    "start_time": "2023-02-06T13:55:08.013Z"
   },
   {
    "duration": 0,
    "start_time": "2023-02-06T13:55:08.015Z"
   },
   {
    "duration": 0,
    "start_time": "2023-02-06T13:55:08.017Z"
   },
   {
    "duration": 0,
    "start_time": "2023-02-06T13:55:08.018Z"
   },
   {
    "duration": 1,
    "start_time": "2023-02-06T13:55:08.019Z"
   },
   {
    "duration": 0,
    "start_time": "2023-02-06T13:55:08.021Z"
   },
   {
    "duration": 0,
    "start_time": "2023-02-06T13:55:08.023Z"
   },
   {
    "duration": 0,
    "start_time": "2023-02-06T13:55:08.024Z"
   },
   {
    "duration": 0,
    "start_time": "2023-02-06T13:55:08.025Z"
   },
   {
    "duration": 0,
    "start_time": "2023-02-06T13:55:08.027Z"
   },
   {
    "duration": 0,
    "start_time": "2023-02-06T13:55:08.028Z"
   },
   {
    "duration": 1149,
    "start_time": "2023-02-06T13:55:27.351Z"
   },
   {
    "duration": 0,
    "start_time": "2023-02-06T13:55:28.502Z"
   },
   {
    "duration": 0,
    "start_time": "2023-02-06T13:55:28.503Z"
   },
   {
    "duration": 0,
    "start_time": "2023-02-06T13:55:28.504Z"
   },
   {
    "duration": 0,
    "start_time": "2023-02-06T13:55:28.505Z"
   },
   {
    "duration": 0,
    "start_time": "2023-02-06T13:55:28.506Z"
   },
   {
    "duration": 0,
    "start_time": "2023-02-06T13:55:28.507Z"
   },
   {
    "duration": 0,
    "start_time": "2023-02-06T13:55:28.508Z"
   },
   {
    "duration": 0,
    "start_time": "2023-02-06T13:55:28.509Z"
   },
   {
    "duration": 0,
    "start_time": "2023-02-06T13:55:28.510Z"
   },
   {
    "duration": 0,
    "start_time": "2023-02-06T13:55:28.511Z"
   },
   {
    "duration": 0,
    "start_time": "2023-02-06T13:55:28.512Z"
   },
   {
    "duration": 0,
    "start_time": "2023-02-06T13:55:28.513Z"
   },
   {
    "duration": 0,
    "start_time": "2023-02-06T13:55:28.514Z"
   },
   {
    "duration": 0,
    "start_time": "2023-02-06T13:55:28.515Z"
   },
   {
    "duration": 0,
    "start_time": "2023-02-06T13:55:28.515Z"
   },
   {
    "duration": 0,
    "start_time": "2023-02-06T13:55:28.517Z"
   },
   {
    "duration": 0,
    "start_time": "2023-02-06T13:55:28.518Z"
   },
   {
    "duration": 0,
    "start_time": "2023-02-06T13:55:28.519Z"
   },
   {
    "duration": 0,
    "start_time": "2023-02-06T13:55:28.519Z"
   },
   {
    "duration": 4,
    "start_time": "2023-02-06T13:55:47.438Z"
   },
   {
    "duration": 2382,
    "start_time": "2023-02-06T13:55:47.444Z"
   },
   {
    "duration": 2394,
    "start_time": "2023-02-06T13:55:49.828Z"
   },
   {
    "duration": 1367,
    "start_time": "2023-02-06T13:55:52.225Z"
   },
   {
    "duration": 75,
    "start_time": "2023-02-06T13:55:53.594Z"
   },
   {
    "duration": 121,
    "start_time": "2023-02-06T13:55:53.670Z"
   },
   {
    "duration": 3,
    "start_time": "2023-02-06T13:55:53.793Z"
   },
   {
    "duration": 12,
    "start_time": "2023-02-06T13:55:53.797Z"
   },
   {
    "duration": 23,
    "start_time": "2023-02-06T13:55:53.812Z"
   },
   {
    "duration": 21,
    "start_time": "2023-02-06T13:55:53.838Z"
   },
   {
    "duration": 586,
    "start_time": "2023-02-06T13:55:53.861Z"
   },
   {
    "duration": 12,
    "start_time": "2023-02-06T13:55:54.449Z"
   },
   {
    "duration": 37,
    "start_time": "2023-02-06T13:55:54.463Z"
   },
   {
    "duration": 154,
    "start_time": "2023-02-06T13:55:54.502Z"
   },
   {
    "duration": 0,
    "start_time": "2023-02-06T13:55:54.658Z"
   },
   {
    "duration": 0,
    "start_time": "2023-02-06T13:55:54.660Z"
   },
   {
    "duration": 0,
    "start_time": "2023-02-06T13:55:54.661Z"
   },
   {
    "duration": 0,
    "start_time": "2023-02-06T13:55:54.663Z"
   },
   {
    "duration": 0,
    "start_time": "2023-02-06T13:55:54.664Z"
   },
   {
    "duration": 0,
    "start_time": "2023-02-06T13:55:54.666Z"
   },
   {
    "duration": 0,
    "start_time": "2023-02-06T13:55:54.684Z"
   },
   {
    "duration": 1,
    "start_time": "2023-02-06T13:55:54.685Z"
   },
   {
    "duration": 0,
    "start_time": "2023-02-06T13:55:54.687Z"
   },
   {
    "duration": 0,
    "start_time": "2023-02-06T13:55:54.689Z"
   },
   {
    "duration": 0,
    "start_time": "2023-02-06T13:55:54.690Z"
   },
   {
    "duration": 0,
    "start_time": "2023-02-06T13:55:54.691Z"
   },
   {
    "duration": 0,
    "start_time": "2023-02-06T13:55:54.692Z"
   },
   {
    "duration": 0,
    "start_time": "2023-02-06T13:55:54.694Z"
   },
   {
    "duration": 0,
    "start_time": "2023-02-06T13:55:54.695Z"
   },
   {
    "duration": 0,
    "start_time": "2023-02-06T13:55:54.696Z"
   },
   {
    "duration": 632,
    "start_time": "2023-02-06T13:56:16.962Z"
   },
   {
    "duration": 619,
    "start_time": "2023-02-06T14:02:27.756Z"
   },
   {
    "duration": 605,
    "start_time": "2023-02-06T14:04:21.348Z"
   },
   {
    "duration": 601,
    "start_time": "2023-02-06T14:04:27.939Z"
   },
   {
    "duration": 557,
    "start_time": "2023-02-06T14:04:41.005Z"
   },
   {
    "duration": 620,
    "start_time": "2023-02-06T14:17:45.800Z"
   },
   {
    "duration": 263,
    "start_time": "2023-02-06T14:21:03.993Z"
   },
   {
    "duration": 131,
    "start_time": "2023-02-06T14:21:27.398Z"
   },
   {
    "duration": 1386,
    "start_time": "2023-02-06T14:21:36.985Z"
   },
   {
    "duration": 22774,
    "start_time": "2023-02-06T14:21:55.813Z"
   },
   {
    "duration": 13207,
    "start_time": "2023-02-06T14:22:52.416Z"
   },
   {
    "duration": 148,
    "start_time": "2023-02-06T14:23:32.904Z"
   },
   {
    "duration": 136,
    "start_time": "2023-02-06T14:24:16.439Z"
   },
   {
    "duration": 14010,
    "start_time": "2023-02-06T14:24:46.400Z"
   },
   {
    "duration": 12216,
    "start_time": "2023-02-06T14:25:11.767Z"
   },
   {
    "duration": 12481,
    "start_time": "2023-02-06T14:25:29.751Z"
   },
   {
    "duration": 14123,
    "start_time": "2023-02-06T14:26:25.752Z"
   },
   {
    "duration": 17702,
    "start_time": "2023-02-06T14:27:02.654Z"
   },
   {
    "duration": 15566,
    "start_time": "2023-02-06T14:29:47.982Z"
   },
   {
    "duration": 14300,
    "start_time": "2023-02-06T14:30:15.639Z"
   },
   {
    "duration": 14504,
    "start_time": "2023-02-06T14:30:43.670Z"
   },
   {
    "duration": 97,
    "start_time": "2023-02-06T14:41:15.292Z"
   },
   {
    "duration": 40,
    "start_time": "2023-02-06T14:41:15.945Z"
   },
   {
    "duration": 61,
    "start_time": "2023-02-06T14:41:49.640Z"
   },
   {
    "duration": 48,
    "start_time": "2023-02-06T14:41:59.084Z"
   },
   {
    "duration": 33,
    "start_time": "2023-02-06T14:42:05.538Z"
   },
   {
    "duration": 34,
    "start_time": "2023-02-06T14:46:07.894Z"
   },
   {
    "duration": 47,
    "start_time": "2023-02-06T14:49:08.574Z"
   },
   {
    "duration": 0,
    "start_time": "2023-02-06T14:56:54.914Z"
   },
   {
    "duration": 35,
    "start_time": "2023-02-06T14:57:06.713Z"
   },
   {
    "duration": 3,
    "start_time": "2023-02-06T19:42:58.588Z"
   },
   {
    "duration": 4142,
    "start_time": "2023-02-06T19:42:58.593Z"
   },
   {
    "duration": 7897,
    "start_time": "2023-02-06T19:43:02.737Z"
   },
   {
    "duration": 1395,
    "start_time": "2023-02-06T19:43:10.637Z"
   },
   {
    "duration": 105,
    "start_time": "2023-02-06T19:43:12.034Z"
   },
   {
    "duration": 84,
    "start_time": "2023-02-06T19:43:12.141Z"
   },
   {
    "duration": 126,
    "start_time": "2023-02-06T19:43:12.227Z"
   },
   {
    "duration": 35,
    "start_time": "2023-02-06T19:43:12.354Z"
   },
   {
    "duration": 11,
    "start_time": "2023-02-06T19:43:12.390Z"
   },
   {
    "duration": 31,
    "start_time": "2023-02-06T19:43:12.404Z"
   },
   {
    "duration": 690,
    "start_time": "2023-02-06T19:43:12.437Z"
   },
   {
    "duration": 17,
    "start_time": "2023-02-06T19:43:13.133Z"
   },
   {
    "duration": 29,
    "start_time": "2023-02-06T19:43:13.154Z"
   },
   {
    "duration": 784,
    "start_time": "2023-02-06T19:43:13.185Z"
   },
   {
    "duration": 725,
    "start_time": "2023-02-06T19:43:13.971Z"
   },
   {
    "duration": 20250,
    "start_time": "2023-02-06T19:43:14.705Z"
   },
   {
    "duration": 161,
    "start_time": "2023-02-06T19:43:34.957Z"
   },
   {
    "duration": 41,
    "start_time": "2023-02-06T19:47:27.026Z"
   },
   {
    "duration": 30,
    "start_time": "2023-02-06T19:47:40.325Z"
   },
   {
    "duration": 69,
    "start_time": "2023-02-06T19:47:58.420Z"
   },
   {
    "duration": 59,
    "start_time": "2023-02-06T19:48:38.764Z"
   },
   {
    "duration": 32,
    "start_time": "2023-02-06T19:49:57.821Z"
   },
   {
    "duration": 41,
    "start_time": "2023-02-06T19:50:07.606Z"
   },
   {
    "duration": 56,
    "start_time": "2023-02-06T19:50:16.149Z"
   },
   {
    "duration": 30,
    "start_time": "2023-02-06T19:52:21.135Z"
   },
   {
    "duration": 39,
    "start_time": "2023-02-06T20:09:01.062Z"
   },
   {
    "duration": 57,
    "start_time": "2023-02-06T20:12:10.681Z"
   },
   {
    "duration": 57,
    "start_time": "2023-02-06T20:12:40.177Z"
   },
   {
    "duration": 61,
    "start_time": "2023-02-06T20:12:49.186Z"
   },
   {
    "duration": 43,
    "start_time": "2023-02-06T20:16:20.446Z"
   },
   {
    "duration": 42,
    "start_time": "2023-02-06T20:27:44.027Z"
   },
   {
    "duration": 40,
    "start_time": "2023-02-06T20:28:12.539Z"
   },
   {
    "duration": 43,
    "start_time": "2023-02-06T20:28:24.059Z"
   },
   {
    "duration": 33,
    "start_time": "2023-02-06T20:28:31.738Z"
   },
   {
    "duration": 32,
    "start_time": "2023-02-06T20:28:40.043Z"
   },
   {
    "duration": 40,
    "start_time": "2023-02-06T20:30:10.767Z"
   },
   {
    "duration": 31,
    "start_time": "2023-02-06T20:30:14.741Z"
   },
   {
    "duration": 42,
    "start_time": "2023-02-06T20:56:15.672Z"
   },
   {
    "duration": 33,
    "start_time": "2023-02-06T20:56:21.027Z"
   },
   {
    "duration": 34,
    "start_time": "2023-02-06T20:56:25.222Z"
   },
   {
    "duration": 34,
    "start_time": "2023-02-06T20:56:29.496Z"
   },
   {
    "duration": 31,
    "start_time": "2023-02-06T20:56:34.239Z"
   },
   {
    "duration": 34,
    "start_time": "2023-02-06T20:56:37.304Z"
   },
   {
    "duration": 36,
    "start_time": "2023-02-06T20:56:40.590Z"
   },
   {
    "duration": 29,
    "start_time": "2023-02-06T20:56:44.247Z"
   },
   {
    "duration": 31,
    "start_time": "2023-02-06T20:56:47.248Z"
   },
   {
    "duration": 48,
    "start_time": "2023-02-06T20:57:21.560Z"
   },
   {
    "duration": 38,
    "start_time": "2023-02-06T21:01:41.733Z"
   },
   {
    "duration": 34,
    "start_time": "2023-02-06T21:02:09.046Z"
   },
   {
    "duration": 31,
    "start_time": "2023-02-06T21:02:22.757Z"
   },
   {
    "duration": 31,
    "start_time": "2023-02-06T21:02:33.758Z"
   },
   {
    "duration": 63,
    "start_time": "2023-02-06T21:05:08.288Z"
   },
   {
    "duration": 46,
    "start_time": "2023-02-06T21:05:12.337Z"
   },
   {
    "duration": 35,
    "start_time": "2023-02-06T21:39:43.050Z"
   },
   {
    "duration": 55,
    "start_time": "2023-02-06T21:42:25.982Z"
   },
   {
    "duration": 46,
    "start_time": "2023-02-06T21:42:42.189Z"
   },
   {
    "duration": 38,
    "start_time": "2023-02-06T21:42:46.710Z"
   },
   {
    "duration": 37,
    "start_time": "2023-02-06T21:43:38.518Z"
   },
   {
    "duration": 60,
    "start_time": "2023-02-06T21:44:10.614Z"
   },
   {
    "duration": 37,
    "start_time": "2023-02-06T21:46:20.881Z"
   },
   {
    "duration": 133,
    "start_time": "2023-02-06T21:46:33.239Z"
   },
   {
    "duration": 20781,
    "start_time": "2023-02-06T21:47:10.769Z"
   },
   {
    "duration": 13976,
    "start_time": "2023-02-06T21:48:30.539Z"
   },
   {
    "duration": 13,
    "start_time": "2023-02-06T21:51:41.821Z"
   },
   {
    "duration": 4,
    "start_time": "2023-02-06T21:53:41.422Z"
   },
   {
    "duration": 26,
    "start_time": "2023-02-06T21:54:17.032Z"
   },
   {
    "duration": 9,
    "start_time": "2023-02-06T21:54:33.656Z"
   },
   {
    "duration": 441,
    "start_time": "2023-02-07T06:38:35.965Z"
   },
   {
    "duration": 3,
    "start_time": "2023-02-07T06:38:44.441Z"
   },
   {
    "duration": 3512,
    "start_time": "2023-02-07T06:38:44.447Z"
   },
   {
    "duration": 6314,
    "start_time": "2023-02-07T06:38:47.961Z"
   },
   {
    "duration": 1324,
    "start_time": "2023-02-07T06:38:54.277Z"
   },
   {
    "duration": 117,
    "start_time": "2023-02-07T06:38:55.603Z"
   },
   {
    "duration": 90,
    "start_time": "2023-02-07T06:38:55.721Z"
   },
   {
    "duration": 126,
    "start_time": "2023-02-07T06:38:55.813Z"
   },
   {
    "duration": 41,
    "start_time": "2023-02-07T06:38:55.941Z"
   },
   {
    "duration": 8,
    "start_time": "2023-02-07T06:38:55.985Z"
   },
   {
    "duration": 14,
    "start_time": "2023-02-07T06:38:55.995Z"
   },
   {
    "duration": 552,
    "start_time": "2023-02-07T06:38:56.011Z"
   },
   {
    "duration": 12,
    "start_time": "2023-02-07T06:38:56.565Z"
   },
   {
    "duration": 30,
    "start_time": "2023-02-07T06:38:56.578Z"
   },
   {
    "duration": 589,
    "start_time": "2023-02-07T06:38:56.609Z"
   },
   {
    "duration": 666,
    "start_time": "2023-02-07T06:38:57.200Z"
   },
   {
    "duration": 18548,
    "start_time": "2023-02-07T06:38:57.867Z"
   },
   {
    "duration": 12711,
    "start_time": "2023-02-07T06:39:16.417Z"
   },
   {
    "duration": 13,
    "start_time": "2023-02-07T06:39:29.129Z"
   },
   {
    "duration": 13,
    "start_time": "2023-02-07T06:39:29.144Z"
   },
   {
    "duration": 5,
    "start_time": "2023-02-07T06:39:29.159Z"
   },
   {
    "duration": 139,
    "start_time": "2023-02-07T06:39:29.166Z"
   },
   {
    "duration": 0,
    "start_time": "2023-02-07T06:39:29.306Z"
   },
   {
    "duration": 0,
    "start_time": "2023-02-07T06:39:29.308Z"
   },
   {
    "duration": 0,
    "start_time": "2023-02-07T06:39:29.309Z"
   },
   {
    "duration": 0,
    "start_time": "2023-02-07T06:39:29.310Z"
   },
   {
    "duration": 0,
    "start_time": "2023-02-07T06:39:29.311Z"
   },
   {
    "duration": 0,
    "start_time": "2023-02-07T06:39:29.312Z"
   },
   {
    "duration": 0,
    "start_time": "2023-02-07T06:39:29.313Z"
   },
   {
    "duration": 0,
    "start_time": "2023-02-07T06:39:29.314Z"
   },
   {
    "duration": 0,
    "start_time": "2023-02-07T06:39:29.316Z"
   },
   {
    "duration": 8,
    "start_time": "2023-02-07T06:40:33.877Z"
   },
   {
    "duration": 1302,
    "start_time": "2023-02-07T06:41:12.511Z"
   },
   {
    "duration": 8,
    "start_time": "2023-02-07T06:42:34.121Z"
   },
   {
    "duration": 13,
    "start_time": "2023-02-07T06:42:59.359Z"
   },
   {
    "duration": 1171,
    "start_time": "2023-02-07T06:44:07.582Z"
   },
   {
    "duration": 10,
    "start_time": "2023-02-07T06:47:02.804Z"
   },
   {
    "duration": 2,
    "start_time": "2023-02-07T06:47:04.261Z"
   },
   {
    "duration": 7,
    "start_time": "2023-02-07T06:47:04.862Z"
   },
   {
    "duration": 1175,
    "start_time": "2023-02-07T06:47:05.623Z"
   },
   {
    "duration": 9,
    "start_time": "2023-02-07T06:47:20.668Z"
   },
   {
    "duration": 10,
    "start_time": "2023-02-07T06:48:06.869Z"
   },
   {
    "duration": 2,
    "start_time": "2023-02-07T06:48:08.101Z"
   },
   {
    "duration": 7,
    "start_time": "2023-02-07T06:48:08.639Z"
   },
   {
    "duration": 15,
    "start_time": "2023-02-07T06:48:09.477Z"
   },
   {
    "duration": 10,
    "start_time": "2023-02-07T06:48:49.761Z"
   },
   {
    "duration": 3,
    "start_time": "2023-02-07T06:48:50.662Z"
   },
   {
    "duration": 7,
    "start_time": "2023-02-07T06:48:51.525Z"
   },
   {
    "duration": 15,
    "start_time": "2023-02-07T06:48:52.838Z"
   },
   {
    "duration": 15,
    "start_time": "2023-02-07T06:48:57.142Z"
   },
   {
    "duration": 10,
    "start_time": "2023-02-07T06:49:14.327Z"
   },
   {
    "duration": 2,
    "start_time": "2023-02-07T06:49:15.561Z"
   },
   {
    "duration": 7,
    "start_time": "2023-02-07T06:49:16.240Z"
   },
   {
    "duration": 1217,
    "start_time": "2023-02-07T06:50:11.245Z"
   },
   {
    "duration": 3,
    "start_time": "2023-02-07T06:50:26.278Z"
   },
   {
    "duration": 2083,
    "start_time": "2023-02-07T06:50:26.283Z"
   },
   {
    "duration": 2066,
    "start_time": "2023-02-07T06:50:28.368Z"
   },
   {
    "duration": 1345,
    "start_time": "2023-02-07T06:50:30.436Z"
   },
   {
    "duration": 47,
    "start_time": "2023-02-07T06:50:31.784Z"
   },
   {
    "duration": 25,
    "start_time": "2023-02-07T06:50:31.833Z"
   },
   {
    "duration": 67,
    "start_time": "2023-02-07T06:50:31.859Z"
   },
   {
    "duration": 42,
    "start_time": "2023-02-07T06:50:31.928Z"
   },
   {
    "duration": 10,
    "start_time": "2023-02-07T06:50:31.972Z"
   },
   {
    "duration": 26,
    "start_time": "2023-02-07T06:50:31.985Z"
   },
   {
    "duration": 600,
    "start_time": "2023-02-07T06:50:32.012Z"
   },
   {
    "duration": 12,
    "start_time": "2023-02-07T06:50:32.615Z"
   },
   {
    "duration": 19,
    "start_time": "2023-02-07T06:50:32.629Z"
   },
   {
    "duration": 460,
    "start_time": "2023-02-07T06:50:32.650Z"
   },
   {
    "duration": 629,
    "start_time": "2023-02-07T06:50:33.111Z"
   },
   {
    "duration": 240,
    "start_time": "2023-02-07T06:50:33.741Z"
   },
   {
    "duration": 0,
    "start_time": "2023-02-07T06:50:33.982Z"
   },
   {
    "duration": 0,
    "start_time": "2023-02-07T06:50:33.983Z"
   },
   {
    "duration": 0,
    "start_time": "2023-02-07T06:50:33.984Z"
   },
   {
    "duration": 0,
    "start_time": "2023-02-07T06:50:33.985Z"
   },
   {
    "duration": 0,
    "start_time": "2023-02-07T06:50:33.986Z"
   },
   {
    "duration": 0,
    "start_time": "2023-02-07T06:50:33.987Z"
   },
   {
    "duration": 0,
    "start_time": "2023-02-07T06:50:33.988Z"
   },
   {
    "duration": 0,
    "start_time": "2023-02-07T06:50:33.989Z"
   },
   {
    "duration": 0,
    "start_time": "2023-02-07T06:50:34.004Z"
   },
   {
    "duration": 0,
    "start_time": "2023-02-07T06:50:34.005Z"
   },
   {
    "duration": 0,
    "start_time": "2023-02-07T06:50:34.006Z"
   },
   {
    "duration": 0,
    "start_time": "2023-02-07T06:50:34.007Z"
   },
   {
    "duration": 0,
    "start_time": "2023-02-07T06:50:34.008Z"
   },
   {
    "duration": 0,
    "start_time": "2023-02-07T06:50:34.010Z"
   },
   {
    "duration": 12054,
    "start_time": "2023-02-07T06:50:59.959Z"
   },
   {
    "duration": 13869,
    "start_time": "2023-02-07T06:51:28.301Z"
   },
   {
    "duration": 10,
    "start_time": "2023-02-07T06:51:46.259Z"
   },
   {
    "duration": 9,
    "start_time": "2023-02-07T06:51:49.907Z"
   },
   {
    "duration": 2,
    "start_time": "2023-02-07T06:51:51.257Z"
   },
   {
    "duration": 7,
    "start_time": "2023-02-07T06:51:51.978Z"
   },
   {
    "duration": 535,
    "start_time": "2023-02-07T06:51:53.104Z"
   },
   {
    "duration": 8,
    "start_time": "2023-02-07T06:52:15.064Z"
   },
   {
    "duration": 594,
    "start_time": "2023-02-07T06:52:33.925Z"
   },
   {
    "duration": 7,
    "start_time": "2023-02-07T06:52:35.396Z"
   },
   {
    "duration": 10,
    "start_time": "2023-02-07T06:52:41.286Z"
   },
   {
    "duration": 3,
    "start_time": "2023-02-07T06:52:55.004Z"
   },
   {
    "duration": 6,
    "start_time": "2023-02-07T06:52:59.860Z"
   },
   {
    "duration": 37,
    "start_time": "2023-02-07T06:53:01.996Z"
   },
   {
    "duration": 120,
    "start_time": "2023-02-07T06:53:08.766Z"
   },
   {
    "duration": 2602,
    "start_time": "2023-02-07T06:53:16.292Z"
   },
   {
    "duration": 142,
    "start_time": "2023-02-07T06:53:29.256Z"
   },
   {
    "duration": 168225,
    "start_time": "2023-02-07T06:53:35.333Z"
   },
   {
    "duration": 561,
    "start_time": "2023-02-07T06:57:07.612Z"
   },
   {
    "duration": 556,
    "start_time": "2023-02-07T06:57:32.035Z"
   },
   {
    "duration": 570,
    "start_time": "2023-02-07T06:59:48.393Z"
   },
   {
    "duration": 540,
    "start_time": "2023-02-07T07:00:20.833Z"
   },
   {
    "duration": 8,
    "start_time": "2023-02-07T07:00:28.088Z"
   },
   {
    "duration": 3,
    "start_time": "2023-02-07T07:00:29.386Z"
   },
   {
    "duration": 7,
    "start_time": "2023-02-07T07:00:30.057Z"
   },
   {
    "duration": 38,
    "start_time": "2023-02-07T07:00:31.556Z"
   },
   {
    "duration": 2537,
    "start_time": "2023-02-07T07:00:33.453Z"
   },
   {
    "duration": 7,
    "start_time": "2023-02-07T07:01:39.076Z"
   },
   {
    "duration": 3,
    "start_time": "2023-02-07T07:01:43.714Z"
   },
   {
    "duration": 7,
    "start_time": "2023-02-07T07:01:49.897Z"
   },
   {
    "duration": 37,
    "start_time": "2023-02-07T07:02:06.121Z"
   },
   {
    "duration": 40,
    "start_time": "2023-02-07T07:02:18.252Z"
   },
   {
    "duration": 369,
    "start_time": "2023-02-07T07:02:41.138Z"
   },
   {
    "duration": 2,
    "start_time": "2023-02-07T07:03:24.576Z"
   },
   {
    "duration": 40,
    "start_time": "2023-02-07T07:03:51.279Z"
   },
   {
    "duration": 325,
    "start_time": "2023-02-07T07:04:14.480Z"
   },
   {
    "duration": 7,
    "start_time": "2023-02-07T07:07:34.856Z"
   },
   {
    "duration": 4,
    "start_time": "2023-02-07T07:08:17.220Z"
   },
   {
    "duration": 2008,
    "start_time": "2023-02-07T07:08:17.226Z"
   },
   {
    "duration": 1986,
    "start_time": "2023-02-07T07:08:19.236Z"
   },
   {
    "duration": 1329,
    "start_time": "2023-02-07T07:08:21.225Z"
   },
   {
    "duration": 48,
    "start_time": "2023-02-07T07:08:22.557Z"
   },
   {
    "duration": 100,
    "start_time": "2023-02-07T07:08:22.606Z"
   },
   {
    "duration": 66,
    "start_time": "2023-02-07T07:08:22.708Z"
   },
   {
    "duration": 43,
    "start_time": "2023-02-07T07:08:22.776Z"
   },
   {
    "duration": 10,
    "start_time": "2023-02-07T07:08:22.821Z"
   },
   {
    "duration": 12,
    "start_time": "2023-02-07T07:08:22.833Z"
   },
   {
    "duration": 591,
    "start_time": "2023-02-07T07:08:22.846Z"
   },
   {
    "duration": 12,
    "start_time": "2023-02-07T07:08:23.438Z"
   },
   {
    "duration": 19,
    "start_time": "2023-02-07T07:08:23.452Z"
   },
   {
    "duration": 425,
    "start_time": "2023-02-07T07:08:23.474Z"
   },
   {
    "duration": 651,
    "start_time": "2023-02-07T07:08:23.903Z"
   },
   {
    "duration": 11683,
    "start_time": "2023-02-07T07:08:24.556Z"
   },
   {
    "duration": 12957,
    "start_time": "2023-02-07T07:08:36.240Z"
   },
   {
    "duration": 14,
    "start_time": "2023-02-07T07:08:49.198Z"
   },
   {
    "duration": 13,
    "start_time": "2023-02-07T07:08:49.214Z"
   },
   {
    "duration": 14,
    "start_time": "2023-02-07T07:08:49.228Z"
   },
   {
    "duration": 8,
    "start_time": "2023-02-07T07:08:49.244Z"
   },
   {
    "duration": 567,
    "start_time": "2023-02-07T07:08:49.254Z"
   },
   {
    "duration": 138,
    "start_time": "2023-02-07T07:08:49.823Z"
   },
   {
    "duration": 0,
    "start_time": "2023-02-07T07:08:49.962Z"
   },
   {
    "duration": 0,
    "start_time": "2023-02-07T07:08:49.963Z"
   },
   {
    "duration": 0,
    "start_time": "2023-02-07T07:08:49.965Z"
   },
   {
    "duration": 0,
    "start_time": "2023-02-07T07:08:49.966Z"
   },
   {
    "duration": 0,
    "start_time": "2023-02-07T07:08:49.967Z"
   },
   {
    "duration": 0,
    "start_time": "2023-02-07T07:08:49.968Z"
   },
   {
    "duration": 0,
    "start_time": "2023-02-07T07:08:49.969Z"
   },
   {
    "duration": 7,
    "start_time": "2023-02-07T07:09:39.279Z"
   },
   {
    "duration": 3,
    "start_time": "2023-02-07T07:09:43.453Z"
   },
   {
    "duration": 2,
    "start_time": "2023-02-07T07:09:43.985Z"
   },
   {
    "duration": 22,
    "start_time": "2023-02-07T07:09:44.728Z"
   },
   {
    "duration": 592,
    "start_time": "2023-02-07T07:10:14.519Z"
   },
   {
    "duration": 1201,
    "start_time": "2023-02-07T07:18:20.678Z"
   },
   {
    "duration": 2,
    "start_time": "2023-02-07T07:18:30.319Z"
   },
   {
    "duration": 1978,
    "start_time": "2023-02-07T07:18:30.323Z"
   },
   {
    "duration": 2052,
    "start_time": "2023-02-07T07:18:32.303Z"
   },
   {
    "duration": 4,
    "start_time": "2023-02-07T07:18:34.357Z"
   },
   {
    "duration": 44,
    "start_time": "2023-02-07T07:18:34.364Z"
   },
   {
    "duration": 24,
    "start_time": "2023-02-07T07:18:34.409Z"
   },
   {
    "duration": 71,
    "start_time": "2023-02-07T07:18:34.435Z"
   },
   {
    "duration": 36,
    "start_time": "2023-02-07T07:18:34.508Z"
   },
   {
    "duration": 14,
    "start_time": "2023-02-07T07:18:34.546Z"
   },
   {
    "duration": 20,
    "start_time": "2023-02-07T07:18:34.561Z"
   },
   {
    "duration": 568,
    "start_time": "2023-02-07T07:18:34.584Z"
   },
   {
    "duration": 13,
    "start_time": "2023-02-07T07:18:35.153Z"
   },
   {
    "duration": 36,
    "start_time": "2023-02-07T07:18:35.168Z"
   },
   {
    "duration": 157,
    "start_time": "2023-02-07T07:18:35.206Z"
   },
   {
    "duration": 616,
    "start_time": "2023-02-07T07:18:35.364Z"
   },
   {
    "duration": 11716,
    "start_time": "2023-02-07T07:18:35.982Z"
   },
   {
    "duration": 141,
    "start_time": "2023-02-07T07:18:47.700Z"
   },
   {
    "duration": 0,
    "start_time": "2023-02-07T07:18:47.843Z"
   },
   {
    "duration": 163,
    "start_time": "2023-02-07T07:21:18.125Z"
   },
   {
    "duration": 12979,
    "start_time": "2023-02-07T07:23:05.772Z"
   },
   {
    "duration": 14865,
    "start_time": "2023-02-07T07:23:34.272Z"
   },
   {
    "duration": 162,
    "start_time": "2023-02-07T07:24:47.088Z"
   },
   {
    "duration": 138,
    "start_time": "2023-02-07T07:24:58.155Z"
   },
   {
    "duration": 155,
    "start_time": "2023-02-07T07:25:05.048Z"
   },
   {
    "duration": 144,
    "start_time": "2023-02-07T07:25:21.974Z"
   },
   {
    "duration": 236,
    "start_time": "2023-02-07T07:25:38.350Z"
   },
   {
    "duration": 146,
    "start_time": "2023-02-07T07:25:42.050Z"
   },
   {
    "duration": 11924,
    "start_time": "2023-02-07T07:34:41.382Z"
   },
   {
    "duration": 14879,
    "start_time": "2023-02-07T07:35:04.349Z"
   },
   {
    "duration": 13711,
    "start_time": "2023-02-07T07:36:50.334Z"
   },
   {
    "duration": 14383,
    "start_time": "2023-02-07T07:37:48.081Z"
   },
   {
    "duration": 15087,
    "start_time": "2023-02-07T07:38:29.866Z"
   },
   {
    "duration": 4,
    "start_time": "2023-02-07T07:45:17.154Z"
   },
   {
    "duration": 2045,
    "start_time": "2023-02-07T07:45:17.160Z"
   },
   {
    "duration": 2021,
    "start_time": "2023-02-07T07:45:19.207Z"
   },
   {
    "duration": 1352,
    "start_time": "2023-02-07T07:45:21.230Z"
   },
   {
    "duration": 76,
    "start_time": "2023-02-07T07:45:22.584Z"
   },
   {
    "duration": 40,
    "start_time": "2023-02-07T07:45:22.661Z"
   },
   {
    "duration": 114,
    "start_time": "2023-02-07T07:45:22.703Z"
   },
   {
    "duration": 45,
    "start_time": "2023-02-07T07:45:22.819Z"
   },
   {
    "duration": 10,
    "start_time": "2023-02-07T07:45:22.866Z"
   },
   {
    "duration": 31,
    "start_time": "2023-02-07T07:45:22.878Z"
   },
   {
    "duration": 593,
    "start_time": "2023-02-07T07:45:22.910Z"
   },
   {
    "duration": 11,
    "start_time": "2023-02-07T07:45:23.505Z"
   },
   {
    "duration": 17,
    "start_time": "2023-02-07T07:45:23.518Z"
   },
   {
    "duration": 415,
    "start_time": "2023-02-07T07:45:23.537Z"
   },
   {
    "duration": 706,
    "start_time": "2023-02-07T07:45:23.954Z"
   },
   {
    "duration": 16372,
    "start_time": "2023-02-07T07:45:24.663Z"
   },
   {
    "duration": 13400,
    "start_time": "2023-02-07T07:45:41.037Z"
   },
   {
    "duration": 11,
    "start_time": "2023-02-07T07:45:54.439Z"
   },
   {
    "duration": 14,
    "start_time": "2023-02-07T07:45:54.451Z"
   },
   {
    "duration": 8,
    "start_time": "2023-02-07T07:45:54.466Z"
   },
   {
    "duration": 29,
    "start_time": "2023-02-07T07:45:54.476Z"
   },
   {
    "duration": 585,
    "start_time": "2023-02-07T07:45:54.506Z"
   },
   {
    "duration": 8,
    "start_time": "2023-02-07T07:45:55.103Z"
   },
   {
    "duration": 6,
    "start_time": "2023-02-07T07:45:55.113Z"
   },
   {
    "duration": 5,
    "start_time": "2023-02-07T07:45:55.120Z"
   },
   {
    "duration": 145,
    "start_time": "2023-02-07T07:45:55.127Z"
   },
   {
    "duration": 0,
    "start_time": "2023-02-07T07:45:55.274Z"
   },
   {
    "duration": 0,
    "start_time": "2023-02-07T07:45:55.275Z"
   },
   {
    "duration": 0,
    "start_time": "2023-02-07T07:45:55.276Z"
   },
   {
    "duration": 0,
    "start_time": "2023-02-07T07:45:55.277Z"
   },
   {
    "duration": 20,
    "start_time": "2023-02-07T07:49:42.505Z"
   },
   {
    "duration": 3,
    "start_time": "2023-02-07T07:49:53.880Z"
   },
   {
    "duration": 604,
    "start_time": "2023-02-07T07:54:13.263Z"
   },
   {
    "duration": 608,
    "start_time": "2023-02-07T07:54:53.959Z"
   },
   {
    "duration": 619,
    "start_time": "2023-02-07T07:58:33.968Z"
   },
   {
    "duration": 579,
    "start_time": "2023-02-07T07:58:43.290Z"
   },
   {
    "duration": 579,
    "start_time": "2023-02-07T07:58:47.208Z"
   },
   {
    "duration": 1244,
    "start_time": "2023-02-07T08:41:04.768Z"
   },
   {
    "duration": 3,
    "start_time": "2023-02-07T08:41:38.638Z"
   },
   {
    "duration": 2024,
    "start_time": "2023-02-07T08:41:38.643Z"
   },
   {
    "duration": 2029,
    "start_time": "2023-02-07T08:41:40.669Z"
   },
   {
    "duration": 4,
    "start_time": "2023-02-07T08:41:42.700Z"
   },
   {
    "duration": 52,
    "start_time": "2023-02-07T08:41:42.706Z"
   },
   {
    "duration": 94,
    "start_time": "2023-02-07T08:41:42.759Z"
   },
   {
    "duration": 71,
    "start_time": "2023-02-07T08:41:42.854Z"
   },
   {
    "duration": 35,
    "start_time": "2023-02-07T08:41:42.927Z"
   },
   {
    "duration": 13,
    "start_time": "2023-02-07T08:41:42.965Z"
   },
   {
    "duration": 25,
    "start_time": "2023-02-07T08:41:42.980Z"
   },
   {
    "duration": 607,
    "start_time": "2023-02-07T08:41:43.007Z"
   },
   {
    "duration": 12,
    "start_time": "2023-02-07T08:41:43.616Z"
   },
   {
    "duration": 16,
    "start_time": "2023-02-07T08:41:43.629Z"
   },
   {
    "duration": 152,
    "start_time": "2023-02-07T08:41:43.647Z"
   },
   {
    "duration": 693,
    "start_time": "2023-02-07T08:41:43.805Z"
   },
   {
    "duration": 12710,
    "start_time": "2023-02-07T08:41:44.502Z"
   },
   {
    "duration": 13562,
    "start_time": "2023-02-07T08:41:57.214Z"
   },
   {
    "duration": 0,
    "start_time": "2023-02-07T08:42:10.778Z"
   },
   {
    "duration": 13662,
    "start_time": "2023-02-07T08:43:12.634Z"
   },
   {
    "duration": 20305,
    "start_time": "2023-02-07T08:51:30.438Z"
   },
   {
    "duration": 11,
    "start_time": "2023-02-07T08:52:11.651Z"
   },
   {
    "duration": 10,
    "start_time": "2023-02-07T08:52:34.471Z"
   },
   {
    "duration": 14,
    "start_time": "2023-02-07T08:52:43.175Z"
   },
   {
    "duration": 12,
    "start_time": "2023-02-07T08:52:53.894Z"
   },
   {
    "duration": 14,
    "start_time": "2023-02-07T08:53:13.757Z"
   },
   {
    "duration": 12,
    "start_time": "2023-02-07T08:53:21.461Z"
   },
   {
    "duration": 15115,
    "start_time": "2023-02-07T08:54:20.328Z"
   },
   {
    "duration": 13993,
    "start_time": "2023-02-07T08:55:12.709Z"
   },
   {
    "duration": 14022,
    "start_time": "2023-02-07T08:55:34.789Z"
   },
   {
    "duration": 14782,
    "start_time": "2023-02-07T08:56:11.317Z"
   },
   {
    "duration": 14137,
    "start_time": "2023-02-07T08:56:52.093Z"
   },
   {
    "duration": 14084,
    "start_time": "2023-02-07T08:57:13.511Z"
   },
   {
    "duration": 13,
    "start_time": "2023-02-07T08:59:40.277Z"
   },
   {
    "duration": 13,
    "start_time": "2023-02-07T08:59:48.069Z"
   },
   {
    "duration": 11,
    "start_time": "2023-02-07T08:59:54.676Z"
   },
   {
    "duration": 13,
    "start_time": "2023-02-07T09:03:00.269Z"
   },
   {
    "duration": 14,
    "start_time": "2023-02-07T09:03:02.119Z"
   },
   {
    "duration": 11,
    "start_time": "2023-02-07T09:06:36.970Z"
   },
   {
    "duration": 11,
    "start_time": "2023-02-07T09:07:06.635Z"
   },
   {
    "duration": 12,
    "start_time": "2023-02-07T09:07:15.603Z"
   },
   {
    "duration": 11,
    "start_time": "2023-02-07T09:07:20.804Z"
   },
   {
    "duration": 11,
    "start_time": "2023-02-07T09:27:09.270Z"
   },
   {
    "duration": 10,
    "start_time": "2023-02-07T09:27:45.134Z"
   },
   {
    "duration": 11,
    "start_time": "2023-02-07T09:27:47.198Z"
   },
   {
    "duration": 10,
    "start_time": "2023-02-07T09:27:54.365Z"
   },
   {
    "duration": 14,
    "start_time": "2023-02-07T09:28:14.733Z"
   },
   {
    "duration": 14717,
    "start_time": "2023-02-07T09:28:30.054Z"
   },
   {
    "duration": 11,
    "start_time": "2023-02-07T09:28:44.773Z"
   },
   {
    "duration": 15,
    "start_time": "2023-02-07T09:29:23.554Z"
   },
   {
    "duration": 14,
    "start_time": "2023-02-07T09:30:42.516Z"
   },
   {
    "duration": 22,
    "start_time": "2023-02-07T09:31:33.915Z"
   },
   {
    "duration": 26,
    "start_time": "2023-02-07T09:31:57.376Z"
   },
   {
    "duration": 20,
    "start_time": "2023-02-07T09:32:21.965Z"
   },
   {
    "duration": 25,
    "start_time": "2023-02-07T09:32:40.156Z"
   },
   {
    "duration": 27,
    "start_time": "2023-02-07T09:32:48.327Z"
   },
   {
    "duration": 29,
    "start_time": "2023-02-07T09:36:33.917Z"
   },
   {
    "duration": 22,
    "start_time": "2023-02-07T09:36:56.756Z"
   },
   {
    "duration": 24,
    "start_time": "2023-02-07T09:37:13.128Z"
   },
   {
    "duration": 23,
    "start_time": "2023-02-07T09:37:51.021Z"
   },
   {
    "duration": 25,
    "start_time": "2023-02-07T09:43:47.716Z"
   },
   {
    "duration": 23,
    "start_time": "2023-02-07T09:45:41.865Z"
   },
   {
    "duration": 22,
    "start_time": "2023-02-07T09:47:52.074Z"
   },
   {
    "duration": 24,
    "start_time": "2023-02-07T09:47:54.705Z"
   },
   {
    "duration": 25,
    "start_time": "2023-02-07T09:49:51.000Z"
   },
   {
    "duration": 36,
    "start_time": "2023-02-07T09:51:55.066Z"
   },
   {
    "duration": 31,
    "start_time": "2023-02-07T09:53:50.559Z"
   },
   {
    "duration": 84,
    "start_time": "2023-02-07T09:54:20.215Z"
   },
   {
    "duration": 17,
    "start_time": "2023-02-07T09:54:28.961Z"
   },
   {
    "duration": 23,
    "start_time": "2023-02-07T09:54:41.582Z"
   },
   {
    "duration": 33,
    "start_time": "2023-02-07T09:55:00.191Z"
   },
   {
    "duration": 33,
    "start_time": "2023-02-07T09:55:14.514Z"
   },
   {
    "duration": 34,
    "start_time": "2023-02-07T09:55:25.327Z"
   },
   {
    "duration": 31,
    "start_time": "2023-02-07T09:55:32.481Z"
   },
   {
    "duration": 24,
    "start_time": "2023-02-07T09:55:47.015Z"
   },
   {
    "duration": 12,
    "start_time": "2023-02-07T09:55:55.070Z"
   },
   {
    "duration": 3,
    "start_time": "2023-02-07T09:55:56.501Z"
   },
   {
    "duration": 8,
    "start_time": "2023-02-07T09:55:57.118Z"
   },
   {
    "duration": 606,
    "start_time": "2023-02-07T09:56:00.054Z"
   },
   {
    "duration": 8,
    "start_time": "2023-02-07T09:56:01.502Z"
   },
   {
    "duration": 2,
    "start_time": "2023-02-07T09:56:03.670Z"
   },
   {
    "duration": 2,
    "start_time": "2023-02-07T09:56:04.686Z"
   },
   {
    "duration": 20,
    "start_time": "2023-02-07T09:56:06.663Z"
   },
   {
    "duration": 588,
    "start_time": "2023-02-07T09:56:48.094Z"
   },
   {
    "duration": 605,
    "start_time": "2023-02-07T09:59:16.518Z"
   },
   {
    "duration": 608,
    "start_time": "2023-02-07T09:59:54.717Z"
   },
   {
    "duration": 600,
    "start_time": "2023-02-07T10:00:31.062Z"
   },
   {
    "duration": 607,
    "start_time": "2023-02-07T10:00:57.997Z"
   },
   {
    "duration": 609,
    "start_time": "2023-02-07T10:13:26.764Z"
   },
   {
    "duration": 593,
    "start_time": "2023-02-07T10:14:05.931Z"
   },
   {
    "duration": 678,
    "start_time": "2023-02-07T10:14:43.811Z"
   },
   {
    "duration": 628,
    "start_time": "2023-02-07T10:15:17.218Z"
   },
   {
    "duration": 598,
    "start_time": "2023-02-07T10:15:24.754Z"
   },
   {
    "duration": 605,
    "start_time": "2023-02-07T10:15:48.826Z"
   },
   {
    "duration": 629,
    "start_time": "2023-02-07T10:16:28.875Z"
   },
   {
    "duration": 601,
    "start_time": "2023-02-07T10:16:54.434Z"
   },
   {
    "duration": 617,
    "start_time": "2023-02-07T10:17:02.018Z"
   },
   {
    "duration": 669,
    "start_time": "2023-02-07T10:17:14.604Z"
   },
   {
    "duration": 563,
    "start_time": "2023-02-07T10:17:25.513Z"
   },
   {
    "duration": 31,
    "start_time": "2023-02-07T10:18:38.811Z"
   },
   {
    "duration": 1575,
    "start_time": "2023-02-07T10:19:36.072Z"
   },
   {
    "duration": 3,
    "start_time": "2023-02-07T10:19:47.452Z"
   },
   {
    "duration": 2130,
    "start_time": "2023-02-07T10:19:47.456Z"
   },
   {
    "duration": 2041,
    "start_time": "2023-02-07T10:19:49.589Z"
   },
   {
    "duration": 4,
    "start_time": "2023-02-07T10:19:51.633Z"
   },
   {
    "duration": 59,
    "start_time": "2023-02-07T10:19:51.640Z"
   },
   {
    "duration": 98,
    "start_time": "2023-02-07T10:19:51.700Z"
   },
   {
    "duration": 145,
    "start_time": "2023-02-07T10:19:51.800Z"
   },
   {
    "duration": 40,
    "start_time": "2023-02-07T10:19:51.947Z"
   },
   {
    "duration": 11,
    "start_time": "2023-02-07T10:19:51.988Z"
   },
   {
    "duration": 14,
    "start_time": "2023-02-07T10:19:52.000Z"
   },
   {
    "duration": 591,
    "start_time": "2023-02-07T10:19:52.017Z"
   },
   {
    "duration": 12,
    "start_time": "2023-02-07T10:19:52.610Z"
   },
   {
    "duration": 23,
    "start_time": "2023-02-07T10:19:52.623Z"
   },
   {
    "duration": 164,
    "start_time": "2023-02-07T10:19:52.647Z"
   },
   {
    "duration": 664,
    "start_time": "2023-02-07T10:19:52.813Z"
   },
   {
    "duration": 18665,
    "start_time": "2023-02-07T10:19:53.479Z"
   },
   {
    "duration": 13847,
    "start_time": "2023-02-07T10:20:12.146Z"
   },
   {
    "duration": 26,
    "start_time": "2023-02-07T10:20:25.995Z"
   },
   {
    "duration": 26,
    "start_time": "2023-02-07T10:20:53.538Z"
   },
   {
    "duration": 26,
    "start_time": "2023-02-07T10:21:32.147Z"
   },
   {
    "duration": 30,
    "start_time": "2023-02-07T10:22:37.498Z"
   },
   {
    "duration": 25,
    "start_time": "2023-02-07T10:23:23.293Z"
   },
   {
    "duration": 46,
    "start_time": "2023-02-07T10:24:02.870Z"
   },
   {
    "duration": 61,
    "start_time": "2023-02-07T10:26:42.996Z"
   },
   {
    "duration": 53,
    "start_time": "2023-02-07T10:28:38.715Z"
   },
   {
    "duration": 51,
    "start_time": "2023-02-07T10:29:02.300Z"
   },
   {
    "duration": 313,
    "start_time": "2023-02-07T10:29:21.052Z"
   },
   {
    "duration": 50,
    "start_time": "2023-02-07T10:29:32.497Z"
   },
   {
    "duration": 2,
    "start_time": "2023-02-07T10:30:09.659Z"
   },
   {
    "duration": 2058,
    "start_time": "2023-02-07T10:30:09.665Z"
   },
   {
    "duration": 2131,
    "start_time": "2023-02-07T10:30:11.725Z"
   },
   {
    "duration": 5,
    "start_time": "2023-02-07T10:30:13.858Z"
   },
   {
    "duration": 56,
    "start_time": "2023-02-07T10:30:13.866Z"
   },
   {
    "duration": 28,
    "start_time": "2023-02-07T10:30:13.923Z"
   },
   {
    "duration": 89,
    "start_time": "2023-02-07T10:30:13.952Z"
   },
   {
    "duration": 39,
    "start_time": "2023-02-07T10:30:14.043Z"
   },
   {
    "duration": 18,
    "start_time": "2023-02-07T10:30:14.084Z"
   },
   {
    "duration": 20,
    "start_time": "2023-02-07T10:30:14.104Z"
   },
   {
    "duration": 635,
    "start_time": "2023-02-07T10:30:14.126Z"
   },
   {
    "duration": 12,
    "start_time": "2023-02-07T10:30:14.763Z"
   },
   {
    "duration": 34,
    "start_time": "2023-02-07T10:30:14.777Z"
   },
   {
    "duration": 157,
    "start_time": "2023-02-07T10:30:14.815Z"
   },
   {
    "duration": 683,
    "start_time": "2023-02-07T10:30:14.974Z"
   },
   {
    "duration": 12265,
    "start_time": "2023-02-07T10:30:15.659Z"
   },
   {
    "duration": 14403,
    "start_time": "2023-02-07T10:30:27.926Z"
   },
   {
    "duration": 55,
    "start_time": "2023-02-07T10:31:24.141Z"
   },
   {
    "duration": 47,
    "start_time": "2023-02-07T10:31:44.961Z"
   },
   {
    "duration": 34,
    "start_time": "2023-02-07T10:32:01.106Z"
   },
   {
    "duration": 31,
    "start_time": "2023-02-07T10:32:12.362Z"
   },
   {
    "duration": 26,
    "start_time": "2023-02-07T10:32:21.082Z"
   },
   {
    "duration": 11,
    "start_time": "2023-02-07T10:32:26.681Z"
   },
   {
    "duration": 3,
    "start_time": "2023-02-07T10:32:57.097Z"
   },
   {
    "duration": 2156,
    "start_time": "2023-02-07T10:32:57.102Z"
   },
   {
    "duration": 2177,
    "start_time": "2023-02-07T10:32:59.260Z"
   },
   {
    "duration": 7,
    "start_time": "2023-02-07T10:33:01.440Z"
   },
   {
    "duration": 124,
    "start_time": "2023-02-07T10:33:01.449Z"
   },
   {
    "duration": 25,
    "start_time": "2023-02-07T10:33:01.575Z"
   },
   {
    "duration": 104,
    "start_time": "2023-02-07T10:33:01.602Z"
   },
   {
    "duration": 65,
    "start_time": "2023-02-07T10:33:01.708Z"
   },
   {
    "duration": 10,
    "start_time": "2023-02-07T10:33:01.775Z"
   },
   {
    "duration": 28,
    "start_time": "2023-02-07T10:33:01.786Z"
   },
   {
    "duration": 637,
    "start_time": "2023-02-07T10:33:01.815Z"
   },
   {
    "duration": 13,
    "start_time": "2023-02-07T10:33:02.454Z"
   },
   {
    "duration": 40,
    "start_time": "2023-02-07T10:33:02.469Z"
   },
   {
    "duration": 159,
    "start_time": "2023-02-07T10:33:02.510Z"
   },
   {
    "duration": 725,
    "start_time": "2023-02-07T10:33:02.672Z"
   },
   {
    "duration": 12888,
    "start_time": "2023-02-07T10:33:03.402Z"
   },
   {
    "duration": 14058,
    "start_time": "2023-02-07T10:33:16.291Z"
   },
   {
    "duration": 24,
    "start_time": "2023-02-07T10:33:30.351Z"
   },
   {
    "duration": 68,
    "start_time": "2023-02-07T10:33:30.377Z"
   },
   {
    "duration": 30,
    "start_time": "2023-02-07T10:33:30.447Z"
   },
   {
    "duration": 18,
    "start_time": "2023-02-07T10:34:07.097Z"
   },
   {
    "duration": 3,
    "start_time": "2023-02-07T10:34:14.082Z"
   },
   {
    "duration": 2151,
    "start_time": "2023-02-07T10:34:14.088Z"
   },
   {
    "duration": 2134,
    "start_time": "2023-02-07T10:34:16.241Z"
   },
   {
    "duration": 4,
    "start_time": "2023-02-07T10:34:18.379Z"
   },
   {
    "duration": 48,
    "start_time": "2023-02-07T10:34:18.386Z"
   },
   {
    "duration": 27,
    "start_time": "2023-02-07T10:34:18.437Z"
   },
   {
    "duration": 69,
    "start_time": "2023-02-07T10:34:18.465Z"
   },
   {
    "duration": 50,
    "start_time": "2023-02-07T10:34:18.537Z"
   },
   {
    "duration": 13,
    "start_time": "2023-02-07T10:34:18.590Z"
   },
   {
    "duration": 10,
    "start_time": "2023-02-07T10:34:18.605Z"
   },
   {
    "duration": 667,
    "start_time": "2023-02-07T10:34:18.617Z"
   },
   {
    "duration": 25,
    "start_time": "2023-02-07T10:34:19.286Z"
   },
   {
    "duration": 20,
    "start_time": "2023-02-07T10:34:19.313Z"
   },
   {
    "duration": 158,
    "start_time": "2023-02-07T10:34:19.335Z"
   },
   {
    "duration": 705,
    "start_time": "2023-02-07T10:34:19.495Z"
   },
   {
    "duration": 12709,
    "start_time": "2023-02-07T10:34:20.202Z"
   },
   {
    "duration": 14556,
    "start_time": "2023-02-07T10:34:32.913Z"
   },
   {
    "duration": 33,
    "start_time": "2023-02-07T10:34:47.472Z"
   },
   {
    "duration": 17,
    "start_time": "2023-02-07T10:34:47.506Z"
   },
   {
    "duration": 32,
    "start_time": "2023-02-07T10:37:18.281Z"
   },
   {
    "duration": 22,
    "start_time": "2023-02-07T10:37:49.616Z"
   },
   {
    "duration": 20,
    "start_time": "2023-02-07T10:38:01.515Z"
   },
   {
    "duration": 11,
    "start_time": "2023-02-07T10:38:11.064Z"
   },
   {
    "duration": 10,
    "start_time": "2023-02-07T10:38:25.848Z"
   },
   {
    "duration": 610,
    "start_time": "2023-02-07T10:38:53.327Z"
   },
   {
    "duration": 585,
    "start_time": "2023-02-07T10:39:20.039Z"
   },
   {
    "duration": 564,
    "start_time": "2023-02-07T10:39:26.079Z"
   },
   {
    "duration": 594,
    "start_time": "2023-02-07T10:39:37.105Z"
   },
   {
    "duration": 602,
    "start_time": "2023-02-07T10:40:23.562Z"
   },
   {
    "duration": 632,
    "start_time": "2023-02-07T10:40:32.072Z"
   },
   {
    "duration": 618,
    "start_time": "2023-02-07T10:40:41.249Z"
   },
   {
    "duration": 1170,
    "start_time": "2023-02-07T10:43:19.783Z"
   },
   {
    "duration": 1167,
    "start_time": "2023-02-07T10:43:43.705Z"
   },
   {
    "duration": 19,
    "start_time": "2023-02-07T10:43:48.604Z"
   },
   {
    "duration": 1135,
    "start_time": "2023-02-07T10:44:21.751Z"
   },
   {
    "duration": 12,
    "start_time": "2023-02-07T10:45:06.665Z"
   },
   {
    "duration": 1157,
    "start_time": "2023-02-07T10:45:55.726Z"
   },
   {
    "duration": 21,
    "start_time": "2023-02-07T10:46:53.664Z"
   },
   {
    "duration": 13,
    "start_time": "2023-02-07T10:46:58.777Z"
   },
   {
    "duration": 768,
    "start_time": "2023-02-07T10:48:13.686Z"
   },
   {
    "duration": 664,
    "start_time": "2023-02-07T10:48:44.663Z"
   },
   {
    "duration": 635,
    "start_time": "2023-02-07T10:48:56.544Z"
   },
   {
    "duration": 8,
    "start_time": "2023-02-07T10:50:25.911Z"
   },
   {
    "duration": 684,
    "start_time": "2023-02-07T10:51:33.735Z"
   },
   {
    "duration": 630,
    "start_time": "2023-02-07T10:52:10.982Z"
   },
   {
    "duration": 665,
    "start_time": "2023-02-07T10:52:41.775Z"
   },
   {
    "duration": 648,
    "start_time": "2023-02-07T10:52:56.093Z"
   },
   {
    "duration": 625,
    "start_time": "2023-02-07T10:53:37.590Z"
   },
   {
    "duration": 623,
    "start_time": "2023-02-07T10:53:51.198Z"
   },
   {
    "duration": 609,
    "start_time": "2023-02-07T10:54:26.645Z"
   },
   {
    "duration": 636,
    "start_time": "2023-02-07T10:54:34.275Z"
   },
   {
    "duration": 9,
    "start_time": "2023-02-07T10:58:59.861Z"
   },
   {
    "duration": 6,
    "start_time": "2023-02-07T10:59:10.742Z"
   },
   {
    "duration": 3,
    "start_time": "2023-02-07T10:59:19.911Z"
   },
   {
    "duration": 2173,
    "start_time": "2023-02-07T10:59:19.916Z"
   },
   {
    "duration": 2096,
    "start_time": "2023-02-07T10:59:22.092Z"
   },
   {
    "duration": 6,
    "start_time": "2023-02-07T10:59:24.191Z"
   },
   {
    "duration": 63,
    "start_time": "2023-02-07T10:59:24.200Z"
   },
   {
    "duration": 79,
    "start_time": "2023-02-07T10:59:24.265Z"
   },
   {
    "duration": 2,
    "start_time": "2023-02-07T10:59:24.346Z"
   },
   {
    "duration": 8,
    "start_time": "2023-02-07T10:59:24.350Z"
   },
   {
    "duration": 16,
    "start_time": "2023-02-07T10:59:24.359Z"
   },
   {
    "duration": 14,
    "start_time": "2023-02-07T10:59:24.377Z"
   },
   {
    "duration": 584,
    "start_time": "2023-02-07T10:59:24.393Z"
   },
   {
    "duration": 25,
    "start_time": "2023-02-07T10:59:24.979Z"
   },
   {
    "duration": 15,
    "start_time": "2023-02-07T10:59:25.005Z"
   },
   {
    "duration": 167,
    "start_time": "2023-02-07T10:59:25.023Z"
   },
   {
    "duration": 658,
    "start_time": "2023-02-07T10:59:25.193Z"
   },
   {
    "duration": 12203,
    "start_time": "2023-02-07T10:59:25.853Z"
   },
   {
    "duration": 13606,
    "start_time": "2023-02-07T10:59:38.058Z"
   },
   {
    "duration": 25,
    "start_time": "2023-02-07T10:59:51.667Z"
   },
   {
    "duration": 20,
    "start_time": "2023-02-07T10:59:51.703Z"
   },
   {
    "duration": 25,
    "start_time": "2023-02-07T10:59:51.725Z"
   },
   {
    "duration": 8,
    "start_time": "2023-02-07T10:59:51.752Z"
   },
   {
    "duration": 10,
    "start_time": "2023-02-07T10:59:51.762Z"
   },
   {
    "duration": 8,
    "start_time": "2023-02-07T11:02:35.242Z"
   },
   {
    "duration": 10,
    "start_time": "2023-02-07T11:03:16.393Z"
   },
   {
    "duration": 8,
    "start_time": "2023-02-07T11:03:17.854Z"
   },
   {
    "duration": 5,
    "start_time": "2023-02-07T11:03:19.182Z"
   },
   {
    "duration": 15,
    "start_time": "2023-02-07T11:04:03.837Z"
   },
   {
    "duration": 622,
    "start_time": "2023-02-07T11:06:58.477Z"
   },
   {
    "duration": 654,
    "start_time": "2023-02-07T11:07:17.862Z"
   },
   {
    "duration": 1191,
    "start_time": "2023-02-07T11:11:38.361Z"
   },
   {
    "duration": 1457,
    "start_time": "2023-02-07T11:11:45.260Z"
   },
   {
    "duration": 1805,
    "start_time": "2023-02-07T11:13:18.391Z"
   },
   {
    "duration": 5190,
    "start_time": "2023-02-07T11:13:40.062Z"
   },
   {
    "duration": 2444,
    "start_time": "2023-02-07T11:15:00.516Z"
   },
   {
    "duration": 29092,
    "start_time": "2023-02-07T11:15:36.477Z"
   },
   {
    "duration": 477645,
    "start_time": "2023-02-07T11:16:44.690Z"
   },
   {
    "duration": 255750,
    "start_time": "2023-02-07T11:24:51.175Z"
   },
   {
    "duration": 248256,
    "start_time": "2023-02-07T11:29:10.396Z"
   },
   {
    "duration": 93984,
    "start_time": "2023-02-07T11:33:24.664Z"
   },
   {
    "duration": 5,
    "start_time": "2023-02-07T11:35:01.866Z"
   },
   {
    "duration": 29334,
    "start_time": "2023-02-07T11:35:14.869Z"
   },
   {
    "duration": 31072,
    "start_time": "2023-02-07T11:35:58.957Z"
   },
   {
    "duration": 737900,
    "start_time": "2023-02-07T11:37:57.909Z"
   },
   {
    "duration": 987559,
    "start_time": "2023-02-07T11:54:15.148Z"
   },
   {
    "duration": 3,
    "start_time": "2023-02-07T12:14:58.619Z"
   },
   {
    "duration": 1268384,
    "start_time": "2023-02-07T12:15:02.116Z"
   },
   {
    "duration": 49065,
    "start_time": "2023-02-07T12:38:12.840Z"
   },
   {
    "duration": 196315,
    "start_time": "2023-02-07T12:39:12.385Z"
   },
   {
    "duration": 271618,
    "start_time": "2023-02-07T12:43:09.751Z"
   },
   {
    "duration": 10587742,
    "start_time": "2023-02-07T12:51:37.317Z"
   },
   {
    "duration": 351,
    "start_time": "2023-02-07T16:48:35.091Z"
   },
   {
    "duration": 380,
    "start_time": "2023-02-07T16:49:48.379Z"
   },
   {
    "duration": 266,
    "start_time": "2023-02-07T16:50:51.725Z"
   },
   {
    "duration": 3,
    "start_time": "2023-02-07T16:51:01.980Z"
   },
   {
    "duration": 2105,
    "start_time": "2023-02-07T16:51:02.556Z"
   },
   {
    "duration": 2013,
    "start_time": "2023-02-07T16:51:04.663Z"
   },
   {
    "duration": 5,
    "start_time": "2023-02-07T16:51:06.679Z"
   },
   {
    "duration": 275,
    "start_time": "2023-02-07T16:51:07.252Z"
   },
   {
    "duration": 33,
    "start_time": "2023-02-07T16:51:09.156Z"
   },
   {
    "duration": 4,
    "start_time": "2023-02-07T16:51:13.772Z"
   },
   {
    "duration": 4,
    "start_time": "2023-02-07T16:51:14.324Z"
   },
   {
    "duration": 15,
    "start_time": "2023-02-07T16:52:32.869Z"
   },
   {
    "duration": 33,
    "start_time": "2023-02-07T16:53:08.278Z"
   },
   {
    "duration": 223,
    "start_time": "2023-02-07T16:54:10.839Z"
   },
   {
    "duration": 214,
    "start_time": "2023-02-07T16:54:36.120Z"
   },
   {
    "duration": 260,
    "start_time": "2023-02-07T16:55:53.578Z"
   },
   {
    "duration": 267,
    "start_time": "2023-02-07T16:56:14.282Z"
   },
   {
    "duration": 34,
    "start_time": "2023-02-07T16:56:19.657Z"
   },
   {
    "duration": 326,
    "start_time": "2023-02-07T17:01:27.086Z"
   },
   {
    "duration": 61,
    "start_time": "2023-02-07T17:01:38.302Z"
   },
   {
    "duration": 11,
    "start_time": "2023-02-07T17:02:11.614Z"
   },
   {
    "duration": 8,
    "start_time": "2023-02-07T17:02:19.048Z"
   },
   {
    "duration": 9,
    "start_time": "2023-02-07T17:02:27.480Z"
   },
   {
    "duration": 8,
    "start_time": "2023-02-07T17:03:02.536Z"
   },
   {
    "duration": 9,
    "start_time": "2023-02-07T17:03:58.329Z"
   },
   {
    "duration": 35,
    "start_time": "2023-02-07T17:05:16.122Z"
   },
   {
    "duration": 9,
    "start_time": "2023-02-07T17:10:32.568Z"
   },
   {
    "duration": 14,
    "start_time": "2023-02-07T17:10:41.041Z"
   },
   {
    "duration": 1400,
    "start_time": "2023-02-07T17:10:48.192Z"
   },
   {
    "duration": 3282,
    "start_time": "2023-02-07T17:11:00.106Z"
   },
   {
    "duration": 12,
    "start_time": "2023-02-07T17:11:12.498Z"
   },
   {
    "duration": 22,
    "start_time": "2023-02-07T17:11:21.488Z"
   },
   {
    "duration": 24,
    "start_time": "2023-02-07T17:11:57.037Z"
   },
   {
    "duration": 16,
    "start_time": "2023-02-07T17:12:05.601Z"
   },
   {
    "duration": 136,
    "start_time": "2023-02-07T17:12:10.617Z"
   },
   {
    "duration": 3649,
    "start_time": "2023-02-07T17:13:03.994Z"
   },
   {
    "duration": 20990,
    "start_time": "2023-02-07T17:13:23.810Z"
   },
   {
    "duration": 21096,
    "start_time": "2023-02-07T17:15:43.045Z"
   },
   {
    "duration": 0,
    "start_time": "2023-02-07T17:16:04.143Z"
   },
   {
    "duration": 21650,
    "start_time": "2023-02-07T17:16:40.447Z"
   },
   {
    "duration": 20951,
    "start_time": "2023-02-07T17:17:42.367Z"
   },
   {
    "duration": 3698,
    "start_time": "2023-02-07T17:18:59.938Z"
   },
   {
    "duration": 4049,
    "start_time": "2023-02-07T17:19:11.504Z"
   },
   {
    "duration": 3611,
    "start_time": "2023-02-07T17:19:35.107Z"
   },
   {
    "duration": 75,
    "start_time": "2023-02-07T17:21:16.735Z"
   },
   {
    "duration": 42,
    "start_time": "2023-02-07T17:21:24.836Z"
   },
   {
    "duration": 73,
    "start_time": "2023-02-07T17:21:38.516Z"
   },
   {
    "duration": 74,
    "start_time": "2023-02-07T17:21:48.037Z"
   },
   {
    "duration": 4,
    "start_time": "2023-02-07T17:21:56.565Z"
   },
   {
    "duration": 3,
    "start_time": "2023-02-07T17:22:01.964Z"
   },
   {
    "duration": 11,
    "start_time": "2023-02-07T17:22:22.448Z"
   },
   {
    "duration": 12,
    "start_time": "2023-02-07T17:22:29.372Z"
   },
   {
    "duration": 11,
    "start_time": "2023-02-07T17:22:38.021Z"
   },
   {
    "duration": 3941,
    "start_time": "2023-02-07T17:23:54.264Z"
   },
   {
    "duration": 3926,
    "start_time": "2023-02-07T17:24:22.555Z"
   },
   {
    "duration": 23043,
    "start_time": "2023-02-07T17:24:33.952Z"
   },
   {
    "duration": 24637,
    "start_time": "2023-02-07T17:26:20.416Z"
   },
   {
    "duration": 12630,
    "start_time": "2023-02-07T17:27:15.587Z"
   },
   {
    "duration": 22009,
    "start_time": "2023-02-07T17:28:05.948Z"
   },
   {
    "duration": 13557,
    "start_time": "2023-02-07T17:29:09.437Z"
   },
   {
    "duration": 12681,
    "start_time": "2023-02-07T17:29:48.794Z"
   },
   {
    "duration": 13290,
    "start_time": "2023-02-07T17:30:11.603Z"
   },
   {
    "duration": 1580,
    "start_time": "2023-02-07T17:30:46.124Z"
   },
   {
    "duration": 12812,
    "start_time": "2023-02-07T17:31:40.914Z"
   },
   {
    "duration": 4,
    "start_time": "2023-02-07T17:32:44.235Z"
   },
   {
    "duration": 4,
    "start_time": "2023-02-07T17:33:14.387Z"
   },
   {
    "duration": 4,
    "start_time": "2023-02-07T19:13:48.991Z"
   },
   {
    "duration": 195,
    "start_time": "2023-02-07T19:14:21.160Z"
   },
   {
    "duration": 82,
    "start_time": "2023-02-07T19:14:48.192Z"
   },
   {
    "duration": 69,
    "start_time": "2023-02-07T19:14:59.019Z"
   },
   {
    "duration": 137,
    "start_time": "2023-02-07T19:15:41.891Z"
   },
   {
    "duration": 4,
    "start_time": "2023-02-07T19:16:03.986Z"
   },
   {
    "duration": 71,
    "start_time": "2023-02-07T19:17:58.628Z"
   },
   {
    "duration": 2876,
    "start_time": "2023-02-07T19:18:10.869Z"
   },
   {
    "duration": 5,
    "start_time": "2023-02-07T19:18:13.748Z"
   },
   {
    "duration": 3,
    "start_time": "2023-02-07T19:18:19.868Z"
   },
   {
    "duration": 4,
    "start_time": "2023-02-07T19:18:34.876Z"
   },
   {
    "duration": 4,
    "start_time": "2023-02-07T19:19:12.381Z"
   },
   {
    "duration": 24,
    "start_time": "2023-02-07T19:19:18.701Z"
   },
   {
    "duration": 4,
    "start_time": "2023-02-07T19:19:30.418Z"
   },
   {
    "duration": 97,
    "start_time": "2023-02-07T19:20:27.470Z"
   },
   {
    "duration": 4,
    "start_time": "2023-02-07T19:20:39.253Z"
   },
   {
    "duration": 121,
    "start_time": "2023-02-07T19:27:22.138Z"
   },
   {
    "duration": 73,
    "start_time": "2023-02-07T19:27:52.383Z"
   },
   {
    "duration": 114,
    "start_time": "2023-02-07T19:29:53.225Z"
   },
   {
    "duration": 27841,
    "start_time": "2023-02-07T19:30:07.922Z"
   },
   {
    "duration": 95,
    "start_time": "2023-02-07T19:31:03.967Z"
   },
   {
    "duration": 13929,
    "start_time": "2023-02-07T19:31:09.850Z"
   },
   {
    "duration": 12,
    "start_time": "2023-02-07T19:32:31.187Z"
   },
   {
    "duration": 134,
    "start_time": "2023-02-07T19:32:35.700Z"
   },
   {
    "duration": 81,
    "start_time": "2023-02-07T19:33:07.429Z"
   },
   {
    "duration": 102,
    "start_time": "2023-02-07T19:34:52.647Z"
   },
   {
    "duration": 65,
    "start_time": "2023-02-07T19:38:20.763Z"
   },
   {
    "duration": 52,
    "start_time": "2023-02-07T19:38:35.252Z"
   },
   {
    "duration": 22,
    "start_time": "2023-02-07T19:41:15.960Z"
   },
   {
    "duration": 29,
    "start_time": "2023-02-07T19:41:21.029Z"
   },
   {
    "duration": 36,
    "start_time": "2023-02-07T19:41:36.045Z"
   },
   {
    "duration": 1115,
    "start_time": "2023-02-07T19:41:42.471Z"
   },
   {
    "duration": 3,
    "start_time": "2023-02-07T19:42:04.478Z"
   },
   {
    "duration": 2187,
    "start_time": "2023-02-07T19:42:04.483Z"
   },
   {
    "duration": 2214,
    "start_time": "2023-02-07T19:42:06.672Z"
   },
   {
    "duration": 5,
    "start_time": "2023-02-07T19:42:08.889Z"
   },
   {
    "duration": 338,
    "start_time": "2023-02-07T19:42:08.896Z"
   },
   {
    "duration": 43,
    "start_time": "2023-02-07T19:42:09.236Z"
   },
   {
    "duration": 2,
    "start_time": "2023-02-07T19:42:09.281Z"
   },
   {
    "duration": 6,
    "start_time": "2023-02-07T19:42:09.285Z"
   },
   {
    "duration": 27,
    "start_time": "2023-02-07T19:42:09.293Z"
   },
   {
    "duration": 14,
    "start_time": "2023-02-07T19:42:09.325Z"
   },
   {
    "duration": 3416,
    "start_time": "2023-02-07T19:42:09.341Z"
   },
   {
    "duration": 11,
    "start_time": "2023-02-07T19:42:12.759Z"
   },
   {
    "duration": 45,
    "start_time": "2023-02-07T19:42:12.773Z"
   },
   {
    "duration": 146,
    "start_time": "2023-02-07T19:42:12.819Z"
   },
   {
    "duration": 4010,
    "start_time": "2023-02-07T19:42:12.966Z"
   },
   {
    "duration": 1086,
    "start_time": "2023-02-07T19:42:16.978Z"
   },
   {
    "duration": 66,
    "start_time": "2023-02-07T19:42:41.027Z"
   },
   {
    "duration": 57,
    "start_time": "2023-02-07T19:42:51.826Z"
   },
   {
    "duration": 14132,
    "start_time": "2023-02-07T19:43:18.440Z"
   },
   {
    "duration": 13658,
    "start_time": "2023-02-07T19:43:53.775Z"
   },
   {
    "duration": 130,
    "start_time": "2023-02-07T19:45:04.922Z"
   },
   {
    "duration": 61,
    "start_time": "2023-02-07T19:45:18.636Z"
   },
   {
    "duration": 13750,
    "start_time": "2023-02-07T19:46:18.651Z"
   },
   {
    "duration": 22,
    "start_time": "2023-02-07T19:49:08.730Z"
   },
   {
    "duration": 1386,
    "start_time": "2023-02-07T19:49:25.093Z"
   },
   {
    "duration": 17200,
    "start_time": "2023-02-07T19:49:46.479Z"
   },
   {
    "duration": 57,
    "start_time": "2023-02-07T19:52:03.296Z"
   },
   {
    "duration": 52,
    "start_time": "2023-02-07T19:52:13.184Z"
   },
   {
    "duration": 28,
    "start_time": "2023-02-07T19:52:22.537Z"
   },
   {
    "duration": 12329,
    "start_time": "2023-02-07T20:01:13.599Z"
   },
   {
    "duration": 37,
    "start_time": "2023-02-07T20:01:42.176Z"
   },
   {
    "duration": 24,
    "start_time": "2023-02-07T20:03:14.825Z"
   },
   {
    "duration": 17,
    "start_time": "2023-02-07T20:03:21.478Z"
   },
   {
    "duration": 11,
    "start_time": "2023-02-07T20:04:25.640Z"
   },
   {
    "duration": 23,
    "start_time": "2023-02-07T20:04:34.576Z"
   },
   {
    "duration": 18,
    "start_time": "2023-02-07T20:04:47.178Z"
   },
   {
    "duration": 18,
    "start_time": "2023-02-07T20:05:41.770Z"
   },
   {
    "duration": 20,
    "start_time": "2023-02-07T20:05:56.337Z"
   },
   {
    "duration": 17,
    "start_time": "2023-02-07T20:06:01.963Z"
   },
   {
    "duration": 74,
    "start_time": "2023-02-07T20:07:47.871Z"
   },
   {
    "duration": 46,
    "start_time": "2023-02-07T20:08:15.324Z"
   },
   {
    "duration": 46,
    "start_time": "2023-02-07T20:08:25.614Z"
   },
   {
    "duration": 458,
    "start_time": "2023-02-07T20:08:48.134Z"
   },
   {
    "duration": 5761,
    "start_time": "2023-02-07T20:09:08.823Z"
   },
   {
    "duration": 50,
    "start_time": "2023-02-07T20:10:10.706Z"
   },
   {
    "duration": 5940,
    "start_time": "2023-02-07T20:10:31.401Z"
   },
   {
    "duration": 45,
    "start_time": "2023-02-07T20:11:16.324Z"
   },
   {
    "duration": 55,
    "start_time": "2023-02-07T20:12:19.234Z"
   },
   {
    "duration": 7812,
    "start_time": "2023-02-07T20:12:40.892Z"
   },
   {
    "duration": 21,
    "start_time": "2023-02-07T20:14:00.641Z"
   },
   {
    "duration": 12341,
    "start_time": "2023-02-07T20:14:31.997Z"
   },
   {
    "duration": 3,
    "start_time": "2023-02-07T20:14:44.340Z"
   },
   {
    "duration": 3,
    "start_time": "2023-02-07T20:18:36.736Z"
   },
   {
    "duration": 2077,
    "start_time": "2023-02-07T20:18:36.741Z"
   },
   {
    "duration": 2099,
    "start_time": "2023-02-07T20:18:38.821Z"
   },
   {
    "duration": 5,
    "start_time": "2023-02-07T20:18:40.922Z"
   },
   {
    "duration": 393,
    "start_time": "2023-02-07T20:18:40.929Z"
   },
   {
    "duration": 32,
    "start_time": "2023-02-07T20:18:41.324Z"
   },
   {
    "duration": 2,
    "start_time": "2023-02-07T20:18:41.358Z"
   },
   {
    "duration": 24,
    "start_time": "2023-02-07T20:18:41.362Z"
   },
   {
    "duration": 17,
    "start_time": "2023-02-07T20:18:41.388Z"
   },
   {
    "duration": 15,
    "start_time": "2023-02-07T20:18:41.407Z"
   },
   {
    "duration": 3189,
    "start_time": "2023-02-07T20:18:41.424Z"
   },
   {
    "duration": 12,
    "start_time": "2023-02-07T20:18:44.615Z"
   },
   {
    "duration": 19,
    "start_time": "2023-02-07T20:18:44.629Z"
   },
   {
    "duration": 151,
    "start_time": "2023-02-07T20:18:44.651Z"
   },
   {
    "duration": 3342,
    "start_time": "2023-02-07T20:18:44.804Z"
   },
   {
    "duration": 12030,
    "start_time": "2023-02-07T20:18:48.147Z"
   },
   {
    "duration": 5,
    "start_time": "2023-02-07T20:37:35.262Z"
   },
   {
    "duration": 110,
    "start_time": "2023-02-07T20:37:36.534Z"
   },
   {
    "duration": 201,
    "start_time": "2023-02-07T20:37:40.065Z"
   },
   {
    "duration": 38,
    "start_time": "2023-02-07T20:50:24.829Z"
   },
   {
    "duration": 24,
    "start_time": "2023-02-07T20:50:31.516Z"
   },
   {
    "duration": 28,
    "start_time": "2023-02-07T20:50:52.445Z"
   },
   {
    "duration": 18,
    "start_time": "2023-02-07T20:58:03.445Z"
   },
   {
    "duration": 75,
    "start_time": "2023-02-07T21:00:50.944Z"
   },
   {
    "duration": 46,
    "start_time": "2023-02-07T21:01:18.855Z"
   },
   {
    "duration": 91,
    "start_time": "2023-02-07T21:01:45.905Z"
   },
   {
    "duration": 184,
    "start_time": "2023-02-07T21:02:04.208Z"
   },
   {
    "duration": 181,
    "start_time": "2023-02-07T21:02:42.905Z"
   },
   {
    "duration": 82,
    "start_time": "2023-02-07T21:16:38.743Z"
   },
   {
    "duration": 81,
    "start_time": "2023-02-07T21:16:58.849Z"
   },
   {
    "duration": 5,
    "start_time": "2023-02-07T21:17:30.769Z"
   },
   {
    "duration": 4,
    "start_time": "2023-02-07T21:17:59.171Z"
   },
   {
    "duration": 6,
    "start_time": "2023-02-07T21:18:08.009Z"
   },
   {
    "duration": 5,
    "start_time": "2023-02-07T21:18:30.434Z"
   },
   {
    "duration": 93,
    "start_time": "2023-02-07T21:18:53.506Z"
   },
   {
    "duration": 28,
    "start_time": "2023-02-07T21:20:21.868Z"
   },
   {
    "duration": 38,
    "start_time": "2023-02-07T21:20:27.564Z"
   },
   {
    "duration": 18,
    "start_time": "2023-02-07T21:21:00.125Z"
   },
   {
    "duration": 18,
    "start_time": "2023-02-07T21:22:38.702Z"
   },
   {
    "duration": 30,
    "start_time": "2023-02-07T21:23:03.198Z"
   },
   {
    "duration": 30,
    "start_time": "2023-02-07T21:23:09.407Z"
   },
   {
    "duration": 30,
    "start_time": "2023-02-07T21:23:26.311Z"
   },
   {
    "duration": 30,
    "start_time": "2023-02-07T21:24:32.592Z"
   },
   {
    "duration": 31,
    "start_time": "2023-02-07T21:25:11.969Z"
   },
   {
    "duration": 34,
    "start_time": "2023-02-07T21:25:24.793Z"
   },
   {
    "duration": 46,
    "start_time": "2023-02-07T21:25:46.706Z"
   },
   {
    "duration": 71,
    "start_time": "2023-02-07T21:28:38.893Z"
   },
   {
    "duration": 20,
    "start_time": "2023-02-07T21:28:52.197Z"
   },
   {
    "duration": 209,
    "start_time": "2023-02-07T21:29:14.166Z"
   },
   {
    "duration": 100,
    "start_time": "2023-02-07T21:32:08.288Z"
   },
   {
    "duration": 173,
    "start_time": "2023-02-07T21:34:32.932Z"
   },
   {
    "duration": 77,
    "start_time": "2023-02-07T21:34:53.579Z"
   },
   {
    "duration": 88,
    "start_time": "2023-02-07T21:36:06.837Z"
   },
   {
    "duration": 267,
    "start_time": "2023-02-07T22:03:55.085Z"
   },
   {
    "duration": 84,
    "start_time": "2023-02-07T22:04:08.985Z"
   },
   {
    "duration": 88,
    "start_time": "2023-02-07T22:04:18.474Z"
   },
   {
    "duration": 85,
    "start_time": "2023-02-07T22:05:24.276Z"
   },
   {
    "duration": 82,
    "start_time": "2023-02-07T22:05:32.427Z"
   },
   {
    "duration": 92,
    "start_time": "2023-02-07T22:05:57.116Z"
   },
   {
    "duration": 106,
    "start_time": "2023-02-07T22:16:10.592Z"
   },
   {
    "duration": 128,
    "start_time": "2023-02-07T22:17:08.584Z"
   },
   {
    "duration": 11,
    "start_time": "2023-02-07T23:35:19.898Z"
   },
   {
    "duration": 101,
    "start_time": "2023-02-07T23:36:02.824Z"
   },
   {
    "duration": 44,
    "start_time": "2023-02-07T23:37:08.366Z"
   },
   {
    "duration": 34,
    "start_time": "2023-02-07T23:39:16.023Z"
   },
   {
    "duration": 392,
    "start_time": "2023-02-07T23:41:10.391Z"
   },
   {
    "duration": 270,
    "start_time": "2023-02-07T23:41:23.089Z"
   },
   {
    "duration": 293,
    "start_time": "2023-02-07T23:43:52.063Z"
   },
   {
    "duration": 288,
    "start_time": "2023-02-07T23:44:04.600Z"
   },
   {
    "duration": 278,
    "start_time": "2023-02-07T23:44:18.082Z"
   },
   {
    "duration": 275,
    "start_time": "2023-02-07T23:44:32.271Z"
   },
   {
    "duration": 5,
    "start_time": "2023-02-07T23:46:13.805Z"
   },
   {
    "duration": 51,
    "start_time": "2023-02-07T23:46:27.006Z"
   },
   {
    "duration": 86,
    "start_time": "2023-02-07T23:47:02.592Z"
   },
   {
    "duration": 44,
    "start_time": "2023-02-07T23:48:28.596Z"
   },
   {
    "duration": 45,
    "start_time": "2023-02-07T23:50:49.156Z"
   },
   {
    "duration": 27,
    "start_time": "2023-02-07T23:50:59.172Z"
   },
   {
    "duration": 66,
    "start_time": "2023-02-07T23:53:35.080Z"
   },
   {
    "duration": 49,
    "start_time": "2023-02-07T23:53:48.441Z"
   },
   {
    "duration": 30,
    "start_time": "2023-02-07T23:55:32.665Z"
   },
   {
    "duration": 96,
    "start_time": "2023-02-07T23:56:04.328Z"
   },
   {
    "duration": 474,
    "start_time": "2023-02-07T23:56:30.039Z"
   },
   {
    "duration": 301,
    "start_time": "2023-02-07T23:57:07.026Z"
   },
   {
    "duration": 298,
    "start_time": "2023-02-07T23:57:47.032Z"
   },
   {
    "duration": 288,
    "start_time": "2023-02-07T23:58:00.366Z"
   },
   {
    "duration": 288,
    "start_time": "2023-02-07T23:58:26.903Z"
   },
   {
    "duration": 50,
    "start_time": "2023-02-07T23:59:39.196Z"
   },
   {
    "duration": 29,
    "start_time": "2023-02-08T00:00:59.505Z"
   },
   {
    "duration": 90,
    "start_time": "2023-02-08T00:02:04.269Z"
   },
   {
    "duration": 30,
    "start_time": "2023-02-08T00:02:11.120Z"
   },
   {
    "duration": 4,
    "start_time": "2023-02-08T07:01:06.819Z"
   },
   {
    "duration": 3381,
    "start_time": "2023-02-08T07:01:06.825Z"
   },
   {
    "duration": 5510,
    "start_time": "2023-02-08T07:01:10.208Z"
   },
   {
    "duration": 1965,
    "start_time": "2023-02-08T07:01:15.721Z"
   },
   {
    "duration": 64,
    "start_time": "2023-02-08T07:01:17.688Z"
   },
   {
    "duration": 124,
    "start_time": "2023-02-08T07:01:17.753Z"
   },
   {
    "duration": 0,
    "start_time": "2023-02-08T07:01:17.878Z"
   },
   {
    "duration": 0,
    "start_time": "2023-02-08T07:01:17.881Z"
   },
   {
    "duration": 4,
    "start_time": "2023-02-08T07:02:04.783Z"
   },
   {
    "duration": 411,
    "start_time": "2023-02-08T07:02:09.109Z"
   },
   {
    "duration": 22,
    "start_time": "2023-02-08T07:02:10.614Z"
   },
   {
    "duration": 35,
    "start_time": "2023-02-08T07:05:34.594Z"
   },
   {
    "duration": 3,
    "start_time": "2023-02-08T07:06:08.637Z"
   },
   {
    "duration": 84,
    "start_time": "2023-02-08T07:06:09.476Z"
   },
   {
    "duration": 385,
    "start_time": "2023-02-08T07:06:10.759Z"
   },
   {
    "duration": 31,
    "start_time": "2023-02-08T07:06:30.259Z"
   },
   {
    "duration": 29,
    "start_time": "2023-02-08T07:08:31.292Z"
   },
   {
    "duration": 34,
    "start_time": "2023-02-08T07:10:43.240Z"
   },
   {
    "duration": 31,
    "start_time": "2023-02-08T07:10:51.220Z"
   },
   {
    "duration": 28,
    "start_time": "2023-02-08T07:11:09.938Z"
   },
   {
    "duration": 14,
    "start_time": "2023-02-08T07:15:19.881Z"
   },
   {
    "duration": 4,
    "start_time": "2023-02-08T07:15:43.939Z"
   },
   {
    "duration": 11,
    "start_time": "2023-02-08T07:15:48.844Z"
   },
   {
    "duration": 11,
    "start_time": "2023-02-08T07:15:52.987Z"
   },
   {
    "duration": 4,
    "start_time": "2023-02-08T07:16:19.076Z"
   },
   {
    "duration": 116,
    "start_time": "2023-02-08T07:16:24.667Z"
   },
   {
    "duration": 36,
    "start_time": "2023-02-08T07:17:05.224Z"
   },
   {
    "duration": 29,
    "start_time": "2023-02-08T07:17:20.666Z"
   },
   {
    "duration": 29,
    "start_time": "2023-02-08T07:18:02.844Z"
   },
   {
    "duration": 78,
    "start_time": "2023-02-08T07:18:46.653Z"
   },
   {
    "duration": 450,
    "start_time": "2023-02-08T07:19:22.995Z"
   },
   {
    "duration": 43,
    "start_time": "2023-02-08T07:19:30.491Z"
   },
   {
    "duration": 30,
    "start_time": "2023-02-08T07:19:42.842Z"
   },
   {
    "duration": 29,
    "start_time": "2023-02-08T07:20:34.959Z"
   },
   {
    "duration": 60,
    "start_time": "2023-02-08T07:20:38.745Z"
   },
   {
    "duration": 31,
    "start_time": "2023-02-08T07:21:44.769Z"
   },
   {
    "duration": 316,
    "start_time": "2023-02-08T07:22:22.299Z"
   },
   {
    "duration": 7,
    "start_time": "2023-02-08T07:23:09.777Z"
   },
   {
    "duration": 33,
    "start_time": "2023-02-08T07:23:42.939Z"
   },
   {
    "duration": 14,
    "start_time": "2023-02-08T07:23:53.299Z"
   },
   {
    "duration": 10,
    "start_time": "2023-02-08T07:25:56.195Z"
   },
   {
    "duration": 288,
    "start_time": "2023-02-08T07:26:02.764Z"
   },
   {
    "duration": 3,
    "start_time": "2023-02-08T07:32:12.747Z"
   },
   {
    "duration": 73,
    "start_time": "2023-02-08T07:33:51.139Z"
   },
   {
    "duration": 22,
    "start_time": "2023-02-08T07:34:05.652Z"
   },
   {
    "duration": 4486,
    "start_time": "2023-02-08T07:34:12.187Z"
   },
   {
    "duration": 15,
    "start_time": "2023-02-08T07:34:44.355Z"
   },
   {
    "duration": 255,
    "start_time": "2023-02-08T07:51:36.916Z"
   },
   {
    "duration": 254,
    "start_time": "2023-02-08T07:52:00.356Z"
   },
   {
    "duration": 4,
    "start_time": "2023-02-08T07:52:25.798Z"
   },
   {
    "duration": 15,
    "start_time": "2023-02-08T07:52:30.450Z"
   },
   {
    "duration": 218,
    "start_time": "2023-02-08T07:52:38.051Z"
   },
   {
    "duration": 10,
    "start_time": "2023-02-08T07:54:37.242Z"
   },
   {
    "duration": 13,
    "start_time": "2023-02-08T07:56:00.922Z"
   },
   {
    "duration": 18,
    "start_time": "2023-02-08T07:56:12.506Z"
   },
   {
    "duration": 218,
    "start_time": "2023-02-08T07:56:22.297Z"
   },
   {
    "duration": 77,
    "start_time": "2023-02-08T07:56:47.993Z"
   },
   {
    "duration": 39,
    "start_time": "2023-02-08T07:57:29.773Z"
   },
   {
    "duration": 44,
    "start_time": "2023-02-08T07:58:20.873Z"
   },
   {
    "duration": 34,
    "start_time": "2023-02-08T07:59:25.793Z"
   },
   {
    "duration": 11,
    "start_time": "2023-02-08T07:59:32.459Z"
   },
   {
    "duration": 37,
    "start_time": "2023-02-08T07:59:36.857Z"
   },
   {
    "duration": 12,
    "start_time": "2023-02-08T07:59:37.472Z"
   },
   {
    "duration": 10,
    "start_time": "2023-02-08T07:59:44.305Z"
   },
   {
    "duration": 807,
    "start_time": "2023-02-08T07:59:48.386Z"
   },
   {
    "duration": 203,
    "start_time": "2023-02-08T08:00:08.810Z"
   },
   {
    "duration": 215,
    "start_time": "2023-02-08T08:00:49.816Z"
   },
   {
    "duration": 235,
    "start_time": "2023-02-08T08:01:26.249Z"
   },
   {
    "duration": 255,
    "start_time": "2023-02-08T08:01:37.145Z"
   },
   {
    "duration": 252,
    "start_time": "2023-02-08T08:01:53.762Z"
   },
   {
    "duration": 203,
    "start_time": "2023-02-08T08:02:02.436Z"
   },
   {
    "duration": 11,
    "start_time": "2023-02-08T08:02:16.387Z"
   },
   {
    "duration": 10,
    "start_time": "2023-02-08T08:02:29.118Z"
   },
   {
    "duration": 9,
    "start_time": "2023-02-08T08:02:52.372Z"
   },
   {
    "duration": 8,
    "start_time": "2023-02-08T08:07:54.828Z"
   },
   {
    "duration": 10,
    "start_time": "2023-02-08T08:07:56.912Z"
   },
   {
    "duration": 10,
    "start_time": "2023-02-08T08:08:06.266Z"
   },
   {
    "duration": 8,
    "start_time": "2023-02-08T08:08:21.941Z"
   },
   {
    "duration": 812,
    "start_time": "2023-02-08T08:08:39.392Z"
   },
   {
    "duration": 4299,
    "start_time": "2023-02-08T08:08:54.123Z"
   },
   {
    "duration": 3,
    "start_time": "2023-02-08T08:10:45.687Z"
   },
   {
    "duration": 1959,
    "start_time": "2023-02-08T08:10:45.692Z"
   },
   {
    "duration": 1873,
    "start_time": "2023-02-08T08:10:47.653Z"
   },
   {
    "duration": 4,
    "start_time": "2023-02-08T08:10:49.529Z"
   },
   {
    "duration": 5,
    "start_time": "2023-02-08T08:10:49.536Z"
   },
   {
    "duration": 93,
    "start_time": "2023-02-08T08:10:49.543Z"
   },
   {
    "duration": 424,
    "start_time": "2023-02-08T08:10:49.637Z"
   },
   {
    "duration": 37,
    "start_time": "2023-02-08T08:10:50.063Z"
   },
   {
    "duration": 10,
    "start_time": "2023-02-08T08:10:50.102Z"
   },
   {
    "duration": 3,
    "start_time": "2023-02-08T08:10:50.115Z"
   },
   {
    "duration": 8,
    "start_time": "2023-02-08T08:10:50.121Z"
   },
   {
    "duration": 16,
    "start_time": "2023-02-08T08:10:50.131Z"
   },
   {
    "duration": 12,
    "start_time": "2023-02-08T08:10:50.149Z"
   },
   {
    "duration": 10,
    "start_time": "2023-02-08T08:12:15.256Z"
   },
   {
    "duration": 11,
    "start_time": "2023-02-08T08:15:40.500Z"
   },
   {
    "duration": 7,
    "start_time": "2023-02-08T08:15:57.607Z"
   },
   {
    "duration": 8,
    "start_time": "2023-02-08T08:16:19.287Z"
   },
   {
    "duration": 9,
    "start_time": "2023-02-08T08:16:36.496Z"
   },
   {
    "duration": 4,
    "start_time": "2023-02-08T08:16:53.070Z"
   },
   {
    "duration": 32,
    "start_time": "2023-02-08T08:16:59.336Z"
   },
   {
    "duration": 10,
    "start_time": "2023-02-08T08:17:37.273Z"
   },
   {
    "duration": 8,
    "start_time": "2023-02-08T08:18:24.851Z"
   },
   {
    "duration": 9,
    "start_time": "2023-02-08T08:18:28.808Z"
   },
   {
    "duration": 8,
    "start_time": "2023-02-08T08:18:47.159Z"
   },
   {
    "duration": 4402,
    "start_time": "2023-02-08T08:18:52.464Z"
   },
   {
    "duration": 4090,
    "start_time": "2023-02-08T08:19:24.428Z"
   },
   {
    "duration": 8,
    "start_time": "2023-02-08T08:21:33.001Z"
   },
   {
    "duration": 110,
    "start_time": "2023-02-08T08:22:50.696Z"
   },
   {
    "duration": 35,
    "start_time": "2023-02-08T08:23:30.264Z"
   },
   {
    "duration": 57,
    "start_time": "2023-02-08T08:23:55.272Z"
   },
   {
    "duration": 242,
    "start_time": "2023-02-08T08:27:43.259Z"
   },
   {
    "duration": 28,
    "start_time": "2023-02-08T08:28:26.605Z"
   },
   {
    "duration": 235,
    "start_time": "2023-02-08T08:28:38.808Z"
   },
   {
    "duration": 279,
    "start_time": "2023-02-08T08:28:52.746Z"
   },
   {
    "duration": 233,
    "start_time": "2023-02-08T08:34:05.034Z"
   },
   {
    "duration": 42,
    "start_time": "2023-02-08T08:34:16.206Z"
   },
   {
    "duration": 220,
    "start_time": "2023-02-08T08:34:51.235Z"
   },
   {
    "duration": 227,
    "start_time": "2023-02-08T08:35:33.069Z"
   },
   {
    "duration": 88,
    "start_time": "2023-02-08T08:38:02.385Z"
   },
   {
    "duration": 30,
    "start_time": "2023-02-08T08:38:22.381Z"
   },
   {
    "duration": 32,
    "start_time": "2023-02-08T08:38:27.692Z"
   },
   {
    "duration": 41,
    "start_time": "2023-02-08T08:38:38.794Z"
   },
   {
    "duration": 272,
    "start_time": "2023-02-08T08:39:40.130Z"
   },
   {
    "duration": 256,
    "start_time": "2023-02-08T08:39:51.891Z"
   },
   {
    "duration": 35,
    "start_time": "2023-02-08T08:40:06.610Z"
   },
   {
    "duration": 32,
    "start_time": "2023-02-08T08:42:38.454Z"
   },
   {
    "duration": 30,
    "start_time": "2023-02-08T08:42:45.921Z"
   },
   {
    "duration": 30,
    "start_time": "2023-02-08T08:42:48.328Z"
   },
   {
    "duration": 30,
    "start_time": "2023-02-08T08:43:07.914Z"
   },
   {
    "duration": 24,
    "start_time": "2023-02-08T08:43:31.035Z"
   },
   {
    "duration": 26,
    "start_time": "2023-02-08T08:43:54.044Z"
   },
   {
    "duration": 22,
    "start_time": "2023-02-08T08:44:03.824Z"
   },
   {
    "duration": 29,
    "start_time": "2023-02-08T08:44:30.219Z"
   },
   {
    "duration": 28,
    "start_time": "2023-02-08T08:44:50.714Z"
   },
   {
    "duration": 30,
    "start_time": "2023-02-08T08:45:06.561Z"
   },
   {
    "duration": 3,
    "start_time": "2023-02-08T08:45:14.961Z"
   },
   {
    "duration": 2064,
    "start_time": "2023-02-08T08:45:14.966Z"
   },
   {
    "duration": 1976,
    "start_time": "2023-02-08T08:45:17.032Z"
   },
   {
    "duration": 5,
    "start_time": "2023-02-08T08:45:19.010Z"
   },
   {
    "duration": 10,
    "start_time": "2023-02-08T08:45:19.017Z"
   },
   {
    "duration": 89,
    "start_time": "2023-02-08T08:45:19.029Z"
   },
   {
    "duration": 444,
    "start_time": "2023-02-08T08:45:19.120Z"
   },
   {
    "duration": 26,
    "start_time": "2023-02-08T08:45:19.567Z"
   },
   {
    "duration": 10,
    "start_time": "2023-02-08T08:45:19.595Z"
   },
   {
    "duration": 5,
    "start_time": "2023-02-08T08:45:19.607Z"
   },
   {
    "duration": 5,
    "start_time": "2023-02-08T08:45:19.614Z"
   },
   {
    "duration": 24,
    "start_time": "2023-02-08T08:45:28.899Z"
   },
   {
    "duration": 25,
    "start_time": "2023-02-08T08:45:33.416Z"
   },
   {
    "duration": 247,
    "start_time": "2023-02-08T08:46:03.511Z"
   },
   {
    "duration": 35,
    "start_time": "2023-02-08T08:46:20.095Z"
   },
   {
    "duration": 2,
    "start_time": "2023-02-08T08:47:11.224Z"
   },
   {
    "duration": 1904,
    "start_time": "2023-02-08T08:47:11.228Z"
   },
   {
    "duration": 1952,
    "start_time": "2023-02-08T08:47:13.134Z"
   },
   {
    "duration": 4,
    "start_time": "2023-02-08T08:47:15.089Z"
   },
   {
    "duration": 8,
    "start_time": "2023-02-08T08:47:15.096Z"
   },
   {
    "duration": 44,
    "start_time": "2023-02-08T08:47:15.106Z"
   },
   {
    "duration": 365,
    "start_time": "2023-02-08T08:47:15.152Z"
   },
   {
    "duration": 43,
    "start_time": "2023-02-08T08:47:15.519Z"
   },
   {
    "duration": 20,
    "start_time": "2023-02-08T08:47:15.564Z"
   },
   {
    "duration": 15,
    "start_time": "2023-02-08T08:47:15.586Z"
   },
   {
    "duration": 41,
    "start_time": "2023-02-08T08:47:33.473Z"
   },
   {
    "duration": 25,
    "start_time": "2023-02-08T08:49:08.431Z"
   },
   {
    "duration": 216,
    "start_time": "2023-02-08T08:49:41.274Z"
   },
   {
    "duration": 48,
    "start_time": "2023-02-08T08:49:56.750Z"
   },
   {
    "duration": 320,
    "start_time": "2023-02-08T08:54:07.127Z"
   },
   {
    "duration": 50,
    "start_time": "2023-02-08T08:54:16.653Z"
   },
   {
    "duration": 43,
    "start_time": "2023-02-08T08:54:33.902Z"
   },
   {
    "duration": 3,
    "start_time": "2023-02-08T08:54:55.528Z"
   },
   {
    "duration": 2177,
    "start_time": "2023-02-08T08:54:55.533Z"
   },
   {
    "duration": 2015,
    "start_time": "2023-02-08T08:54:57.712Z"
   },
   {
    "duration": 5,
    "start_time": "2023-02-08T08:54:59.730Z"
   },
   {
    "duration": 11,
    "start_time": "2023-02-08T08:54:59.736Z"
   },
   {
    "duration": 36,
    "start_time": "2023-02-08T08:54:59.749Z"
   },
   {
    "duration": 349,
    "start_time": "2023-02-08T08:54:59.787Z"
   },
   {
    "duration": 39,
    "start_time": "2023-02-08T08:55:00.138Z"
   },
   {
    "duration": 79,
    "start_time": "2023-02-08T08:55:00.180Z"
   },
   {
    "duration": 42,
    "start_time": "2023-02-08T08:55:00.260Z"
   },
   {
    "duration": 44,
    "start_time": "2023-02-08T08:55:57.057Z"
   },
   {
    "duration": 46,
    "start_time": "2023-02-08T08:56:20.182Z"
   },
   {
    "duration": 43,
    "start_time": "2023-02-08T08:57:16.744Z"
   },
   {
    "duration": 36,
    "start_time": "2023-02-08T08:57:33.435Z"
   },
   {
    "duration": 47,
    "start_time": "2023-02-08T08:57:44.345Z"
   },
   {
    "duration": 30,
    "start_time": "2023-02-08T09:00:24.968Z"
   },
   {
    "duration": 46,
    "start_time": "2023-02-08T09:00:53.611Z"
   },
   {
    "duration": 41,
    "start_time": "2023-02-08T09:00:58.662Z"
   },
   {
    "duration": 59,
    "start_time": "2023-02-08T09:01:26.551Z"
   },
   {
    "duration": 44,
    "start_time": "2023-02-08T09:01:36.982Z"
   },
   {
    "duration": 50,
    "start_time": "2023-02-08T09:01:44.660Z"
   },
   {
    "duration": 38,
    "start_time": "2023-02-08T09:01:54.516Z"
   },
   {
    "duration": 15,
    "start_time": "2023-02-08T09:01:59.231Z"
   },
   {
    "duration": 2,
    "start_time": "2023-02-08T09:02:05.357Z"
   },
   {
    "duration": 4,
    "start_time": "2023-02-08T09:02:06.157Z"
   },
   {
    "duration": 8,
    "start_time": "2023-02-08T09:02:07.890Z"
   },
   {
    "duration": 8,
    "start_time": "2023-02-08T09:02:09.128Z"
   },
   {
    "duration": 17,
    "start_time": "2023-02-08T09:02:18.848Z"
   },
   {
    "duration": 10,
    "start_time": "2023-02-08T09:02:35.983Z"
   },
   {
    "duration": 4160,
    "start_time": "2023-02-08T09:02:39.221Z"
   },
   {
    "duration": 4084,
    "start_time": "2023-02-08T09:03:07.461Z"
   },
   {
    "duration": 4008,
    "start_time": "2023-02-08T09:05:04.646Z"
   },
   {
    "duration": 4024,
    "start_time": "2023-02-08T09:05:29.214Z"
   },
   {
    "duration": 3951,
    "start_time": "2023-02-08T09:05:53.697Z"
   },
   {
    "duration": 12,
    "start_time": "2023-02-08T09:05:57.650Z"
   },
   {
    "duration": 23,
    "start_time": "2023-02-08T09:06:03.612Z"
   },
   {
    "duration": 16,
    "start_time": "2023-02-08T09:06:37.934Z"
   },
   {
    "duration": 646,
    "start_time": "2023-02-08T09:06:45.911Z"
   },
   {
    "duration": 26,
    "start_time": "2023-02-08T09:06:51.262Z"
   },
   {
    "duration": 304,
    "start_time": "2023-02-08T09:22:32.380Z"
   },
   {
    "duration": 4582,
    "start_time": "2023-02-08T09:25:10.539Z"
   },
   {
    "duration": 4624,
    "start_time": "2023-02-08T09:25:27.655Z"
   },
   {
    "duration": 4230,
    "start_time": "2023-02-08T09:25:46.958Z"
   },
   {
    "duration": 4117,
    "start_time": "2023-02-08T09:26:56.524Z"
   },
   {
    "duration": 73,
    "start_time": "2023-02-08T09:27:54.548Z"
   },
   {
    "duration": 9,
    "start_time": "2023-02-08T09:28:42.345Z"
   },
   {
    "duration": 11,
    "start_time": "2023-02-08T09:28:47.882Z"
   },
   {
    "duration": 9,
    "start_time": "2023-02-08T09:28:57.781Z"
   },
   {
    "duration": 4166,
    "start_time": "2023-02-08T09:31:43.618Z"
   },
   {
    "duration": 3,
    "start_time": "2023-02-08T09:32:05.892Z"
   },
   {
    "duration": 1991,
    "start_time": "2023-02-08T09:32:05.898Z"
   },
   {
    "duration": 1918,
    "start_time": "2023-02-08T09:32:07.891Z"
   },
   {
    "duration": 5,
    "start_time": "2023-02-08T09:32:09.810Z"
   },
   {
    "duration": 11,
    "start_time": "2023-02-08T09:32:09.817Z"
   },
   {
    "duration": 92,
    "start_time": "2023-02-08T09:32:09.829Z"
   },
   {
    "duration": 474,
    "start_time": "2023-02-08T09:32:09.923Z"
   },
   {
    "duration": 75,
    "start_time": "2023-02-08T09:32:10.399Z"
   },
   {
    "duration": 10,
    "start_time": "2023-02-08T09:32:10.475Z"
   },
   {
    "duration": 8,
    "start_time": "2023-02-08T09:32:10.486Z"
   },
   {
    "duration": 6,
    "start_time": "2023-02-08T09:32:10.497Z"
   },
   {
    "duration": 13,
    "start_time": "2023-02-08T09:32:10.504Z"
   },
   {
    "duration": 13,
    "start_time": "2023-02-08T09:32:10.519Z"
   },
   {
    "duration": 3950,
    "start_time": "2023-02-08T09:32:10.533Z"
   },
   {
    "duration": 11,
    "start_time": "2023-02-08T09:32:14.485Z"
   },
   {
    "duration": 17,
    "start_time": "2023-02-08T09:32:14.498Z"
   },
   {
    "duration": 169,
    "start_time": "2023-02-08T09:32:14.516Z"
   },
   {
    "duration": 37,
    "start_time": "2023-02-08T09:33:30.582Z"
   },
   {
    "duration": 46,
    "start_time": "2023-02-08T09:33:36.299Z"
   },
   {
    "duration": 4207,
    "start_time": "2023-02-08T09:35:49.175Z"
   },
   {
    "duration": 353,
    "start_time": "2023-02-08T09:38:20.813Z"
   },
   {
    "duration": 3,
    "start_time": "2023-02-08T09:38:37.756Z"
   },
   {
    "duration": 2097,
    "start_time": "2023-02-08T09:38:37.762Z"
   },
   {
    "duration": 3045,
    "start_time": "2023-02-08T09:38:39.861Z"
   },
   {
    "duration": 7,
    "start_time": "2023-02-08T09:38:42.910Z"
   },
   {
    "duration": 6,
    "start_time": "2023-02-08T09:38:42.920Z"
   },
   {
    "duration": 51,
    "start_time": "2023-02-08T09:38:42.929Z"
   },
   {
    "duration": 370,
    "start_time": "2023-02-08T09:38:42.982Z"
   },
   {
    "duration": 44,
    "start_time": "2023-02-08T09:38:43.353Z"
   },
   {
    "duration": 14,
    "start_time": "2023-02-08T09:38:43.400Z"
   },
   {
    "duration": 9,
    "start_time": "2023-02-08T09:38:43.415Z"
   },
   {
    "duration": 23,
    "start_time": "2023-02-08T09:38:43.426Z"
   },
   {
    "duration": 16,
    "start_time": "2023-02-08T09:38:43.451Z"
   },
   {
    "duration": 16,
    "start_time": "2023-02-08T09:38:43.468Z"
   },
   {
    "duration": 4254,
    "start_time": "2023-02-08T09:38:43.486Z"
   },
   {
    "duration": 13,
    "start_time": "2023-02-08T09:38:47.743Z"
   },
   {
    "duration": 33,
    "start_time": "2023-02-08T09:38:47.758Z"
   },
   {
    "duration": 167,
    "start_time": "2023-02-08T09:38:47.793Z"
   },
   {
    "duration": 3819,
    "start_time": "2023-02-08T09:38:47.963Z"
   },
   {
    "duration": 4049,
    "start_time": "2023-02-08T09:39:12.271Z"
   },
   {
    "duration": 39,
    "start_time": "2023-02-08T09:40:11.010Z"
   },
   {
    "duration": 33,
    "start_time": "2023-02-08T09:41:47.250Z"
   },
   {
    "duration": 43,
    "start_time": "2023-02-08T09:41:52.540Z"
   },
   {
    "duration": 354,
    "start_time": "2023-02-08T09:42:32.063Z"
   },
   {
    "duration": 36,
    "start_time": "2023-02-08T09:42:38.329Z"
   },
   {
    "duration": 36,
    "start_time": "2023-02-08T09:42:42.579Z"
   },
   {
    "duration": 3,
    "start_time": "2023-02-08T09:43:09.934Z"
   },
   {
    "duration": 1954,
    "start_time": "2023-02-08T09:43:09.939Z"
   },
   {
    "duration": 2008,
    "start_time": "2023-02-08T09:43:11.895Z"
   },
   {
    "duration": 5,
    "start_time": "2023-02-08T09:43:13.906Z"
   },
   {
    "duration": 12,
    "start_time": "2023-02-08T09:43:13.912Z"
   },
   {
    "duration": 39,
    "start_time": "2023-02-08T09:43:13.926Z"
   },
   {
    "duration": 322,
    "start_time": "2023-02-08T09:43:13.967Z"
   },
   {
    "duration": 35,
    "start_time": "2023-02-08T09:43:14.290Z"
   },
   {
    "duration": 11,
    "start_time": "2023-02-08T09:43:14.327Z"
   },
   {
    "duration": 5,
    "start_time": "2023-02-08T09:43:14.340Z"
   },
   {
    "duration": 9,
    "start_time": "2023-02-08T09:43:14.347Z"
   },
   {
    "duration": 14,
    "start_time": "2023-02-08T09:43:14.357Z"
   },
   {
    "duration": 7,
    "start_time": "2023-02-08T09:43:14.382Z"
   },
   {
    "duration": 3906,
    "start_time": "2023-02-08T09:43:14.391Z"
   },
   {
    "duration": 11,
    "start_time": "2023-02-08T09:43:18.299Z"
   },
   {
    "duration": 18,
    "start_time": "2023-02-08T09:43:18.311Z"
   },
   {
    "duration": 139,
    "start_time": "2023-02-08T09:43:18.331Z"
   },
   {
    "duration": 3930,
    "start_time": "2023-02-08T09:43:18.471Z"
   },
   {
    "duration": 1080,
    "start_time": "2023-02-08T09:43:59.668Z"
   },
   {
    "duration": 4146,
    "start_time": "2023-02-08T09:47:49.150Z"
   },
   {
    "duration": 457,
    "start_time": "2023-02-08T10:02:52.715Z"
   },
   {
    "duration": 4265,
    "start_time": "2023-02-08T10:04:12.085Z"
   },
   {
    "duration": 4145,
    "start_time": "2023-02-08T10:04:52.108Z"
   },
   {
    "duration": 4006,
    "start_time": "2023-02-08T10:05:21.929Z"
   },
   {
    "duration": 4145,
    "start_time": "2023-02-08T10:07:47.062Z"
   },
   {
    "duration": 4004,
    "start_time": "2023-02-08T10:19:49.603Z"
   },
   {
    "duration": 4095,
    "start_time": "2023-02-08T10:20:10.508Z"
   },
   {
    "duration": 3916,
    "start_time": "2023-02-08T10:40:42.315Z"
   },
   {
    "duration": 3928,
    "start_time": "2023-02-08T10:40:57.310Z"
   },
   {
    "duration": 3,
    "start_time": "2023-02-08T10:47:23.684Z"
   },
   {
    "duration": 2041,
    "start_time": "2023-02-08T10:47:23.690Z"
   },
   {
    "duration": 2117,
    "start_time": "2023-02-08T10:47:25.734Z"
   },
   {
    "duration": 4,
    "start_time": "2023-02-08T10:47:27.853Z"
   },
   {
    "duration": 29,
    "start_time": "2023-02-08T10:47:27.859Z"
   },
   {
    "duration": 64,
    "start_time": "2023-02-08T10:47:27.890Z"
   },
   {
    "duration": 440,
    "start_time": "2023-02-08T10:47:27.956Z"
   },
   {
    "duration": 1141,
    "start_time": "2023-02-08T10:47:28.398Z"
   },
   {
    "duration": 0,
    "start_time": "2023-02-08T10:47:29.541Z"
   },
   {
    "duration": 0,
    "start_time": "2023-02-08T10:47:29.542Z"
   },
   {
    "duration": 0,
    "start_time": "2023-02-08T10:47:29.544Z"
   },
   {
    "duration": 0,
    "start_time": "2023-02-08T10:47:29.546Z"
   },
   {
    "duration": 1211,
    "start_time": "2023-02-08T10:56:38.289Z"
   },
   {
    "duration": 33,
    "start_time": "2023-02-08T10:58:56.361Z"
   },
   {
    "duration": 1172,
    "start_time": "2023-02-08T11:02:49.164Z"
   },
   {
    "duration": 1203,
    "start_time": "2023-02-08T11:03:45.914Z"
   },
   {
    "duration": 1176,
    "start_time": "2023-02-08T11:04:53.007Z"
   },
   {
    "duration": 3,
    "start_time": "2023-02-08T12:38:51.407Z"
   },
   {
    "duration": 3266,
    "start_time": "2023-02-08T12:38:51.926Z"
   },
   {
    "duration": 5156,
    "start_time": "2023-02-08T12:38:55.194Z"
   },
   {
    "duration": 1353,
    "start_time": "2023-02-08T12:39:00.352Z"
   },
   {
    "duration": 3,
    "start_time": "2023-02-08T12:39:01.707Z"
   },
   {
    "duration": 91,
    "start_time": "2023-02-08T12:39:01.711Z"
   },
   {
    "duration": 133,
    "start_time": "2023-02-08T12:39:56.233Z"
   },
   {
    "duration": 69,
    "start_time": "2023-02-08T12:40:05.158Z"
   },
   {
    "duration": 40,
    "start_time": "2023-02-08T12:40:25.968Z"
   },
   {
    "duration": 34,
    "start_time": "2023-02-08T12:41:02.816Z"
   },
   {
    "duration": 22,
    "start_time": "2023-02-08T12:42:23.435Z"
   },
   {
    "duration": 14,
    "start_time": "2023-02-08T12:43:10.728Z"
   },
   {
    "duration": 11,
    "start_time": "2023-02-08T12:43:19.559Z"
   },
   {
    "duration": 2,
    "start_time": "2023-02-08T12:43:40.889Z"
   },
   {
    "duration": 1907,
    "start_time": "2023-02-08T12:43:40.894Z"
   },
   {
    "duration": 1889,
    "start_time": "2023-02-08T12:43:42.803Z"
   },
   {
    "duration": 6,
    "start_time": "2023-02-08T12:43:44.694Z"
   },
   {
    "duration": 11,
    "start_time": "2023-02-08T12:43:44.702Z"
   },
   {
    "duration": 49,
    "start_time": "2023-02-08T12:43:44.715Z"
   },
   {
    "duration": 14,
    "start_time": "2023-02-08T12:43:44.766Z"
   },
   {
    "duration": 34,
    "start_time": "2023-02-08T12:43:44.781Z"
   },
   {
    "duration": 5,
    "start_time": "2023-02-08T12:44:00.812Z"
   },
   {
    "duration": 7,
    "start_time": "2023-02-08T12:44:05.958Z"
   },
   {
    "duration": 70,
    "start_time": "2023-02-08T12:46:21.063Z"
   },
   {
    "duration": 7,
    "start_time": "2023-02-08T12:46:24.933Z"
   },
   {
    "duration": 13,
    "start_time": "2023-02-08T12:46:35.387Z"
   },
   {
    "duration": 3,
    "start_time": "2023-02-08T12:46:49.758Z"
   },
   {
    "duration": 1831,
    "start_time": "2023-02-08T12:46:49.763Z"
   },
   {
    "duration": 2816,
    "start_time": "2023-02-08T12:46:51.595Z"
   },
   {
    "duration": 4,
    "start_time": "2023-02-08T12:46:54.413Z"
   },
   {
    "duration": 8,
    "start_time": "2023-02-08T12:46:54.419Z"
   },
   {
    "duration": 42,
    "start_time": "2023-02-08T12:46:54.428Z"
   },
   {
    "duration": 10,
    "start_time": "2023-02-08T12:46:54.472Z"
   },
   {
    "duration": 13,
    "start_time": "2023-02-08T12:46:54.484Z"
   },
   {
    "duration": 6,
    "start_time": "2023-02-08T12:47:07.525Z"
   },
   {
    "duration": 18,
    "start_time": "2023-02-08T12:52:53.204Z"
   },
   {
    "duration": 38,
    "start_time": "2023-02-08T12:53:02.404Z"
   },
   {
    "duration": 25,
    "start_time": "2023-02-08T12:53:09.836Z"
   },
   {
    "duration": 29,
    "start_time": "2023-02-08T12:55:43.364Z"
   },
   {
    "duration": 8,
    "start_time": "2023-02-08T12:55:47.118Z"
   },
   {
    "duration": 9,
    "start_time": "2023-02-08T12:59:20.657Z"
   },
   {
    "duration": 10,
    "start_time": "2023-02-08T13:00:27.275Z"
   },
   {
    "duration": 9,
    "start_time": "2023-02-08T13:01:20.515Z"
   },
   {
    "duration": 9,
    "start_time": "2023-02-08T13:01:34.072Z"
   },
   {
    "duration": 27,
    "start_time": "2023-02-08T13:02:07.744Z"
   },
   {
    "duration": 9,
    "start_time": "2023-02-08T13:02:28.577Z"
   },
   {
    "duration": 7,
    "start_time": "2023-02-08T13:04:47.649Z"
   },
   {
    "duration": 10,
    "start_time": "2023-02-08T13:05:41.569Z"
   },
   {
    "duration": 18,
    "start_time": "2023-02-08T13:17:53.662Z"
   },
   {
    "duration": 2,
    "start_time": "2023-02-08T13:41:58.457Z"
   },
   {
    "duration": 1956,
    "start_time": "2023-02-08T13:41:58.460Z"
   },
   {
    "duration": 1972,
    "start_time": "2023-02-08T13:42:00.418Z"
   },
   {
    "duration": 3,
    "start_time": "2023-02-08T13:42:02.392Z"
   },
   {
    "duration": 6,
    "start_time": "2023-02-08T13:42:02.397Z"
   },
   {
    "duration": 63,
    "start_time": "2023-02-08T13:42:02.404Z"
   },
   {
    "duration": 10,
    "start_time": "2023-02-08T13:42:02.469Z"
   },
   {
    "duration": 9,
    "start_time": "2023-02-08T13:42:02.480Z"
   },
   {
    "duration": 11,
    "start_time": "2023-02-08T13:46:07.216Z"
   },
   {
    "duration": 12,
    "start_time": "2023-02-08T13:57:03.744Z"
   },
   {
    "duration": 7,
    "start_time": "2023-02-08T14:05:15.132Z"
   },
   {
    "duration": 13,
    "start_time": "2023-02-08T14:05:37.418Z"
   },
   {
    "duration": 2,
    "start_time": "2023-02-08T14:44:14.452Z"
   },
   {
    "duration": 575,
    "start_time": "2023-02-08T14:44:15.086Z"
   },
   {
    "duration": 551,
    "start_time": "2023-02-08T14:46:05.470Z"
   },
   {
    "duration": 511,
    "start_time": "2023-02-08T14:46:22.856Z"
   },
   {
    "duration": 528,
    "start_time": "2023-02-08T14:48:08.694Z"
   },
   {
    "duration": 3,
    "start_time": "2023-02-08T19:15:05.429Z"
   },
   {
    "duration": 4929,
    "start_time": "2023-02-08T19:15:05.438Z"
   },
   {
    "duration": 7104,
    "start_time": "2023-02-08T19:15:10.369Z"
   },
   {
    "duration": 440,
    "start_time": "2023-02-08T19:15:17.480Z"
   },
   {
    "duration": 3,
    "start_time": "2023-02-08T19:15:17.924Z"
   },
   {
    "duration": 140,
    "start_time": "2023-02-08T19:15:17.930Z"
   },
   {
    "duration": 3,
    "start_time": "2023-02-08T19:15:44.978Z"
   },
   {
    "duration": 22,
    "start_time": "2023-02-08T19:15:47.491Z"
   },
   {
    "duration": 4,
    "start_time": "2023-02-08T19:15:55.785Z"
   },
   {
    "duration": 965,
    "start_time": "2023-02-08T19:15:58.634Z"
   },
   {
    "duration": 860,
    "start_time": "2023-02-08T19:18:20.853Z"
   },
   {
    "duration": 42,
    "start_time": "2023-02-08T19:18:26.591Z"
   },
   {
    "duration": 795,
    "start_time": "2023-02-08T19:18:59.941Z"
   },
   {
    "duration": 30,
    "start_time": "2023-02-08T19:19:01.839Z"
   },
   {
    "duration": 1540,
    "start_time": "2023-02-08T19:19:54.806Z"
   },
   {
    "duration": 803,
    "start_time": "2023-02-08T19:21:28.711Z"
   },
   {
    "duration": 763,
    "start_time": "2023-02-08T19:22:31.121Z"
   },
   {
    "duration": 493,
    "start_time": "2023-02-08T19:22:37.530Z"
   },
   {
    "duration": 99,
    "start_time": "2023-02-08T19:22:49.952Z"
   },
   {
    "duration": 5809,
    "start_time": "2023-02-08T19:22:52.018Z"
   },
   {
    "duration": 6047,
    "start_time": "2023-02-08T19:23:58.987Z"
   },
   {
    "duration": 6569,
    "start_time": "2023-02-08T19:24:14.538Z"
   },
   {
    "duration": 6945,
    "start_time": "2023-02-08T19:25:30.629Z"
   },
   {
    "duration": 6636,
    "start_time": "2023-02-08T19:25:40.148Z"
   },
   {
    "duration": 6326,
    "start_time": "2023-02-08T19:26:00.912Z"
   },
   {
    "duration": 3,
    "start_time": "2023-02-08T19:26:12.407Z"
   },
   {
    "duration": 3115,
    "start_time": "2023-02-08T19:26:12.412Z"
   },
   {
    "duration": 3210,
    "start_time": "2023-02-08T19:26:15.531Z"
   },
   {
    "duration": 5,
    "start_time": "2023-02-08T19:26:18.745Z"
   },
   {
    "duration": 57,
    "start_time": "2023-02-08T19:26:18.752Z"
   },
   {
    "duration": 838,
    "start_time": "2023-02-08T19:26:18.811Z"
   },
   {
    "duration": 6647,
    "start_time": "2023-02-08T19:26:19.652Z"
   },
   {
    "duration": 6864,
    "start_time": "2023-02-08T19:27:13.545Z"
   },
   {
    "duration": 7027,
    "start_time": "2023-02-08T19:28:09.586Z"
   },
   {
    "duration": 5561,
    "start_time": "2023-02-08T19:28:39.930Z"
   },
   {
    "duration": 638,
    "start_time": "2023-02-08T19:33:35.796Z"
   },
   {
    "duration": 1595,
    "start_time": "2023-02-08T19:34:25.925Z"
   },
   {
    "duration": 1330,
    "start_time": "2023-02-08T19:34:55.710Z"
   },
   {
    "duration": 3034,
    "start_time": "2023-02-08T19:35:09.999Z"
   },
   {
    "duration": 1310,
    "start_time": "2023-02-08T19:36:08.709Z"
   },
   {
    "duration": 35,
    "start_time": "2023-02-08T19:37:19.271Z"
   },
   {
    "duration": 191,
    "start_time": "2023-02-08T19:37:40.178Z"
   },
   {
    "duration": 12,
    "start_time": "2023-02-08T19:41:45.870Z"
   },
   {
    "duration": 1671,
    "start_time": "2023-02-08T19:42:02.813Z"
   },
   {
    "duration": 89,
    "start_time": "2023-02-08T19:42:08.429Z"
   },
   {
    "duration": 45,
    "start_time": "2023-02-08T19:42:19.245Z"
   },
   {
    "duration": 59,
    "start_time": "2023-02-08T19:43:11.938Z"
   },
   {
    "duration": 20,
    "start_time": "2023-02-08T19:44:42.441Z"
   },
   {
    "duration": 36,
    "start_time": "2023-02-08T19:45:52.468Z"
   },
   {
    "duration": 3,
    "start_time": "2023-02-08T19:46:02.898Z"
   },
   {
    "duration": 2752,
    "start_time": "2023-02-08T19:46:02.903Z"
   },
   {
    "duration": 2558,
    "start_time": "2023-02-08T19:46:05.657Z"
   },
   {
    "duration": 4,
    "start_time": "2023-02-08T19:46:08.217Z"
   },
   {
    "duration": 20,
    "start_time": "2023-02-08T19:46:08.223Z"
   },
   {
    "duration": 932,
    "start_time": "2023-02-08T19:46:08.245Z"
   },
   {
    "duration": 4970,
    "start_time": "2023-02-08T19:46:09.179Z"
   },
   {
    "duration": 169,
    "start_time": "2023-02-08T19:46:14.153Z"
   },
   {
    "duration": 51,
    "start_time": "2023-02-08T19:46:14.324Z"
   },
   {
    "duration": 45,
    "start_time": "2023-02-08T19:47:01.356Z"
   },
   {
    "duration": 20,
    "start_time": "2023-02-08T19:47:28.182Z"
   },
   {
    "duration": 27,
    "start_time": "2023-02-08T19:48:26.682Z"
   },
   {
    "duration": 31,
    "start_time": "2023-02-08T19:48:41.088Z"
   },
   {
    "duration": 25,
    "start_time": "2023-02-08T19:48:48.165Z"
   },
   {
    "duration": 15,
    "start_time": "2023-02-08T19:48:57.324Z"
   },
   {
    "duration": 173,
    "start_time": "2023-02-08T19:49:00.030Z"
   },
   {
    "duration": 6,
    "start_time": "2023-02-08T19:49:12.125Z"
   },
   {
    "duration": 4502,
    "start_time": "2023-02-08T19:49:14.724Z"
   },
   {
    "duration": 6340,
    "start_time": "2023-02-08T19:50:36.729Z"
   },
   {
    "duration": 44372,
    "start_time": "2023-02-08T19:51:59.499Z"
   },
   {
    "duration": 195,
    "start_time": "2023-02-08T19:53:46.931Z"
   },
   {
    "duration": 146,
    "start_time": "2023-02-08T19:53:59.030Z"
   },
   {
    "duration": 31232,
    "start_time": "2023-02-08T19:59:13.488Z"
   },
   {
    "duration": 29112,
    "start_time": "2023-02-08T19:59:59.073Z"
   },
   {
    "duration": 5652,
    "start_time": "2023-02-08T20:10:39.138Z"
   },
   {
    "duration": 5447,
    "start_time": "2023-02-08T20:11:16.734Z"
   },
   {
    "duration": 5127,
    "start_time": "2023-02-08T20:12:55.743Z"
   },
   {
    "duration": 13739,
    "start_time": "2023-02-08T20:14:30.771Z"
   },
   {
    "duration": 28569,
    "start_time": "2023-02-08T20:14:51.770Z"
   },
   {
    "duration": 4567,
    "start_time": "2023-02-08T20:16:44.865Z"
   },
   {
    "duration": 210,
    "start_time": "2023-02-08T20:17:15.513Z"
   },
   {
    "duration": 1575,
    "start_time": "2023-02-08T20:18:57.733Z"
   },
   {
    "duration": 32830,
    "start_time": "2023-02-08T20:19:45.449Z"
   },
   {
    "duration": 29859,
    "start_time": "2023-02-08T20:21:20.570Z"
   },
   {
    "duration": 32095,
    "start_time": "2023-02-08T20:22:03.631Z"
   },
   {
    "duration": 28866,
    "start_time": "2023-02-08T20:25:12.841Z"
   },
   {
    "duration": 84,
    "start_time": "2023-02-08T20:25:58.997Z"
   },
   {
    "duration": 29460,
    "start_time": "2023-02-08T20:26:24.663Z"
   },
   {
    "duration": 3,
    "start_time": "2023-02-08T21:08:05.778Z"
   },
   {
    "duration": 2414,
    "start_time": "2023-02-08T21:08:05.783Z"
   },
   {
    "duration": 2803,
    "start_time": "2023-02-08T21:08:08.199Z"
   },
   {
    "duration": 5,
    "start_time": "2023-02-08T21:08:11.005Z"
   },
   {
    "duration": 46,
    "start_time": "2023-02-08T21:08:11.012Z"
   },
   {
    "duration": 1546,
    "start_time": "2023-02-08T21:08:11.059Z"
   },
   {
    "duration": 4843,
    "start_time": "2023-02-08T21:08:12.607Z"
   },
   {
    "duration": 158,
    "start_time": "2023-02-08T21:08:17.454Z"
   },
   {
    "duration": 17,
    "start_time": "2023-02-08T21:08:17.614Z"
   },
   {
    "duration": 36100,
    "start_time": "2023-02-08T21:08:17.634Z"
   },
   {
    "duration": 24,
    "start_time": "2023-02-08T21:09:29.666Z"
   },
   {
    "duration": 16,
    "start_time": "2023-02-08T21:10:01.687Z"
   },
   {
    "duration": 3,
    "start_time": "2023-02-08T21:11:48.706Z"
   },
   {
    "duration": 2278,
    "start_time": "2023-02-08T21:11:48.714Z"
   },
   {
    "duration": 2364,
    "start_time": "2023-02-08T21:11:50.995Z"
   },
   {
    "duration": 7,
    "start_time": "2023-02-08T21:11:53.361Z"
   },
   {
    "duration": 78,
    "start_time": "2023-02-08T21:11:53.370Z"
   },
   {
    "duration": 637,
    "start_time": "2023-02-08T21:11:53.451Z"
   },
   {
    "duration": 4736,
    "start_time": "2023-02-08T21:11:54.092Z"
   },
   {
    "duration": 157,
    "start_time": "2023-02-08T21:11:58.829Z"
   },
   {
    "duration": 15,
    "start_time": "2023-02-08T21:11:58.988Z"
   },
   {
    "duration": 25079,
    "start_time": "2023-02-08T21:11:59.005Z"
   },
   {
    "duration": 94,
    "start_time": "2023-02-08T21:14:13.252Z"
   },
   {
    "duration": 26388,
    "start_time": "2023-02-08T21:14:40.597Z"
   },
   {
    "duration": 6,
    "start_time": "2023-02-08T21:16:38.465Z"
   },
   {
    "duration": 2354,
    "start_time": "2023-02-08T21:16:38.474Z"
   },
   {
    "duration": 2337,
    "start_time": "2023-02-08T21:16:40.830Z"
   },
   {
    "duration": 4,
    "start_time": "2023-02-08T21:16:43.170Z"
   },
   {
    "duration": 15,
    "start_time": "2023-02-08T21:16:43.176Z"
   },
   {
    "duration": 672,
    "start_time": "2023-02-08T21:16:43.193Z"
   },
   {
    "duration": 4609,
    "start_time": "2023-02-08T21:16:43.868Z"
   },
   {
    "duration": 162,
    "start_time": "2023-02-08T21:16:48.480Z"
   },
   {
    "duration": 27,
    "start_time": "2023-02-08T21:16:48.644Z"
   },
   {
    "duration": 25618,
    "start_time": "2023-02-08T21:16:48.673Z"
   },
   {
    "duration": 5,
    "start_time": "2023-02-08T21:17:30.667Z"
   },
   {
    "duration": 2311,
    "start_time": "2023-02-08T21:17:30.675Z"
   },
   {
    "duration": 2262,
    "start_time": "2023-02-08T21:17:32.988Z"
   },
   {
    "duration": 1403,
    "start_time": "2023-02-08T21:17:35.253Z"
   },
   {
    "duration": 4,
    "start_time": "2023-02-08T21:17:36.658Z"
   },
   {
    "duration": 739,
    "start_time": "2023-02-08T21:17:36.664Z"
   },
   {
    "duration": 4762,
    "start_time": "2023-02-08T21:17:37.405Z"
   },
   {
    "duration": 343,
    "start_time": "2023-02-08T21:17:42.168Z"
   },
   {
    "duration": 15,
    "start_time": "2023-02-08T21:17:42.513Z"
   },
   {
    "duration": 26738,
    "start_time": "2023-02-08T21:17:42.531Z"
   },
   {
    "duration": 0,
    "start_time": "2023-02-08T21:18:09.273Z"
   },
   {
    "duration": 0,
    "start_time": "2023-02-08T21:18:09.275Z"
   },
   {
    "duration": 0,
    "start_time": "2023-02-08T21:18:09.276Z"
   },
   {
    "duration": 0,
    "start_time": "2023-02-08T21:18:09.277Z"
   },
   {
    "duration": 0,
    "start_time": "2023-02-08T21:18:09.279Z"
   },
   {
    "duration": 0,
    "start_time": "2023-02-08T21:18:09.280Z"
   },
   {
    "duration": 0,
    "start_time": "2023-02-08T21:18:09.282Z"
   },
   {
    "duration": 0,
    "start_time": "2023-02-08T21:18:09.283Z"
   },
   {
    "duration": 0,
    "start_time": "2023-02-08T21:18:09.284Z"
   },
   {
    "duration": 0,
    "start_time": "2023-02-08T21:18:09.285Z"
   },
   {
    "duration": 0,
    "start_time": "2023-02-08T21:18:09.286Z"
   },
   {
    "duration": 0,
    "start_time": "2023-02-08T21:18:09.287Z"
   },
   {
    "duration": 0,
    "start_time": "2023-02-08T21:18:09.289Z"
   },
   {
    "duration": 0,
    "start_time": "2023-02-08T21:18:09.289Z"
   },
   {
    "duration": 0,
    "start_time": "2023-02-08T21:18:09.290Z"
   },
   {
    "duration": 0,
    "start_time": "2023-02-08T21:18:09.291Z"
   },
   {
    "duration": 25881,
    "start_time": "2023-02-08T21:21:25.922Z"
   },
   {
    "duration": 25927,
    "start_time": "2023-02-08T21:22:16.515Z"
   },
   {
    "duration": 25757,
    "start_time": "2023-02-08T21:23:16.732Z"
   },
   {
    "duration": 149,
    "start_time": "2023-02-08T21:24:13.871Z"
   },
   {
    "duration": 190,
    "start_time": "2023-02-08T21:24:20.987Z"
   },
   {
    "duration": 124,
    "start_time": "2023-02-08T21:25:24.776Z"
   },
   {
    "duration": 25601,
    "start_time": "2023-02-08T21:25:53.983Z"
   },
   {
    "duration": 25143,
    "start_time": "2023-02-08T21:30:49.781Z"
   },
   {
    "duration": 26339,
    "start_time": "2023-02-08T21:31:28.893Z"
   },
   {
    "duration": 25165,
    "start_time": "2023-02-08T21:33:36.665Z"
   },
   {
    "duration": 26031,
    "start_time": "2023-02-08T21:37:47.486Z"
   },
   {
    "duration": 31990,
    "start_time": "2023-02-08T21:38:50.206Z"
   },
   {
    "duration": 33990,
    "start_time": "2023-02-08T21:39:44.631Z"
   },
   {
    "duration": 3,
    "start_time": "2023-02-08T21:40:42.692Z"
   },
   {
    "duration": 2472,
    "start_time": "2023-02-08T21:40:42.697Z"
   },
   {
    "duration": 2519,
    "start_time": "2023-02-08T21:40:45.175Z"
   },
   {
    "duration": 4,
    "start_time": "2023-02-08T21:40:47.697Z"
   },
   {
    "duration": 24,
    "start_time": "2023-02-08T21:40:47.703Z"
   },
   {
    "duration": 743,
    "start_time": "2023-02-08T21:40:47.729Z"
   },
   {
    "duration": 5038,
    "start_time": "2023-02-08T21:40:48.473Z"
   },
   {
    "duration": 159,
    "start_time": "2023-02-08T21:40:53.513Z"
   },
   {
    "duration": 20,
    "start_time": "2023-02-08T21:40:53.677Z"
   },
   {
    "duration": 22235,
    "start_time": "2023-02-08T21:40:53.699Z"
   },
   {
    "duration": 7248,
    "start_time": "2023-02-08T21:41:15.935Z"
   },
   {
    "duration": 3,
    "start_time": "2023-02-08T21:43:01.046Z"
   },
   {
    "duration": 2550,
    "start_time": "2023-02-08T21:43:01.051Z"
   },
   {
    "duration": 2583,
    "start_time": "2023-02-08T21:43:03.603Z"
   },
   {
    "duration": 5,
    "start_time": "2023-02-08T21:43:06.191Z"
   },
   {
    "duration": 7,
    "start_time": "2023-02-08T21:43:06.198Z"
   },
   {
    "duration": 603,
    "start_time": "2023-02-08T21:43:06.207Z"
   },
   {
    "duration": 4538,
    "start_time": "2023-02-08T21:43:06.811Z"
   },
   {
    "duration": 160,
    "start_time": "2023-02-08T21:43:11.350Z"
   },
   {
    "duration": 15,
    "start_time": "2023-02-08T21:43:11.512Z"
   },
   {
    "duration": 21418,
    "start_time": "2023-02-08T21:43:11.529Z"
   },
   {
    "duration": 7468,
    "start_time": "2023-02-08T21:43:32.949Z"
   },
   {
    "duration": 26103,
    "start_time": "2023-02-08T21:49:34.203Z"
   },
   {
    "duration": 79,
    "start_time": "2023-02-08T21:55:45.396Z"
   },
   {
    "duration": 34615,
    "start_time": "2023-02-08T21:56:07.001Z"
   },
   {
    "duration": 8,
    "start_time": "2023-02-08T21:57:28.590Z"
   },
   {
    "duration": 2699,
    "start_time": "2023-02-08T21:57:28.603Z"
   },
   {
    "duration": 2628,
    "start_time": "2023-02-08T21:57:31.304Z"
   },
   {
    "duration": 4,
    "start_time": "2023-02-08T21:57:33.935Z"
   },
   {
    "duration": 15,
    "start_time": "2023-02-08T21:57:33.941Z"
   },
   {
    "duration": 830,
    "start_time": "2023-02-08T21:57:33.958Z"
   },
   {
    "duration": 5907,
    "start_time": "2023-02-08T21:57:34.792Z"
   },
   {
    "duration": 167,
    "start_time": "2023-02-08T21:57:40.707Z"
   },
   {
    "duration": 17,
    "start_time": "2023-02-08T21:57:40.875Z"
   },
   {
    "duration": 6202,
    "start_time": "2023-02-08T22:00:22.894Z"
   },
   {
    "duration": 160,
    "start_time": "2023-02-08T22:00:29.104Z"
   },
   {
    "duration": 25,
    "start_time": "2023-02-08T22:00:29.269Z"
   },
   {
    "duration": 38717,
    "start_time": "2023-02-08T22:01:26.121Z"
   },
   {
    "duration": 36508,
    "start_time": "2023-02-08T22:02:22.935Z"
   },
   {
    "duration": 1564,
    "start_time": "2023-02-08T22:02:59.445Z"
   },
   {
    "duration": 1545,
    "start_time": "2023-02-08T22:06:10.311Z"
   },
   {
    "duration": 85,
    "start_time": "2023-02-08T22:08:02.754Z"
   },
   {
    "duration": 29,
    "start_time": "2023-02-08T22:10:41.433Z"
   },
   {
    "duration": 26,
    "start_time": "2023-02-08T22:10:55.980Z"
   },
   {
    "duration": 11,
    "start_time": "2023-02-08T22:11:26.538Z"
   },
   {
    "duration": 28,
    "start_time": "2023-02-08T22:11:56.834Z"
   },
   {
    "duration": 4,
    "start_time": "2023-02-08T22:12:07.124Z"
   },
   {
    "duration": 3237,
    "start_time": "2023-02-08T22:12:07.130Z"
   },
   {
    "duration": 2709,
    "start_time": "2023-02-08T22:12:10.368Z"
   },
   {
    "duration": 1403,
    "start_time": "2023-02-08T22:12:13.081Z"
   },
   {
    "duration": 7,
    "start_time": "2023-02-08T22:12:14.488Z"
   },
   {
    "duration": 787,
    "start_time": "2023-02-08T22:12:14.496Z"
   },
   {
    "duration": 5187,
    "start_time": "2023-02-08T22:12:15.285Z"
   },
   {
    "duration": 351,
    "start_time": "2023-02-08T22:12:20.473Z"
   },
   {
    "duration": 37,
    "start_time": "2023-02-08T22:12:20.826Z"
   },
   {
    "duration": 44289,
    "start_time": "2023-02-08T22:12:20.873Z"
   },
   {
    "duration": 1307,
    "start_time": "2023-02-08T22:13:05.164Z"
   },
   {
    "duration": 20,
    "start_time": "2023-02-08T22:13:06.473Z"
   },
   {
    "duration": 27,
    "start_time": "2023-02-08T22:13:06.495Z"
   },
   {
    "duration": 26,
    "start_time": "2023-02-08T22:13:06.524Z"
   },
   {
    "duration": 53,
    "start_time": "2023-02-08T22:13:06.552Z"
   },
   {
    "duration": 21,
    "start_time": "2023-02-08T22:13:06.607Z"
   },
   {
    "duration": 17,
    "start_time": "2023-02-08T22:13:06.630Z"
   },
   {
    "duration": 1563,
    "start_time": "2023-02-08T22:13:06.648Z"
   },
   {
    "duration": 0,
    "start_time": "2023-02-08T22:13:08.213Z"
   },
   {
    "duration": 0,
    "start_time": "2023-02-08T22:13:08.214Z"
   },
   {
    "duration": 0,
    "start_time": "2023-02-08T22:13:08.215Z"
   },
   {
    "duration": 0,
    "start_time": "2023-02-08T22:13:08.216Z"
   },
   {
    "duration": 0,
    "start_time": "2023-02-08T22:13:08.218Z"
   },
   {
    "duration": 0,
    "start_time": "2023-02-08T22:13:08.219Z"
   },
   {
    "duration": 0,
    "start_time": "2023-02-08T22:13:08.220Z"
   },
   {
    "duration": 0,
    "start_time": "2023-02-08T22:13:08.221Z"
   },
   {
    "duration": 0,
    "start_time": "2023-02-08T22:13:08.223Z"
   },
   {
    "duration": 5,
    "start_time": "2023-02-08T22:16:14.769Z"
   },
   {
    "duration": 2435,
    "start_time": "2023-02-08T22:16:14.775Z"
   },
   {
    "duration": 2361,
    "start_time": "2023-02-08T22:16:17.213Z"
   },
   {
    "duration": 1382,
    "start_time": "2023-02-08T22:16:19.578Z"
   },
   {
    "duration": 13,
    "start_time": "2023-02-08T22:16:20.966Z"
   },
   {
    "duration": 654,
    "start_time": "2023-02-08T22:16:20.984Z"
   },
   {
    "duration": 4737,
    "start_time": "2023-02-08T22:16:21.640Z"
   },
   {
    "duration": 381,
    "start_time": "2023-02-08T22:16:26.378Z"
   },
   {
    "duration": 97,
    "start_time": "2023-02-08T22:16:26.767Z"
   },
   {
    "duration": 33267,
    "start_time": "2023-02-08T22:16:26.866Z"
   },
   {
    "duration": 1302,
    "start_time": "2023-02-08T22:17:00.135Z"
   },
   {
    "duration": 33,
    "start_time": "2023-02-08T22:17:01.439Z"
   },
   {
    "duration": 144,
    "start_time": "2023-02-08T22:17:01.474Z"
   },
   {
    "duration": 25,
    "start_time": "2023-02-08T22:17:01.619Z"
   },
   {
    "duration": 1602,
    "start_time": "2023-02-08T22:17:01.646Z"
   },
   {
    "duration": 0,
    "start_time": "2023-02-08T22:17:03.250Z"
   },
   {
    "duration": 0,
    "start_time": "2023-02-08T22:17:03.251Z"
   },
   {
    "duration": 0,
    "start_time": "2023-02-08T22:17:03.252Z"
   },
   {
    "duration": 0,
    "start_time": "2023-02-08T22:17:03.256Z"
   },
   {
    "duration": 0,
    "start_time": "2023-02-08T22:17:03.257Z"
   },
   {
    "duration": 0,
    "start_time": "2023-02-08T22:17:03.258Z"
   },
   {
    "duration": 0,
    "start_time": "2023-02-08T22:17:03.261Z"
   },
   {
    "duration": 0,
    "start_time": "2023-02-08T22:17:03.261Z"
   },
   {
    "duration": 0,
    "start_time": "2023-02-08T22:17:03.266Z"
   },
   {
    "duration": 9,
    "start_time": "2023-02-08T22:17:44.630Z"
   },
   {
    "duration": 13,
    "start_time": "2023-02-08T22:18:05.646Z"
   },
   {
    "duration": 1186,
    "start_time": "2023-02-08T22:18:43.870Z"
   },
   {
    "duration": 10,
    "start_time": "2023-02-08T22:19:52.081Z"
   },
   {
    "duration": 9,
    "start_time": "2023-02-08T22:19:53.550Z"
   },
   {
    "duration": 2053,
    "start_time": "2023-02-08T22:19:55.128Z"
   },
   {
    "duration": 6070,
    "start_time": "2023-02-08T22:20:34.764Z"
   },
   {
    "duration": 10,
    "start_time": "2023-02-08T22:21:06.191Z"
   },
   {
    "duration": 436,
    "start_time": "2023-02-08T22:22:02.767Z"
   },
   {
    "duration": 2610,
    "start_time": "2023-02-08T22:22:30.260Z"
   },
   {
    "duration": 50664,
    "start_time": "2023-02-08T22:22:40.402Z"
   },
   {
    "duration": 2390,
    "start_time": "2023-02-08T22:23:36.368Z"
   },
   {
    "duration": 1305303,
    "start_time": "2023-02-08T22:24:10.762Z"
   },
   {
    "duration": 8,
    "start_time": "2023-02-09T07:00:08.231Z"
   },
   {
    "duration": 5269,
    "start_time": "2023-02-09T07:00:08.241Z"
   },
   {
    "duration": 8316,
    "start_time": "2023-02-09T07:00:13.512Z"
   },
   {
    "duration": 1633,
    "start_time": "2023-02-09T07:00:21.831Z"
   },
   {
    "duration": 3,
    "start_time": "2023-02-09T07:00:23.466Z"
   },
   {
    "duration": 1491,
    "start_time": "2023-02-09T07:00:23.471Z"
   },
   {
    "duration": 7337,
    "start_time": "2023-02-09T07:00:24.965Z"
   },
   {
    "duration": 774,
    "start_time": "2023-02-09T07:00:32.303Z"
   },
   {
    "duration": 28,
    "start_time": "2023-02-09T07:00:33.079Z"
   },
   {
    "duration": 56369,
    "start_time": "2023-02-09T07:00:33.110Z"
   },
   {
    "duration": 1420,
    "start_time": "2023-02-09T07:01:29.481Z"
   },
   {
    "duration": 25,
    "start_time": "2023-02-09T07:01:30.902Z"
   },
   {
    "duration": 78,
    "start_time": "2023-02-09T07:01:30.932Z"
   },
   {
    "duration": 70,
    "start_time": "2023-02-09T07:01:31.018Z"
   },
   {
    "duration": 76,
    "start_time": "2023-02-09T07:01:31.091Z"
   },
   {
    "duration": 23,
    "start_time": "2023-02-09T07:01:31.169Z"
   },
   {
    "duration": 2206,
    "start_time": "2023-02-09T07:01:31.199Z"
   },
   {
    "duration": 6999,
    "start_time": "2023-02-09T07:01:33.406Z"
   },
   {
    "duration": 2715,
    "start_time": "2023-02-09T07:01:40.408Z"
   },
   {
    "duration": 58774,
    "start_time": "2023-02-09T07:01:43.125Z"
   },
   {
    "duration": 5871186,
    "start_time": "2023-02-09T07:02:41.912Z"
   },
   {
    "duration": 44690,
    "start_time": "2023-02-09T08:40:33.100Z"
   },
   {
    "duration": 345403,
    "start_time": "2023-02-09T09:09:23.110Z"
   },
   {
    "duration": 71,
    "start_time": "2023-02-09T09:27:20.377Z"
   },
   {
    "duration": 1158742,
    "start_time": "2023-02-09T09:27:26.710Z"
   },
   {
    "duration": 63024,
    "start_time": "2023-02-09T09:56:54.686Z"
   },
   {
    "duration": 861,
    "start_time": "2023-02-09T09:59:04.260Z"
   },
   {
    "duration": 735912,
    "start_time": "2023-02-09T09:59:08.208Z"
   },
   {
    "duration": 7367704,
    "start_time": "2023-02-09T10:17:11.284Z"
   },
   {
    "duration": 141855,
    "start_time": "2023-02-09T13:05:35.940Z"
   },
   {
    "duration": 278598,
    "start_time": "2023-02-09T13:10:17.805Z"
   },
   {
    "duration": 450931,
    "start_time": "2023-02-09T13:16:55.908Z"
   },
   {
    "duration": 194219,
    "start_time": "2023-02-09T13:25:19.987Z"
   },
   {
    "duration": 348883,
    "start_time": "2023-02-09T13:29:31.745Z"
   },
   {
    "duration": 237088,
    "start_time": "2023-02-09T13:38:40.623Z"
   },
   {
    "duration": 108,
    "start_time": "2023-02-09T13:43:10.654Z"
   },
   {
    "duration": 224270,
    "start_time": "2023-02-09T13:43:19.548Z"
   },
   {
    "duration": 100425,
    "start_time": "2023-02-09T13:50:10.967Z"
   },
   {
    "duration": 7,
    "start_time": "2023-02-09T13:52:29.445Z"
   },
   {
    "duration": 971,
    "start_time": "2023-02-09T13:55:51.988Z"
   },
   {
    "duration": 315,
    "start_time": "2023-02-09T13:56:55.749Z"
   },
   {
    "duration": 314,
    "start_time": "2023-02-09T13:57:25.291Z"
   },
   {
    "duration": 48,
    "start_time": "2023-02-09T13:58:02.076Z"
   },
   {
    "duration": 40,
    "start_time": "2023-02-09T13:59:07.024Z"
   },
   {
    "duration": 44,
    "start_time": "2023-02-09T13:59:25.847Z"
   },
   {
    "duration": 12,
    "start_time": "2023-02-09T14:00:58.353Z"
   },
   {
    "duration": 8,
    "start_time": "2023-02-09T14:02:48.227Z"
   },
   {
    "duration": 21,
    "start_time": "2023-02-09T14:02:54.981Z"
   },
   {
    "duration": 108934,
    "start_time": "2023-02-09T14:03:04.348Z"
   },
   {
    "duration": 21,
    "start_time": "2023-02-09T14:04:53.285Z"
   },
   {
    "duration": 103642,
    "start_time": "2023-02-09T14:07:03.049Z"
   },
   {
    "duration": 214101,
    "start_time": "2023-02-09T14:16:27.305Z"
   },
   {
    "duration": 0,
    "start_time": "2023-02-09T14:26:27.874Z"
   },
   {
    "duration": 4390,
    "start_time": "2023-02-09T14:26:33.206Z"
   },
   {
    "duration": 7087,
    "start_time": "2023-02-09T14:27:28.111Z"
   },
   {
    "duration": 6076,
    "start_time": "2023-02-09T14:28:38.025Z"
   },
   {
    "duration": 41,
    "start_time": "2023-02-09T14:29:28.146Z"
   },
   {
    "duration": 5903,
    "start_time": "2023-02-09T14:29:39.101Z"
   },
   {
    "duration": 190111,
    "start_time": "2023-02-09T14:30:02.089Z"
   },
   {
    "duration": 4180,
    "start_time": "2023-02-09T14:38:42.094Z"
   },
   {
    "duration": 4434,
    "start_time": "2023-02-09T14:39:43.425Z"
   },
   {
    "duration": 10,
    "start_time": "2023-02-09T14:42:16.252Z"
   },
   {
    "duration": 1544,
    "start_time": "2023-02-09T14:42:49.118Z"
   },
   {
    "duration": 6254,
    "start_time": "2023-02-09T14:44:24.851Z"
   },
   {
    "duration": 105468,
    "start_time": "2023-02-09T14:44:57.387Z"
   },
   {
    "duration": 146,
    "start_time": "2023-02-09T14:47:34.254Z"
   },
   {
    "duration": 10865,
    "start_time": "2023-02-09T14:47:48.556Z"
   },
   {
    "duration": 19337,
    "start_time": "2023-02-09T14:48:37.874Z"
   },
   {
    "duration": 199451,
    "start_time": "2023-02-09T14:51:19.250Z"
   },
   {
    "duration": 4,
    "start_time": "2023-02-09T20:49:47.620Z"
   },
   {
    "duration": 3380,
    "start_time": "2023-02-09T20:49:47.626Z"
   },
   {
    "duration": 5198,
    "start_time": "2023-02-09T20:49:51.008Z"
   },
   {
    "duration": 1352,
    "start_time": "2023-02-09T20:49:56.209Z"
   },
   {
    "duration": 3,
    "start_time": "2023-02-09T20:49:57.563Z"
   },
   {
    "duration": 670,
    "start_time": "2023-02-09T20:49:57.567Z"
   },
   {
    "duration": 3861,
    "start_time": "2023-02-09T20:49:58.239Z"
   },
   {
    "duration": 586,
    "start_time": "2023-02-09T20:50:02.101Z"
   },
   {
    "duration": 15,
    "start_time": "2023-02-09T20:50:02.688Z"
   },
   {
    "duration": 38321,
    "start_time": "2023-02-09T20:50:02.705Z"
   },
   {
    "duration": 1173,
    "start_time": "2023-02-09T20:50:41.028Z"
   },
   {
    "duration": 10,
    "start_time": "2023-02-09T20:50:42.203Z"
   },
   {
    "duration": 46,
    "start_time": "2023-02-09T20:50:42.215Z"
   },
   {
    "duration": 21,
    "start_time": "2023-02-09T20:50:42.263Z"
   },
   {
    "duration": 16,
    "start_time": "2023-02-09T20:50:42.286Z"
   },
   {
    "duration": 8,
    "start_time": "2023-02-09T20:50:42.304Z"
   },
   {
    "duration": 1834,
    "start_time": "2023-02-09T20:50:42.314Z"
   },
   {
    "duration": 5499,
    "start_time": "2023-02-09T20:50:44.150Z"
   },
   {
    "duration": 4215,
    "start_time": "2023-02-09T20:50:49.650Z"
   },
   {
    "duration": 157,
    "start_time": "2023-02-09T20:50:53.867Z"
   },
   {
    "duration": 0,
    "start_time": "2023-02-09T20:50:54.026Z"
   },
   {
    "duration": 0,
    "start_time": "2023-02-09T20:50:54.026Z"
   },
   {
    "duration": 0,
    "start_time": "2023-02-09T20:50:54.028Z"
   },
   {
    "duration": 14,
    "start_time": "2023-02-09T20:52:41.405Z"
   },
   {
    "duration": 11,
    "start_time": "2023-02-09T20:52:44.125Z"
   },
   {
    "duration": 2576,
    "start_time": "2023-02-09T20:53:01.375Z"
   },
   {
    "duration": 43397,
    "start_time": "2023-02-09T20:53:03.953Z"
   },
   {
    "duration": 185200,
    "start_time": "2023-02-09T20:53:47.353Z"
   },
   {
    "duration": 105,
    "start_time": "2023-02-09T21:04:53.808Z"
   },
   {
    "duration": 53,
    "start_time": "2023-02-09T21:05:12.933Z"
   },
   {
    "duration": 79,
    "start_time": "2023-02-09T21:05:21.196Z"
   },
   {
    "duration": 58,
    "start_time": "2023-02-09T21:05:40.854Z"
   },
   {
    "duration": 30,
    "start_time": "2023-02-09T21:09:12.054Z"
   },
   {
    "duration": 76,
    "start_time": "2023-02-09T21:09:35.770Z"
   },
   {
    "duration": 83847,
    "start_time": "2023-02-09T21:10:06.512Z"
   },
   {
    "duration": 1662597,
    "start_time": "2023-02-09T21:11:51.986Z"
   },
   {
    "duration": 116,
    "start_time": "2023-02-10T07:51:50.949Z"
   },
   {
    "duration": 3,
    "start_time": "2023-02-10T07:52:13.901Z"
   },
   {
    "duration": 3493,
    "start_time": "2023-02-10T07:52:13.906Z"
   },
   {
    "duration": 5087,
    "start_time": "2023-02-10T07:52:17.401Z"
   },
   {
    "duration": 1716,
    "start_time": "2023-02-10T07:52:22.490Z"
   },
   {
    "duration": 3,
    "start_time": "2023-02-10T07:52:24.209Z"
   },
   {
    "duration": 726,
    "start_time": "2023-02-10T07:52:24.213Z"
   },
   {
    "duration": 4051,
    "start_time": "2023-02-10T07:52:24.941Z"
   },
   {
    "duration": 558,
    "start_time": "2023-02-10T07:52:28.994Z"
   },
   {
    "duration": 14,
    "start_time": "2023-02-10T07:52:29.554Z"
   },
   {
    "duration": 38106,
    "start_time": "2023-02-10T07:52:29.569Z"
   },
   {
    "duration": 1064,
    "start_time": "2023-02-10T07:53:07.677Z"
   },
   {
    "duration": 11,
    "start_time": "2023-02-10T07:53:08.748Z"
   },
   {
    "duration": 26,
    "start_time": "2023-02-10T07:53:08.760Z"
   },
   {
    "duration": 14,
    "start_time": "2023-02-10T07:53:08.787Z"
   },
   {
    "duration": 8,
    "start_time": "2023-02-10T07:53:08.802Z"
   },
   {
    "duration": 5,
    "start_time": "2023-02-10T07:53:08.812Z"
   },
   {
    "duration": 1677,
    "start_time": "2023-02-10T07:53:08.819Z"
   },
   {
    "duration": 5993,
    "start_time": "2023-02-10T07:53:10.497Z"
   },
   {
    "duration": 4070,
    "start_time": "2023-02-10T07:53:16.492Z"
   },
   {
    "duration": 13,
    "start_time": "2023-02-10T07:53:20.564Z"
   },
   {
    "duration": 14,
    "start_time": "2023-02-10T07:53:20.578Z"
   },
   {
    "duration": 2172,
    "start_time": "2023-02-10T07:53:20.594Z"
   },
   {
    "duration": 33708,
    "start_time": "2023-02-10T07:53:22.848Z"
   },
   {
    "duration": 187722,
    "start_time": "2023-02-10T07:53:56.648Z"
   },
   {
    "duration": 4551480,
    "start_time": "2023-02-10T07:57:04.453Z"
   },
   {
    "duration": 99,
    "start_time": "2023-02-10T09:17:26.853Z"
   },
   {
    "duration": 5,
    "start_time": "2023-02-10T09:17:44.566Z"
   },
   {
    "duration": 815965,
    "start_time": "2023-02-10T09:25:18.971Z"
   },
   {
    "duration": 11,
    "start_time": "2023-02-10T09:39:59.132Z"
   },
   {
    "duration": 19781,
    "start_time": "2023-02-10T09:40:21.147Z"
   },
   {
    "duration": 83587,
    "start_time": "2023-02-10T09:40:55.476Z"
   },
   {
    "duration": 444995,
    "start_time": "2023-02-10T09:46:10.091Z"
   },
   {
    "duration": 39389,
    "start_time": "2023-02-10T10:22:38.724Z"
   },
   {
    "duration": 237151,
    "start_time": "2023-02-10T10:23:24.171Z"
   },
   {
    "duration": 785,
    "start_time": "2023-02-10T10:27:31.723Z"
   },
   {
    "duration": 1578,
    "start_time": "2023-02-10T10:28:10.114Z"
   },
   {
    "duration": 571,
    "start_time": "2023-02-10T10:29:19.722Z"
   },
   {
    "duration": 636,
    "start_time": "2023-02-10T10:29:35.772Z"
   },
   {
    "duration": 2505,
    "start_time": "2023-02-10T10:29:54.002Z"
   },
   {
    "duration": 586,
    "start_time": "2023-02-10T10:30:15.161Z"
   },
   {
    "duration": 434917,
    "start_time": "2023-02-10T10:30:50.368Z"
   },
   {
    "duration": 2681997,
    "start_time": "2023-02-10T10:41:28.746Z"
   },
   {
    "duration": 49,
    "start_time": "2023-02-10T11:35:36.848Z"
   },
   {
    "duration": 61,
    "start_time": "2023-02-10T11:35:47.775Z"
   },
   {
    "duration": 35,
    "start_time": "2023-02-10T11:38:19.477Z"
   },
   {
    "duration": 40,
    "start_time": "2023-02-10T11:38:36.434Z"
   },
   {
    "duration": 50,
    "start_time": "2023-02-10T11:38:48.697Z"
   },
   {
    "duration": 14273,
    "start_time": "2023-02-10T11:39:01.776Z"
   },
   {
    "duration": 2477059,
    "start_time": "2023-02-10T11:39:22.496Z"
   },
   {
    "duration": 895,
    "start_time": "2023-02-10T12:24:26.919Z"
   },
   {
    "duration": 2506434,
    "start_time": "2023-02-10T12:25:19.495Z"
   },
   {
    "duration": 733598,
    "start_time": "2023-02-10T13:51:24.548Z"
   },
   {
    "duration": 3,
    "start_time": "2023-02-10T14:06:01.155Z"
   },
   {
    "duration": 2067,
    "start_time": "2023-02-10T14:06:01.160Z"
   },
   {
    "duration": 2221,
    "start_time": "2023-02-10T14:06:03.229Z"
   },
   {
    "duration": 5,
    "start_time": "2023-02-10T14:06:05.453Z"
   },
   {
    "duration": 14,
    "start_time": "2023-02-10T14:06:05.459Z"
   },
   {
    "duration": 679,
    "start_time": "2023-02-10T14:06:05.475Z"
   },
   {
    "duration": 4120,
    "start_time": "2023-02-10T14:06:06.155Z"
   },
   {
    "duration": 151,
    "start_time": "2023-02-10T14:06:10.277Z"
   },
   {
    "duration": 23,
    "start_time": "2023-02-10T14:06:10.430Z"
   },
   {
    "duration": 14106,
    "start_time": "2023-02-10T14:06:10.456Z"
   },
   {
    "duration": 0,
    "start_time": "2023-02-10T14:06:24.564Z"
   },
   {
    "duration": 0,
    "start_time": "2023-02-10T14:06:24.566Z"
   },
   {
    "duration": 0,
    "start_time": "2023-02-10T14:06:24.568Z"
   },
   {
    "duration": 0,
    "start_time": "2023-02-10T14:06:24.570Z"
   },
   {
    "duration": 0,
    "start_time": "2023-02-10T14:06:24.571Z"
   },
   {
    "duration": 0,
    "start_time": "2023-02-10T14:06:24.573Z"
   },
   {
    "duration": 1,
    "start_time": "2023-02-10T14:06:24.574Z"
   },
   {
    "duration": 0,
    "start_time": "2023-02-10T14:06:24.576Z"
   },
   {
    "duration": 0,
    "start_time": "2023-02-10T14:06:24.578Z"
   },
   {
    "duration": 0,
    "start_time": "2023-02-10T14:06:24.580Z"
   },
   {
    "duration": 0,
    "start_time": "2023-02-10T14:06:24.581Z"
   },
   {
    "duration": 0,
    "start_time": "2023-02-10T14:06:24.583Z"
   },
   {
    "duration": 0,
    "start_time": "2023-02-10T14:06:24.584Z"
   },
   {
    "duration": 0,
    "start_time": "2023-02-10T14:06:24.586Z"
   },
   {
    "duration": 6455,
    "start_time": "2023-02-10T14:06:34.517Z"
   },
   {
    "duration": 22609,
    "start_time": "2023-02-10T14:06:50.124Z"
   },
   {
    "duration": 1996,
    "start_time": "2023-02-10T14:07:12.735Z"
   },
   {
    "duration": 19,
    "start_time": "2023-02-10T14:07:14.732Z"
   },
   {
    "duration": 21,
    "start_time": "2023-02-10T14:07:14.753Z"
   },
   {
    "duration": 22,
    "start_time": "2023-02-10T14:07:14.776Z"
   },
   {
    "duration": 11,
    "start_time": "2023-02-10T14:07:14.799Z"
   },
   {
    "duration": 10,
    "start_time": "2023-02-10T14:07:15.052Z"
   },
   {
    "duration": 2341,
    "start_time": "2023-02-10T14:07:16.316Z"
   },
   {
    "duration": 6809,
    "start_time": "2023-02-10T14:07:18.659Z"
   },
   {
    "duration": 4740,
    "start_time": "2023-02-10T14:07:25.470Z"
   },
   {
    "duration": 12,
    "start_time": "2023-02-10T14:07:30.212Z"
   },
   {
    "duration": 24,
    "start_time": "2023-02-10T14:07:30.226Z"
   },
   {
    "duration": 2498,
    "start_time": "2023-02-10T14:07:30.252Z"
   },
   {
    "duration": 40100,
    "start_time": "2023-02-10T14:07:32.753Z"
   },
   {
    "duration": 282801,
    "start_time": "2023-02-10T14:08:12.948Z"
   },
   {
    "duration": 58782,
    "start_time": "2023-02-10T14:13:58.591Z"
   },
   {
    "duration": 18629,
    "start_time": "2023-02-10T14:15:05.016Z"
   },
   {
    "duration": 4,
    "start_time": "2023-02-10T14:15:35.753Z"
   },
   {
    "duration": 27183,
    "start_time": "2023-02-10T14:15:50.911Z"
   },
   {
    "duration": 17310,
    "start_time": "2023-02-10T14:16:24.801Z"
   },
   {
    "duration": 595,
    "start_time": "2023-02-10T14:17:14.069Z"
   },
   {
    "duration": 11629,
    "start_time": "2023-02-10T14:17:51.078Z"
   },
   {
    "duration": 2054,
    "start_time": "2023-02-10T14:25:41.076Z"
   },
   {
    "duration": 34,
    "start_time": "2023-02-10T14:30:57.490Z"
   },
   {
    "duration": 26,
    "start_time": "2023-02-10T14:31:02.243Z"
   },
   {
    "duration": 26,
    "start_time": "2023-02-10T14:31:12.643Z"
   },
   {
    "duration": 120057,
    "start_time": "2023-02-10T14:31:31.755Z"
   },
   {
    "duration": 35139,
    "start_time": "2023-02-10T14:34:05.339Z"
   },
   {
    "duration": 3,
    "start_time": "2023-02-12T16:25:10.049Z"
   },
   {
    "duration": 3630,
    "start_time": "2023-02-12T16:25:10.054Z"
   },
   {
    "duration": 5908,
    "start_time": "2023-02-12T16:25:13.686Z"
   },
   {
    "duration": 1466,
    "start_time": "2023-02-12T16:25:19.597Z"
   },
   {
    "duration": 3,
    "start_time": "2023-02-12T16:25:21.065Z"
   },
   {
    "duration": 794,
    "start_time": "2023-02-12T16:25:21.069Z"
   },
   {
    "duration": 4810,
    "start_time": "2023-02-12T16:25:21.865Z"
   },
   {
    "duration": 698,
    "start_time": "2023-02-12T16:25:26.677Z"
   },
   {
    "duration": 17,
    "start_time": "2023-02-12T16:25:27.377Z"
   },
   {
    "duration": 30445,
    "start_time": "2023-02-12T16:25:27.428Z"
   },
   {
    "duration": 2122,
    "start_time": "2023-02-12T16:25:57.875Z"
   },
   {
    "duration": 19,
    "start_time": "2023-02-12T16:25:59.999Z"
   },
   {
    "duration": 34,
    "start_time": "2023-02-12T16:26:00.020Z"
   },
   {
    "duration": 14,
    "start_time": "2023-02-12T16:26:00.056Z"
   },
   {
    "duration": 26,
    "start_time": "2023-02-12T16:26:00.072Z"
   },
   {
    "duration": 27,
    "start_time": "2023-02-12T16:26:00.100Z"
   },
   {
    "duration": 2547,
    "start_time": "2023-02-12T16:26:00.129Z"
   },
   {
    "duration": 7499,
    "start_time": "2023-02-12T16:26:02.678Z"
   },
   {
    "duration": 5049,
    "start_time": "2023-02-12T16:26:10.178Z"
   },
   {
    "duration": 11,
    "start_time": "2023-02-12T16:26:15.229Z"
   },
   {
    "duration": 9,
    "start_time": "2023-02-12T16:26:15.242Z"
   },
   {
    "duration": 2681,
    "start_time": "2023-02-12T16:26:15.252Z"
   },
   {
    "duration": 49588,
    "start_time": "2023-02-12T16:26:17.935Z"
   },
   {
    "duration": 212691,
    "start_time": "2023-02-12T16:27:07.529Z"
   },
   {
    "duration": 227693,
    "start_time": "2023-02-12T16:33:50.642Z"
   },
   {
    "duration": 284,
    "start_time": "2023-02-12T16:40:22.607Z"
   },
   {
    "duration": 1446,
    "start_time": "2023-02-12T16:40:35.929Z"
   },
   {
    "duration": 99,
    "start_time": "2023-02-12T16:41:47.763Z"
   },
   {
    "duration": 286055,
    "start_time": "2023-02-12T16:41:57.486Z"
   },
   {
    "duration": 1069401,
    "start_time": "2023-02-12T16:47:07.310Z"
   },
   {
    "duration": 379025,
    "start_time": "2023-02-12T18:34:52.588Z"
   },
   {
    "duration": 210424,
    "start_time": "2023-02-12T18:41:29.689Z"
   },
   {
    "duration": 234142,
    "start_time": "2023-02-12T19:09:36.581Z"
   },
   {
    "duration": 2,
    "start_time": "2023-02-12T19:15:28.328Z"
   },
   {
    "duration": 2296,
    "start_time": "2023-02-12T19:15:28.332Z"
   },
   {
    "duration": 2156,
    "start_time": "2023-02-12T19:15:30.631Z"
   },
   {
    "duration": 7,
    "start_time": "2023-02-12T19:15:32.790Z"
   },
   {
    "duration": 17,
    "start_time": "2023-02-12T19:15:32.798Z"
   },
   {
    "duration": 804,
    "start_time": "2023-02-12T19:15:32.816Z"
   },
   {
    "duration": 4628,
    "start_time": "2023-02-12T19:15:33.621Z"
   },
   {
    "duration": 134,
    "start_time": "2023-02-12T19:15:38.250Z"
   },
   {
    "duration": 23,
    "start_time": "2023-02-12T19:15:38.387Z"
   },
   {
    "duration": 31042,
    "start_time": "2023-02-12T19:15:38.412Z"
   },
   {
    "duration": 1900,
    "start_time": "2023-02-12T19:16:09.455Z"
   },
   {
    "duration": 11,
    "start_time": "2023-02-12T19:16:11.356Z"
   },
   {
    "duration": 25,
    "start_time": "2023-02-12T19:16:11.369Z"
   },
   {
    "duration": 11,
    "start_time": "2023-02-12T19:16:11.410Z"
   },
   {
    "duration": 10,
    "start_time": "2023-02-12T19:16:11.423Z"
   },
   {
    "duration": 7,
    "start_time": "2023-02-12T19:16:11.434Z"
   },
   {
    "duration": 2341,
    "start_time": "2023-02-12T19:16:11.443Z"
   },
   {
    "duration": 7117,
    "start_time": "2023-02-12T19:16:13.786Z"
   },
   {
    "duration": 4890,
    "start_time": "2023-02-12T19:16:20.904Z"
   },
   {
    "duration": 18,
    "start_time": "2023-02-12T19:16:25.796Z"
   },
   {
    "duration": 10,
    "start_time": "2023-02-12T19:16:25.816Z"
   },
   {
    "duration": 2586,
    "start_time": "2023-02-12T19:16:25.828Z"
   },
   {
    "duration": 41496,
    "start_time": "2023-02-12T19:16:28.416Z"
   },
   {
    "duration": 231104,
    "start_time": "2023-02-12T19:17:09.916Z"
   }
  ],
  "kernelspec": {
   "display_name": "Python 3 (ipykernel)",
   "language": "python",
   "name": "python3"
  },
  "language_info": {
   "codemirror_mode": {
    "name": "ipython",
    "version": 3
   },
   "file_extension": ".py",
   "mimetype": "text/x-python",
   "name": "python",
   "nbconvert_exporter": "python",
   "pygments_lexer": "ipython3",
   "version": "3.9.18"
  },
  "toc": {
   "base_numbering": 1,
   "nav_menu": {},
   "number_sections": true,
   "sideBar": true,
   "skip_h1_title": true,
   "title_cell": "Table of Contents",
   "title_sidebar": "Contents",
   "toc_cell": false,
   "toc_position": {
    "height": "calc(100% - 180px)",
    "left": "10px",
    "top": "150px",
    "width": "384px"
   },
   "toc_section_display": true,
   "toc_window_display": true
  }
 },
 "nbformat": 4,
 "nbformat_minor": 5
}
